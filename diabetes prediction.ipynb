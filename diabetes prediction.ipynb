{
 "cells": [
  {
   "cell_type": "markdown",
   "metadata": {},
   "source": [
    "# Classification Models"
   ]
  },
  {
   "cell_type": "markdown",
   "metadata": {},
   "source": [
    "# Libraries and functions"
   ]
  },
  {
   "cell_type": "code",
   "execution_count": 164,
   "metadata": {},
   "outputs": [],
   "source": [
    "import numpy as np\n",
    "import pandas as pd \n",
    "import statsmodels.api as sm\n",
    "import seaborn as sns\n",
    "import matplotlib.pyplot as plt\n",
    "from sklearn.preprocessing import scale, StandardScaler\n",
    "from sklearn.model_selection import train_test_split, GridSearchCV, cross_val_score\n",
    "from sklearn.metrics import confusion_matrix, accuracy_score, mean_squared_error, r2_score, roc_auc_score, roc_curve, classification_report\n",
    "from sklearn.linear_model import LogisticRegression\n",
    "from sklearn.neighbors import KNeighborsClassifier\n",
    "from sklearn.svm import SVC\n",
    "from sklearn.neural_network import MLPClassifier\n",
    "from sklearn.tree import DecisionTreeClassifier\n",
    "from sklearn.ensemble import RandomForestClassifier\n",
    "from sklearn.ensemble import GradientBoostingClassifier"
   ]
  },
  {
   "cell_type": "code",
   "execution_count": 165,
   "metadata": {},
   "outputs": [],
   "source": [
    "import warnings\n",
    "warnings.filterwarnings(\"ignore\", category=DeprecationWarning) \n",
    "warnings.filterwarnings(\"ignore\", category=FutureWarning) "
   ]
  },
  {
   "cell_type": "markdown",
   "metadata": {},
   "source": [
    "# Understand Dataset and Problem: Diabetes Prediction"
   ]
  },
  {
   "cell_type": "markdown",
   "metadata": {},
   "source": [
    "We would like to predict if a person has some test results has diabetes or not.  \n",
    "We have some independent variables:  Pregnancies, Glucose, BloodPressure, SkinThickness, Insulin, BMI, DiabetesPedigreeFunction, Age.\n",
    "\n",
    "Dependent variable : Outcome (1 : patient has diabetes,  0 : patient has no diabetes)\n",
    "\n",
    "We will predict Outcome variable by using multiple classification models such as:\n",
    "\n",
    "        Logistic Regression, \n",
    "        KNN, \n",
    "        SVM, \n",
    "        Artificial Neural Networks, \n",
    "        Decision Tree, \n",
    "        Random Forest, \n",
    "        Gradient Boosting, \n",
    "        XGBoost, \n",
    "        Light GBM,\n",
    "        CatBoost.\n",
    "        \n",
    "We will use Cross validation for each model to get better predictions.\n",
    "Then we will compare RMSE values to decide which algorith works better."
   ]
  },
  {
   "cell_type": "code",
   "execution_count": 166,
   "metadata": {},
   "outputs": [],
   "source": [
    "df = pd.read_csv(\"./diabetes.csv\")"
   ]
  },
  {
   "cell_type": "code",
   "execution_count": 167,
   "metadata": {},
   "outputs": [
    {
     "data": {
      "text/html": [
       "<div>\n",
       "<style scoped>\n",
       "    .dataframe tbody tr th:only-of-type {\n",
       "        vertical-align: middle;\n",
       "    }\n",
       "\n",
       "    .dataframe tbody tr th {\n",
       "        vertical-align: top;\n",
       "    }\n",
       "\n",
       "    .dataframe thead th {\n",
       "        text-align: right;\n",
       "    }\n",
       "</style>\n",
       "<table border=\"1\" class=\"dataframe\">\n",
       "  <thead>\n",
       "    <tr style=\"text-align: right;\">\n",
       "      <th></th>\n",
       "      <th>Pregnancies</th>\n",
       "      <th>Glucose</th>\n",
       "      <th>BloodPressure</th>\n",
       "      <th>SkinThickness</th>\n",
       "      <th>Insulin</th>\n",
       "      <th>BMI</th>\n",
       "      <th>DiabetesPedigreeFunction</th>\n",
       "      <th>Age</th>\n",
       "      <th>Outcome</th>\n",
       "    </tr>\n",
       "  </thead>\n",
       "  <tbody>\n",
       "    <tr>\n",
       "      <th>0</th>\n",
       "      <td>6</td>\n",
       "      <td>148</td>\n",
       "      <td>72</td>\n",
       "      <td>35</td>\n",
       "      <td>0</td>\n",
       "      <td>33.6</td>\n",
       "      <td>0.627</td>\n",
       "      <td>50</td>\n",
       "      <td>1</td>\n",
       "    </tr>\n",
       "    <tr>\n",
       "      <th>1</th>\n",
       "      <td>1</td>\n",
       "      <td>85</td>\n",
       "      <td>66</td>\n",
       "      <td>29</td>\n",
       "      <td>0</td>\n",
       "      <td>26.6</td>\n",
       "      <td>0.351</td>\n",
       "      <td>31</td>\n",
       "      <td>0</td>\n",
       "    </tr>\n",
       "    <tr>\n",
       "      <th>2</th>\n",
       "      <td>8</td>\n",
       "      <td>183</td>\n",
       "      <td>64</td>\n",
       "      <td>0</td>\n",
       "      <td>0</td>\n",
       "      <td>23.3</td>\n",
       "      <td>0.672</td>\n",
       "      <td>32</td>\n",
       "      <td>1</td>\n",
       "    </tr>\n",
       "    <tr>\n",
       "      <th>3</th>\n",
       "      <td>1</td>\n",
       "      <td>89</td>\n",
       "      <td>66</td>\n",
       "      <td>23</td>\n",
       "      <td>94</td>\n",
       "      <td>28.1</td>\n",
       "      <td>0.167</td>\n",
       "      <td>21</td>\n",
       "      <td>0</td>\n",
       "    </tr>\n",
       "    <tr>\n",
       "      <th>4</th>\n",
       "      <td>0</td>\n",
       "      <td>137</td>\n",
       "      <td>40</td>\n",
       "      <td>35</td>\n",
       "      <td>168</td>\n",
       "      <td>43.1</td>\n",
       "      <td>2.288</td>\n",
       "      <td>33</td>\n",
       "      <td>1</td>\n",
       "    </tr>\n",
       "  </tbody>\n",
       "</table>\n",
       "</div>"
      ],
      "text/plain": [
       "   Pregnancies  Glucose  BloodPressure  SkinThickness  Insulin   BMI  \\\n",
       "0            6      148             72             35        0  33.6   \n",
       "1            1       85             66             29        0  26.6   \n",
       "2            8      183             64              0        0  23.3   \n",
       "3            1       89             66             23       94  28.1   \n",
       "4            0      137             40             35      168  43.1   \n",
       "\n",
       "   DiabetesPedigreeFunction  Age  Outcome  \n",
       "0                     0.627   50        1  \n",
       "1                     0.351   31        0  \n",
       "2                     0.672   32        1  \n",
       "3                     0.167   21        0  \n",
       "4                     2.288   33        1  "
      ]
     },
     "execution_count": 167,
     "metadata": {},
     "output_type": "execute_result"
    }
   ],
   "source": [
    "df.head()"
   ]
  },
  {
   "cell_type": "markdown",
   "metadata": {},
   "source": [
    "# Logistic Regression"
   ]
  },
  {
   "cell_type": "markdown",
   "metadata": {},
   "source": [
    "# Model & Prediction"
   ]
  },
  {
   "cell_type": "code",
   "execution_count": 168,
   "metadata": {},
   "outputs": [
    {
     "data": {
      "text/plain": [
       "0    500\n",
       "1    268\n",
       "Name: Outcome, dtype: int64"
      ]
     },
     "execution_count": 168,
     "metadata": {},
     "output_type": "execute_result"
    }
   ],
   "source": [
    "df[\"Outcome\"].value_counts()"
   ]
  },
  {
   "cell_type": "code",
   "execution_count": 169,
   "metadata": {},
   "outputs": [
    {
     "data": {
      "text/html": [
       "<div>\n",
       "<style scoped>\n",
       "    .dataframe tbody tr th:only-of-type {\n",
       "        vertical-align: middle;\n",
       "    }\n",
       "\n",
       "    .dataframe tbody tr th {\n",
       "        vertical-align: top;\n",
       "    }\n",
       "\n",
       "    .dataframe thead th {\n",
       "        text-align: right;\n",
       "    }\n",
       "</style>\n",
       "<table border=\"1\" class=\"dataframe\">\n",
       "  <thead>\n",
       "    <tr style=\"text-align: right;\">\n",
       "      <th></th>\n",
       "      <th>count</th>\n",
       "      <th>mean</th>\n",
       "      <th>std</th>\n",
       "      <th>min</th>\n",
       "      <th>25%</th>\n",
       "      <th>50%</th>\n",
       "      <th>75%</th>\n",
       "      <th>max</th>\n",
       "    </tr>\n",
       "  </thead>\n",
       "  <tbody>\n",
       "    <tr>\n",
       "      <th>Pregnancies</th>\n",
       "      <td>768.0</td>\n",
       "      <td>3.845052</td>\n",
       "      <td>3.369578</td>\n",
       "      <td>0.000</td>\n",
       "      <td>1.00000</td>\n",
       "      <td>3.0000</td>\n",
       "      <td>6.00000</td>\n",
       "      <td>17.00</td>\n",
       "    </tr>\n",
       "    <tr>\n",
       "      <th>Glucose</th>\n",
       "      <td>768.0</td>\n",
       "      <td>120.894531</td>\n",
       "      <td>31.972618</td>\n",
       "      <td>0.000</td>\n",
       "      <td>99.00000</td>\n",
       "      <td>117.0000</td>\n",
       "      <td>140.25000</td>\n",
       "      <td>199.00</td>\n",
       "    </tr>\n",
       "    <tr>\n",
       "      <th>BloodPressure</th>\n",
       "      <td>768.0</td>\n",
       "      <td>69.105469</td>\n",
       "      <td>19.355807</td>\n",
       "      <td>0.000</td>\n",
       "      <td>62.00000</td>\n",
       "      <td>72.0000</td>\n",
       "      <td>80.00000</td>\n",
       "      <td>122.00</td>\n",
       "    </tr>\n",
       "    <tr>\n",
       "      <th>SkinThickness</th>\n",
       "      <td>768.0</td>\n",
       "      <td>20.536458</td>\n",
       "      <td>15.952218</td>\n",
       "      <td>0.000</td>\n",
       "      <td>0.00000</td>\n",
       "      <td>23.0000</td>\n",
       "      <td>32.00000</td>\n",
       "      <td>99.00</td>\n",
       "    </tr>\n",
       "    <tr>\n",
       "      <th>Insulin</th>\n",
       "      <td>768.0</td>\n",
       "      <td>79.799479</td>\n",
       "      <td>115.244002</td>\n",
       "      <td>0.000</td>\n",
       "      <td>0.00000</td>\n",
       "      <td>30.5000</td>\n",
       "      <td>127.25000</td>\n",
       "      <td>846.00</td>\n",
       "    </tr>\n",
       "    <tr>\n",
       "      <th>BMI</th>\n",
       "      <td>768.0</td>\n",
       "      <td>31.992578</td>\n",
       "      <td>7.884160</td>\n",
       "      <td>0.000</td>\n",
       "      <td>27.30000</td>\n",
       "      <td>32.0000</td>\n",
       "      <td>36.60000</td>\n",
       "      <td>67.10</td>\n",
       "    </tr>\n",
       "    <tr>\n",
       "      <th>DiabetesPedigreeFunction</th>\n",
       "      <td>768.0</td>\n",
       "      <td>0.471876</td>\n",
       "      <td>0.331329</td>\n",
       "      <td>0.078</td>\n",
       "      <td>0.24375</td>\n",
       "      <td>0.3725</td>\n",
       "      <td>0.62625</td>\n",
       "      <td>2.42</td>\n",
       "    </tr>\n",
       "    <tr>\n",
       "      <th>Age</th>\n",
       "      <td>768.0</td>\n",
       "      <td>33.240885</td>\n",
       "      <td>11.760232</td>\n",
       "      <td>21.000</td>\n",
       "      <td>24.00000</td>\n",
       "      <td>29.0000</td>\n",
       "      <td>41.00000</td>\n",
       "      <td>81.00</td>\n",
       "    </tr>\n",
       "    <tr>\n",
       "      <th>Outcome</th>\n",
       "      <td>768.0</td>\n",
       "      <td>0.348958</td>\n",
       "      <td>0.476951</td>\n",
       "      <td>0.000</td>\n",
       "      <td>0.00000</td>\n",
       "      <td>0.0000</td>\n",
       "      <td>1.00000</td>\n",
       "      <td>1.00</td>\n",
       "    </tr>\n",
       "  </tbody>\n",
       "</table>\n",
       "</div>"
      ],
      "text/plain": [
       "                          count        mean         std     min       25%  \\\n",
       "Pregnancies               768.0    3.845052    3.369578   0.000   1.00000   \n",
       "Glucose                   768.0  120.894531   31.972618   0.000  99.00000   \n",
       "BloodPressure             768.0   69.105469   19.355807   0.000  62.00000   \n",
       "SkinThickness             768.0   20.536458   15.952218   0.000   0.00000   \n",
       "Insulin                   768.0   79.799479  115.244002   0.000   0.00000   \n",
       "BMI                       768.0   31.992578    7.884160   0.000  27.30000   \n",
       "DiabetesPedigreeFunction  768.0    0.471876    0.331329   0.078   0.24375   \n",
       "Age                       768.0   33.240885   11.760232  21.000  24.00000   \n",
       "Outcome                   768.0    0.348958    0.476951   0.000   0.00000   \n",
       "\n",
       "                               50%        75%     max  \n",
       "Pregnancies                 3.0000    6.00000   17.00  \n",
       "Glucose                   117.0000  140.25000  199.00  \n",
       "BloodPressure              72.0000   80.00000  122.00  \n",
       "SkinThickness              23.0000   32.00000   99.00  \n",
       "Insulin                    30.5000  127.25000  846.00  \n",
       "BMI                        32.0000   36.60000   67.10  \n",
       "DiabetesPedigreeFunction    0.3725    0.62625    2.42  \n",
       "Age                        29.0000   41.00000   81.00  \n",
       "Outcome                     0.0000    1.00000    1.00  "
      ]
     },
     "execution_count": 169,
     "metadata": {},
     "output_type": "execute_result"
    }
   ],
   "source": [
    "df.describe().T"
   ]
  },
  {
   "cell_type": "code",
   "execution_count": 170,
   "metadata": {},
   "outputs": [],
   "source": [
    "y = df[\"Outcome\"] # dependent variable\n",
    "X = df.drop([\"Outcome\"], axis = 1) # independent variables"
   ]
  },
  {
   "cell_type": "code",
   "execution_count": 171,
   "metadata": {},
   "outputs": [
    {
     "data": {
      "text/plain": [
       "0    1\n",
       "1    0\n",
       "2    1\n",
       "3    0\n",
       "4    1\n",
       "Name: Outcome, dtype: int64"
      ]
     },
     "execution_count": 171,
     "metadata": {},
     "output_type": "execute_result"
    }
   ],
   "source": [
    "y.head()"
   ]
  },
  {
   "cell_type": "code",
   "execution_count": 172,
   "metadata": {},
   "outputs": [
    {
     "data": {
      "text/html": [
       "<div>\n",
       "<style scoped>\n",
       "    .dataframe tbody tr th:only-of-type {\n",
       "        vertical-align: middle;\n",
       "    }\n",
       "\n",
       "    .dataframe tbody tr th {\n",
       "        vertical-align: top;\n",
       "    }\n",
       "\n",
       "    .dataframe thead th {\n",
       "        text-align: right;\n",
       "    }\n",
       "</style>\n",
       "<table border=\"1\" class=\"dataframe\">\n",
       "  <thead>\n",
       "    <tr style=\"text-align: right;\">\n",
       "      <th></th>\n",
       "      <th>Pregnancies</th>\n",
       "      <th>Glucose</th>\n",
       "      <th>BloodPressure</th>\n",
       "      <th>SkinThickness</th>\n",
       "      <th>Insulin</th>\n",
       "      <th>BMI</th>\n",
       "      <th>DiabetesPedigreeFunction</th>\n",
       "      <th>Age</th>\n",
       "    </tr>\n",
       "  </thead>\n",
       "  <tbody>\n",
       "    <tr>\n",
       "      <th>0</th>\n",
       "      <td>6</td>\n",
       "      <td>148</td>\n",
       "      <td>72</td>\n",
       "      <td>35</td>\n",
       "      <td>0</td>\n",
       "      <td>33.6</td>\n",
       "      <td>0.627</td>\n",
       "      <td>50</td>\n",
       "    </tr>\n",
       "    <tr>\n",
       "      <th>1</th>\n",
       "      <td>1</td>\n",
       "      <td>85</td>\n",
       "      <td>66</td>\n",
       "      <td>29</td>\n",
       "      <td>0</td>\n",
       "      <td>26.6</td>\n",
       "      <td>0.351</td>\n",
       "      <td>31</td>\n",
       "    </tr>\n",
       "    <tr>\n",
       "      <th>2</th>\n",
       "      <td>8</td>\n",
       "      <td>183</td>\n",
       "      <td>64</td>\n",
       "      <td>0</td>\n",
       "      <td>0</td>\n",
       "      <td>23.3</td>\n",
       "      <td>0.672</td>\n",
       "      <td>32</td>\n",
       "    </tr>\n",
       "    <tr>\n",
       "      <th>3</th>\n",
       "      <td>1</td>\n",
       "      <td>89</td>\n",
       "      <td>66</td>\n",
       "      <td>23</td>\n",
       "      <td>94</td>\n",
       "      <td>28.1</td>\n",
       "      <td>0.167</td>\n",
       "      <td>21</td>\n",
       "    </tr>\n",
       "    <tr>\n",
       "      <th>4</th>\n",
       "      <td>0</td>\n",
       "      <td>137</td>\n",
       "      <td>40</td>\n",
       "      <td>35</td>\n",
       "      <td>168</td>\n",
       "      <td>43.1</td>\n",
       "      <td>2.288</td>\n",
       "      <td>33</td>\n",
       "    </tr>\n",
       "  </tbody>\n",
       "</table>\n",
       "</div>"
      ],
      "text/plain": [
       "   Pregnancies  Glucose  BloodPressure  SkinThickness  Insulin   BMI  \\\n",
       "0            6      148             72             35        0  33.6   \n",
       "1            1       85             66             29        0  26.6   \n",
       "2            8      183             64              0        0  23.3   \n",
       "3            1       89             66             23       94  28.1   \n",
       "4            0      137             40             35      168  43.1   \n",
       "\n",
       "   DiabetesPedigreeFunction  Age  \n",
       "0                     0.627   50  \n",
       "1                     0.351   31  \n",
       "2                     0.672   32  \n",
       "3                     0.167   21  \n",
       "4                     2.288   33  "
      ]
     },
     "execution_count": 172,
     "metadata": {},
     "output_type": "execute_result"
    }
   ],
   "source": [
    "X.head()"
   ]
  },
  {
   "cell_type": "code",
   "execution_count": 173,
   "metadata": {},
   "outputs": [],
   "source": [
    "loj_model = LogisticRegression(solver = \"liblinear\").fit(X,y)"
   ]
  },
  {
   "cell_type": "code",
   "execution_count": 174,
   "metadata": {},
   "outputs": [
    {
     "data": {
      "text/plain": [
       "array([-5.89159518])"
      ]
     },
     "execution_count": 174,
     "metadata": {},
     "output_type": "execute_result"
    }
   ],
   "source": [
    "loj_model.intercept_"
   ]
  },
  {
   "cell_type": "code",
   "execution_count": 175,
   "metadata": {},
   "outputs": [
    {
     "data": {
      "text/plain": [
       "array([[ 1.17052230e-01,  2.83873955e-02, -1.68897224e-02,\n",
       "         7.55274087e-04, -6.42755924e-04,  5.97603789e-02,\n",
       "         6.77671880e-01,  7.23947807e-03]])"
      ]
     },
     "execution_count": 175,
     "metadata": {},
     "output_type": "execute_result"
    }
   ],
   "source": [
    "loj_model.coef_"
   ]
  },
  {
   "cell_type": "code",
   "execution_count": 176,
   "metadata": {},
   "outputs": [
    {
     "data": {
      "text/plain": [
       "array([1, 0, 1, 0, 1, 0, 0, 1, 1, 0], dtype=int64)"
      ]
     },
     "execution_count": 176,
     "metadata": {},
     "output_type": "execute_result"
    }
   ],
   "source": [
    "#prediction\n",
    "loj_model.predict(X)[0:10]"
   ]
  },
  {
   "cell_type": "code",
   "execution_count": 177,
   "metadata": {},
   "outputs": [
    {
     "data": {
      "text/plain": [
       "0    1\n",
       "1    0\n",
       "2    1\n",
       "3    0\n",
       "4    1\n",
       "5    0\n",
       "6    1\n",
       "7    0\n",
       "8    1\n",
       "9    1\n",
       "Name: Outcome, dtype: int64"
      ]
     },
     "execution_count": 177,
     "metadata": {},
     "output_type": "execute_result"
    }
   ],
   "source": [
    "y[0:10]"
   ]
  },
  {
   "cell_type": "code",
   "execution_count": 178,
   "metadata": {},
   "outputs": [],
   "source": [
    "y_pred = loj_model.predict(X)"
   ]
  },
  {
   "cell_type": "code",
   "execution_count": 179,
   "metadata": {},
   "outputs": [
    {
     "data": {
      "text/plain": [
       "array([[448,  52],\n",
       "       [121, 147]], dtype=int64)"
      ]
     },
     "execution_count": 179,
     "metadata": {},
     "output_type": "execute_result"
    }
   ],
   "source": [
    "confusion_matrix(y, y_pred)"
   ]
  },
  {
   "cell_type": "code",
   "execution_count": 180,
   "metadata": {},
   "outputs": [
    {
     "data": {
      "text/plain": [
       "0.7747395833333334"
      ]
     },
     "execution_count": 180,
     "metadata": {},
     "output_type": "execute_result"
    }
   ],
   "source": [
    "accuracy_score(y, y_pred)"
   ]
  },
  {
   "cell_type": "code",
   "execution_count": 181,
   "metadata": {},
   "outputs": [
    {
     "name": "stdout",
     "output_type": "stream",
     "text": [
      "              precision    recall  f1-score   support\n",
      "\n",
      "           0       0.79      0.90      0.84       500\n",
      "           1       0.74      0.55      0.63       268\n",
      "\n",
      "    accuracy                           0.77       768\n",
      "   macro avg       0.76      0.72      0.73       768\n",
      "weighted avg       0.77      0.77      0.77       768\n",
      "\n"
     ]
    }
   ],
   "source": [
    "print(classification_report(y, y_pred))"
   ]
  },
  {
   "cell_type": "markdown",
   "metadata": {},
   "source": [
    "# ROC CUrve"
   ]
  },
  {
   "cell_type": "code",
   "execution_count": 182,
   "metadata": {},
   "outputs": [
    {
     "data": {
      "image/png": "[encoded data removed]",
      "text/plain": [
       "<Figure size 432x288 with 1 Axes>"
      ]
     },
     "metadata": {
      "needs_background": "light"
     },
     "output_type": "display_data"
    }
   ],
   "source": [
    "logit_roc_auc = roc_auc_score(y, loj_model.predict(X))\n",
    "fpr, tpr, thresholds = roc_curve(y, loj_model.predict_proba(X)[:,1])\n",
    "plt.figure()\n",
    "plt.plot(fpr, tpr, label='AUC (area = %0.2f)' % logit_roc_auc)\n",
    "plt.plot([0, 1], [0, 1],'r--')\n",
    "plt.xlim([0.0, 1.0])\n",
    "plt.ylim([0.0, 1.05])\n",
    "plt.xlabel('False Positive Rate')\n",
    "plt.ylabel('True Positive Rate')\n",
    "plt.title('Receiver operating characteristic')\n",
    "plt.legend(loc=\"lower right\")\n",
    "plt.savefig('Log_ROC')\n",
    "plt.show()"
   ]
  },
  {
   "cell_type": "markdown",
   "metadata": {},
   "source": [
    "# Model Tuning"
   ]
  },
  {
   "cell_type": "code",
   "execution_count": 183,
   "metadata": {},
   "outputs": [],
   "source": [
    "X_train, X_test, y_train, y_test = train_test_split(X, \n",
    "                                                    y, \n",
    "                                                    test_size=0.30, \n",
    "                                                    random_state=42)"
   ]
  },
  {
   "cell_type": "code",
   "execution_count": 184,
   "metadata": {},
   "outputs": [],
   "source": [
    "loj_model = LogisticRegression(solver = \"liblinear\").fit(X_train,y_train)"
   ]
  },
  {
   "cell_type": "code",
   "execution_count": 185,
   "metadata": {},
   "outputs": [],
   "source": [
    "y_pred = loj_model.predict(X_test)"
   ]
  },
  {
   "cell_type": "code",
   "execution_count": 186,
   "metadata": {},
   "outputs": [
    {
     "name": "stdout",
     "output_type": "stream",
     "text": [
      "0.7532467532467533\n"
     ]
    }
   ],
   "source": [
    "print(accuracy_score(y_test, y_pred))"
   ]
  },
  {
   "cell_type": "code",
   "execution_count": 187,
   "metadata": {},
   "outputs": [
    {
     "data": {
      "text/plain": [
       "0.7704710144927536"
      ]
     },
     "execution_count": 187,
     "metadata": {},
     "output_type": "execute_result"
    }
   ],
   "source": [
    "cross_val_score(loj_model, X_test, y_test, cv = 10).mean()"
   ]
  },
  {
   "cell_type": "markdown",
   "metadata": {},
   "source": [
    "# K-Nearest Neighbor (KNN)"
   ]
  },
  {
   "cell_type": "code",
   "execution_count": 188,
   "metadata": {},
   "outputs": [
    {
     "data": {
      "text/html": [
       "<div>\n",
       "<style scoped>\n",
       "    .dataframe tbody tr th:only-of-type {\n",
       "        vertical-align: middle;\n",
       "    }\n",
       "\n",
       "    .dataframe tbody tr th {\n",
       "        vertical-align: top;\n",
       "    }\n",
       "\n",
       "    .dataframe thead th {\n",
       "        text-align: right;\n",
       "    }\n",
       "</style>\n",
       "<table border=\"1\" class=\"dataframe\">\n",
       "  <thead>\n",
       "    <tr style=\"text-align: right;\">\n",
       "      <th></th>\n",
       "      <th>Pregnancies</th>\n",
       "      <th>Glucose</th>\n",
       "      <th>BloodPressure</th>\n",
       "      <th>SkinThickness</th>\n",
       "      <th>Insulin</th>\n",
       "      <th>BMI</th>\n",
       "      <th>DiabetesPedigreeFunction</th>\n",
       "      <th>Age</th>\n",
       "      <th>Outcome</th>\n",
       "    </tr>\n",
       "  </thead>\n",
       "  <tbody>\n",
       "    <tr>\n",
       "      <th>0</th>\n",
       "      <td>6</td>\n",
       "      <td>148</td>\n",
       "      <td>72</td>\n",
       "      <td>35</td>\n",
       "      <td>0</td>\n",
       "      <td>33.6</td>\n",
       "      <td>0.627</td>\n",
       "      <td>50</td>\n",
       "      <td>1</td>\n",
       "    </tr>\n",
       "    <tr>\n",
       "      <th>1</th>\n",
       "      <td>1</td>\n",
       "      <td>85</td>\n",
       "      <td>66</td>\n",
       "      <td>29</td>\n",
       "      <td>0</td>\n",
       "      <td>26.6</td>\n",
       "      <td>0.351</td>\n",
       "      <td>31</td>\n",
       "      <td>0</td>\n",
       "    </tr>\n",
       "    <tr>\n",
       "      <th>2</th>\n",
       "      <td>8</td>\n",
       "      <td>183</td>\n",
       "      <td>64</td>\n",
       "      <td>0</td>\n",
       "      <td>0</td>\n",
       "      <td>23.3</td>\n",
       "      <td>0.672</td>\n",
       "      <td>32</td>\n",
       "      <td>1</td>\n",
       "    </tr>\n",
       "    <tr>\n",
       "      <th>3</th>\n",
       "      <td>1</td>\n",
       "      <td>89</td>\n",
       "      <td>66</td>\n",
       "      <td>23</td>\n",
       "      <td>94</td>\n",
       "      <td>28.1</td>\n",
       "      <td>0.167</td>\n",
       "      <td>21</td>\n",
       "      <td>0</td>\n",
       "    </tr>\n",
       "    <tr>\n",
       "      <th>4</th>\n",
       "      <td>0</td>\n",
       "      <td>137</td>\n",
       "      <td>40</td>\n",
       "      <td>35</td>\n",
       "      <td>168</td>\n",
       "      <td>43.1</td>\n",
       "      <td>2.288</td>\n",
       "      <td>33</td>\n",
       "      <td>1</td>\n",
       "    </tr>\n",
       "  </tbody>\n",
       "</table>\n",
       "</div>"
      ],
      "text/plain": [
       "   Pregnancies  Glucose  BloodPressure  SkinThickness  Insulin   BMI  \\\n",
       "0            6      148             72             35        0  33.6   \n",
       "1            1       85             66             29        0  26.6   \n",
       "2            8      183             64              0        0  23.3   \n",
       "3            1       89             66             23       94  28.1   \n",
       "4            0      137             40             35      168  43.1   \n",
       "\n",
       "   DiabetesPedigreeFunction  Age  Outcome  \n",
       "0                     0.627   50        1  \n",
       "1                     0.351   31        0  \n",
       "2                     0.672   32        1  \n",
       "3                     0.167   21        0  \n",
       "4                     2.288   33        1  "
      ]
     },
     "execution_count": 188,
     "metadata": {},
     "output_type": "execute_result"
    }
   ],
   "source": [
    "df.head()"
   ]
  },
  {
   "cell_type": "code",
   "execution_count": 189,
   "metadata": {},
   "outputs": [],
   "source": [
    "y = df[\"Outcome\"]\n",
    "X = df.drop(['Outcome'], axis=1)\n",
    "X_train, X_test, y_train, y_test = train_test_split(X, y, \n",
    "                                                    test_size=0.30, \n",
    "                                                    random_state=42)"
   ]
  },
  {
   "cell_type": "markdown",
   "metadata": {},
   "source": [
    "# Model & Prediction"
   ]
  },
  {
   "cell_type": "code",
   "execution_count": 190,
   "metadata": {},
   "outputs": [],
   "source": [
    "knn_model = KNeighborsClassifier().fit(X_train, y_train)"
   ]
  },
  {
   "cell_type": "code",
   "execution_count": 191,
   "metadata": {},
   "outputs": [
    {
     "data": {
      "text/plain": [
       "KNeighborsClassifier(algorithm='auto', leaf_size=30, metric='minkowski',\n",
       "                     metric_params=None, n_jobs=None, n_neighbors=5, p=2,\n",
       "                     weights='uniform')"
      ]
     },
     "execution_count": 191,
     "metadata": {},
     "output_type": "execute_result"
    }
   ],
   "source": [
    "knn_model"
   ]
  },
  {
   "cell_type": "code",
   "execution_count": 192,
   "metadata": {},
   "outputs": [],
   "source": [
    "y_pred = knn_model.predict(X_test)"
   ]
  },
  {
   "cell_type": "code",
   "execution_count": 193,
   "metadata": {},
   "outputs": [
    {
     "data": {
      "text/plain": [
       "0.6883116883116883"
      ]
     },
     "execution_count": 193,
     "metadata": {},
     "output_type": "execute_result"
    }
   ],
   "source": [
    "accuracy_score(y_test, y_pred)"
   ]
  },
  {
   "cell_type": "code",
   "execution_count": 194,
   "metadata": {},
   "outputs": [
    {
     "name": "stdout",
     "output_type": "stream",
     "text": [
      "              precision    recall  f1-score   support\n",
      "\n",
      "           0       0.77      0.75      0.76       151\n",
      "           1       0.55      0.56      0.56        80\n",
      "\n",
      "    accuracy                           0.69       231\n",
      "   macro avg       0.66      0.66      0.66       231\n",
      "weighted avg       0.69      0.69      0.69       231\n",
      "\n"
     ]
    }
   ],
   "source": [
    "print(classification_report(y_test, y_pred))"
   ]
  },
  {
   "cell_type": "markdown",
   "metadata": {},
   "source": [
    "# Model Tuning"
   ]
  },
  {
   "cell_type": "code",
   "execution_count": 195,
   "metadata": {},
   "outputs": [],
   "source": [
    "knn = KNeighborsClassifier()"
   ]
  },
  {
   "cell_type": "code",
   "execution_count": 196,
   "metadata": {},
   "outputs": [
    {
     "data": {
      "text/plain": [
       "array([ 1,  2,  3,  4,  5,  6,  7,  8,  9, 10, 11, 12, 13, 14, 15, 16, 17,\n",
       "       18, 19, 20, 21, 22, 23, 24, 25, 26, 27, 28, 29, 30, 31, 32, 33, 34,\n",
       "       35, 36, 37, 38, 39, 40, 41, 42, 43, 44, 45, 46, 47, 48, 49])"
      ]
     },
     "execution_count": 196,
     "metadata": {},
     "output_type": "execute_result"
    }
   ],
   "source": [
    "np.arange(1,50)"
   ]
  },
  {
   "cell_type": "code",
   "execution_count": 197,
   "metadata": {},
   "outputs": [],
   "source": [
    "knn_params = {\"n_neighbors\": np.arange(1,50)}"
   ]
  },
  {
   "cell_type": "code",
   "execution_count": 198,
   "metadata": {},
   "outputs": [],
   "source": [
    "knn_cv_model = GridSearchCV(knn, knn_params, cv = 10).fit(X_train, y_train)"
   ]
  },
  {
   "cell_type": "code",
   "execution_count": 199,
   "metadata": {},
   "outputs": [
    {
     "data": {
      "text/plain": [
       "0.748637316561845"
      ]
     },
     "execution_count": 199,
     "metadata": {},
     "output_type": "execute_result"
    }
   ],
   "source": [
    "knn_cv_model.best_score_"
   ]
  },
  {
   "cell_type": "code",
   "execution_count": 200,
   "metadata": {},
   "outputs": [
    {
     "data": {
      "text/plain": [
       "{'n_neighbors': 11}"
      ]
     },
     "execution_count": 200,
     "metadata": {},
     "output_type": "execute_result"
    }
   ],
   "source": [
    "knn_cv_model.best_params_"
   ]
  },
  {
   "cell_type": "code",
   "execution_count": 201,
   "metadata": {},
   "outputs": [],
   "source": [
    "#final model"
   ]
  },
  {
   "cell_type": "code",
   "execution_count": 202,
   "metadata": {},
   "outputs": [],
   "source": [
    "knn_tuned = KNeighborsClassifier(n_neighbors = 11).fit(X_train, y_train)"
   ]
  },
  {
   "cell_type": "code",
   "execution_count": 203,
   "metadata": {},
   "outputs": [],
   "source": [
    "y_pred = knn_tuned.predict(X_test)"
   ]
  },
  {
   "cell_type": "code",
   "execution_count": 204,
   "metadata": {},
   "outputs": [
    {
     "data": {
      "text/plain": [
       "0.7316017316017316"
      ]
     },
     "execution_count": 204,
     "metadata": {},
     "output_type": "execute_result"
    }
   ],
   "source": [
    "accuracy_score(y_test, y_pred)"
   ]
  },
  {
   "cell_type": "code",
   "execution_count": 205,
   "metadata": {},
   "outputs": [
    {
     "data": {
      "text/plain": [
       "0.7316017316017316"
      ]
     },
     "execution_count": 205,
     "metadata": {},
     "output_type": "execute_result"
    }
   ],
   "source": [
    "knn_tuned.score(X_test, y_test)"
   ]
  },
  {
   "cell_type": "markdown",
   "metadata": {},
   "source": [
    "# Support Vector Machines (SVM)"
   ]
  },
  {
   "cell_type": "code",
   "execution_count": 206,
   "metadata": {},
   "outputs": [
    {
     "data": {
      "text/html": [
       "<div>\n",
       "<style scoped>\n",
       "    .dataframe tbody tr th:only-of-type {\n",
       "        vertical-align: middle;\n",
       "    }\n",
       "\n",
       "    .dataframe tbody tr th {\n",
       "        vertical-align: top;\n",
       "    }\n",
       "\n",
       "    .dataframe thead th {\n",
       "        text-align: right;\n",
       "    }\n",
       "</style>\n",
       "<table border=\"1\" class=\"dataframe\">\n",
       "  <thead>\n",
       "    <tr style=\"text-align: right;\">\n",
       "      <th></th>\n",
       "      <th>Pregnancies</th>\n",
       "      <th>Glucose</th>\n",
       "      <th>BloodPressure</th>\n",
       "      <th>SkinThickness</th>\n",
       "      <th>Insulin</th>\n",
       "      <th>BMI</th>\n",
       "      <th>DiabetesPedigreeFunction</th>\n",
       "      <th>Age</th>\n",
       "      <th>Outcome</th>\n",
       "    </tr>\n",
       "  </thead>\n",
       "  <tbody>\n",
       "    <tr>\n",
       "      <th>0</th>\n",
       "      <td>6</td>\n",
       "      <td>148</td>\n",
       "      <td>72</td>\n",
       "      <td>35</td>\n",
       "      <td>0</td>\n",
       "      <td>33.6</td>\n",
       "      <td>0.627</td>\n",
       "      <td>50</td>\n",
       "      <td>1</td>\n",
       "    </tr>\n",
       "    <tr>\n",
       "      <th>1</th>\n",
       "      <td>1</td>\n",
       "      <td>85</td>\n",
       "      <td>66</td>\n",
       "      <td>29</td>\n",
       "      <td>0</td>\n",
       "      <td>26.6</td>\n",
       "      <td>0.351</td>\n",
       "      <td>31</td>\n",
       "      <td>0</td>\n",
       "    </tr>\n",
       "    <tr>\n",
       "      <th>2</th>\n",
       "      <td>8</td>\n",
       "      <td>183</td>\n",
       "      <td>64</td>\n",
       "      <td>0</td>\n",
       "      <td>0</td>\n",
       "      <td>23.3</td>\n",
       "      <td>0.672</td>\n",
       "      <td>32</td>\n",
       "      <td>1</td>\n",
       "    </tr>\n",
       "    <tr>\n",
       "      <th>3</th>\n",
       "      <td>1</td>\n",
       "      <td>89</td>\n",
       "      <td>66</td>\n",
       "      <td>23</td>\n",
       "      <td>94</td>\n",
       "      <td>28.1</td>\n",
       "      <td>0.167</td>\n",
       "      <td>21</td>\n",
       "      <td>0</td>\n",
       "    </tr>\n",
       "    <tr>\n",
       "      <th>4</th>\n",
       "      <td>0</td>\n",
       "      <td>137</td>\n",
       "      <td>40</td>\n",
       "      <td>35</td>\n",
       "      <td>168</td>\n",
       "      <td>43.1</td>\n",
       "      <td>2.288</td>\n",
       "      <td>33</td>\n",
       "      <td>1</td>\n",
       "    </tr>\n",
       "  </tbody>\n",
       "</table>\n",
       "</div>"
      ],
      "text/plain": [
       "   Pregnancies  Glucose  BloodPressure  SkinThickness  Insulin   BMI  \\\n",
       "0            6      148             72             35        0  33.6   \n",
       "1            1       85             66             29        0  26.6   \n",
       "2            8      183             64              0        0  23.3   \n",
       "3            1       89             66             23       94  28.1   \n",
       "4            0      137             40             35      168  43.1   \n",
       "\n",
       "   DiabetesPedigreeFunction  Age  Outcome  \n",
       "0                     0.627   50        1  \n",
       "1                     0.351   31        0  \n",
       "2                     0.672   32        1  \n",
       "3                     0.167   21        0  \n",
       "4                     2.288   33        1  "
      ]
     },
     "execution_count": 206,
     "metadata": {},
     "output_type": "execute_result"
    }
   ],
   "source": [
    "df.head()"
   ]
  },
  {
   "cell_type": "code",
   "execution_count": 207,
   "metadata": {},
   "outputs": [],
   "source": [
    "X_train, X_test, y_train, y_test = train_test_split(X, y, \n",
    "                                                    test_size=0.30, \n",
    "                                                    random_state=42)"
   ]
  },
  {
   "cell_type": "markdown",
   "metadata": {},
   "source": [
    "# Model & Prediction"
   ]
  },
  {
   "cell_type": "code",
   "execution_count": 208,
   "metadata": {},
   "outputs": [],
   "source": [
    "#linear SVM\n",
    "svm_model = SVC(kernel = \"linear\").fit(X_train, y_train)"
   ]
  },
  {
   "cell_type": "code",
   "execution_count": 209,
   "metadata": {},
   "outputs": [
    {
     "data": {
      "text/plain": [
       "SVC(C=1.0, break_ties=False, cache_size=200, class_weight=None, coef0=0.0,\n",
       "    decision_function_shape='ovr', degree=3, gamma='scale', kernel='linear',\n",
       "    max_iter=-1, probability=False, random_state=None, shrinking=True,\n",
       "    tol=0.001, verbose=False)"
      ]
     },
     "execution_count": 209,
     "metadata": {},
     "output_type": "execute_result"
    }
   ],
   "source": [
    "svm_model"
   ]
  },
  {
   "cell_type": "code",
   "execution_count": 210,
   "metadata": {},
   "outputs": [],
   "source": [
    "y_pred = svm_model.predict(X_test)"
   ]
  },
  {
   "cell_type": "code",
   "execution_count": 211,
   "metadata": {},
   "outputs": [
    {
     "data": {
      "text/plain": [
       "0.7445887445887446"
      ]
     },
     "execution_count": 211,
     "metadata": {},
     "output_type": "execute_result"
    }
   ],
   "source": [
    "accuracy_score(y_test, y_pred)"
   ]
  },
  {
   "cell_type": "markdown",
   "metadata": {},
   "source": [
    "# Model Tuning"
   ]
  },
  {
   "cell_type": "code",
   "execution_count": 212,
   "metadata": {},
   "outputs": [],
   "source": [
    "svm = SVC()"
   ]
  },
  {
   "cell_type": "code",
   "execution_count": 213,
   "metadata": {},
   "outputs": [],
   "source": [
    "#kernel and rbf SVM\n",
    "svm_params = {\"C\": np.arange(1,10), \"kernel\": [\"linear\",\"rbf\"]} # rbf = nonlinear SVM (radian basis function)"
   ]
  },
  {
   "cell_type": "code",
   "execution_count": 214,
   "metadata": {},
   "outputs": [
    {
     "name": "stdout",
     "output_type": "stream",
     "text": [
      "Fitting 5 folds for each of 18 candidates, totalling 90 fits\n"
     ]
    },
    {
     "name": "stderr",
     "output_type": "stream",
     "text": [
      "[Parallel(n_jobs=-1)]: Using backend LokyBackend with 8 concurrent workers.\n",
      "[Parallel(n_jobs=-1)]: Done  34 tasks      | elapsed:   24.2s\n",
      "[Parallel(n_jobs=-1)]: Done  90 out of  90 | elapsed:  2.7min finished\n"
     ]
    }
   ],
   "source": [
    "svm_cv_model = GridSearchCV(svm, svm_params, cv = 5, n_jobs = -1, verbose = 2).fit(X_train, y_train)"
   ]
  },
  {
   "cell_type": "code",
   "execution_count": 215,
   "metadata": {},
   "outputs": [],
   "source": [
    "# We created 2 different models. One is with linear SVM, other one is with radial SVM. We will compare the performance of these two in the next line."
   ]
  },
  {
   "cell_type": "code",
   "execution_count": 216,
   "metadata": {},
   "outputs": [
    {
     "data": {
      "text/plain": [
       "0.7839044652128765"
      ]
     },
     "execution_count": 216,
     "metadata": {},
     "output_type": "execute_result"
    }
   ],
   "source": [
    "svm_cv_model.best_score_"
   ]
  },
  {
   "cell_type": "code",
   "execution_count": 217,
   "metadata": {},
   "outputs": [
    {
     "data": {
      "text/plain": [
       "{'C': 2, 'kernel': 'linear'}"
      ]
     },
     "execution_count": 217,
     "metadata": {},
     "output_type": "execute_result"
    }
   ],
   "source": [
    "svm_cv_model.best_params_"
   ]
  },
  {
   "cell_type": "code",
   "execution_count": 218,
   "metadata": {},
   "outputs": [],
   "source": [
    "# As we see above best performance is provided by linear SVM at this problem.\n",
    "# Now, we will CV this model,"
   ]
  },
  {
   "cell_type": "code",
   "execution_count": 219,
   "metadata": {},
   "outputs": [],
   "source": [
    "#final model (cross validated)"
   ]
  },
  {
   "cell_type": "code",
   "execution_count": 220,
   "metadata": {},
   "outputs": [],
   "source": [
    "svm_tuned = SVC(C = 2, kernel = \"linear\").fit(X_train, y_train)"
   ]
  },
  {
   "cell_type": "code",
   "execution_count": 221,
   "metadata": {},
   "outputs": [],
   "source": [
    "y_pred = svm_tuned.predict(X_test)"
   ]
  },
  {
   "cell_type": "code",
   "execution_count": 222,
   "metadata": {},
   "outputs": [
    {
     "data": {
      "text/plain": [
       "0.7445887445887446"
      ]
     },
     "execution_count": 222,
     "metadata": {},
     "output_type": "execute_result"
    }
   ],
   "source": [
    "accuracy_score(y_test, y_pred)"
   ]
  },
  {
   "cell_type": "markdown",
   "metadata": {},
   "source": [
    "# Artificial Neural Networks"
   ]
  },
  {
   "cell_type": "code",
   "execution_count": 223,
   "metadata": {},
   "outputs": [
    {
     "data": {
      "text/html": [
       "<div>\n",
       "<style scoped>\n",
       "    .dataframe tbody tr th:only-of-type {\n",
       "        vertical-align: middle;\n",
       "    }\n",
       "\n",
       "    .dataframe tbody tr th {\n",
       "        vertical-align: top;\n",
       "    }\n",
       "\n",
       "    .dataframe thead th {\n",
       "        text-align: right;\n",
       "    }\n",
       "</style>\n",
       "<table border=\"1\" class=\"dataframe\">\n",
       "  <thead>\n",
       "    <tr style=\"text-align: right;\">\n",
       "      <th></th>\n",
       "      <th>Pregnancies</th>\n",
       "      <th>Glucose</th>\n",
       "      <th>BloodPressure</th>\n",
       "      <th>SkinThickness</th>\n",
       "      <th>Insulin</th>\n",
       "      <th>BMI</th>\n",
       "      <th>DiabetesPedigreeFunction</th>\n",
       "      <th>Age</th>\n",
       "      <th>Outcome</th>\n",
       "    </tr>\n",
       "  </thead>\n",
       "  <tbody>\n",
       "    <tr>\n",
       "      <th>0</th>\n",
       "      <td>6</td>\n",
       "      <td>148</td>\n",
       "      <td>72</td>\n",
       "      <td>35</td>\n",
       "      <td>0</td>\n",
       "      <td>33.6</td>\n",
       "      <td>0.627</td>\n",
       "      <td>50</td>\n",
       "      <td>1</td>\n",
       "    </tr>\n",
       "    <tr>\n",
       "      <th>1</th>\n",
       "      <td>1</td>\n",
       "      <td>85</td>\n",
       "      <td>66</td>\n",
       "      <td>29</td>\n",
       "      <td>0</td>\n",
       "      <td>26.6</td>\n",
       "      <td>0.351</td>\n",
       "      <td>31</td>\n",
       "      <td>0</td>\n",
       "    </tr>\n",
       "    <tr>\n",
       "      <th>2</th>\n",
       "      <td>8</td>\n",
       "      <td>183</td>\n",
       "      <td>64</td>\n",
       "      <td>0</td>\n",
       "      <td>0</td>\n",
       "      <td>23.3</td>\n",
       "      <td>0.672</td>\n",
       "      <td>32</td>\n",
       "      <td>1</td>\n",
       "    </tr>\n",
       "    <tr>\n",
       "      <th>3</th>\n",
       "      <td>1</td>\n",
       "      <td>89</td>\n",
       "      <td>66</td>\n",
       "      <td>23</td>\n",
       "      <td>94</td>\n",
       "      <td>28.1</td>\n",
       "      <td>0.167</td>\n",
       "      <td>21</td>\n",
       "      <td>0</td>\n",
       "    </tr>\n",
       "    <tr>\n",
       "      <th>4</th>\n",
       "      <td>0</td>\n",
       "      <td>137</td>\n",
       "      <td>40</td>\n",
       "      <td>35</td>\n",
       "      <td>168</td>\n",
       "      <td>43.1</td>\n",
       "      <td>2.288</td>\n",
       "      <td>33</td>\n",
       "      <td>1</td>\n",
       "    </tr>\n",
       "  </tbody>\n",
       "</table>\n",
       "</div>"
      ],
      "text/plain": [
       "   Pregnancies  Glucose  BloodPressure  SkinThickness  Insulin   BMI  \\\n",
       "0            6      148             72             35        0  33.6   \n",
       "1            1       85             66             29        0  26.6   \n",
       "2            8      183             64              0        0  23.3   \n",
       "3            1       89             66             23       94  28.1   \n",
       "4            0      137             40             35      168  43.1   \n",
       "\n",
       "   DiabetesPedigreeFunction  Age  Outcome  \n",
       "0                     0.627   50        1  \n",
       "1                     0.351   31        0  \n",
       "2                     0.672   32        1  \n",
       "3                     0.167   21        0  \n",
       "4                     2.288   33        1  "
      ]
     },
     "execution_count": 223,
     "metadata": {},
     "output_type": "execute_result"
    }
   ],
   "source": [
    "df.head()"
   ]
  },
  {
   "cell_type": "code",
   "execution_count": 359,
   "metadata": {},
   "outputs": [],
   "source": [
    "X_train, X_test, y_train, y_test = train_test_split(X, y, \n",
    "                                                    test_size=0.30, \n",
    "                                                    random_state=42)\n",
    "\n",
    "\n"
   ]
  },
  {
   "cell_type": "code",
   "execution_count": 225,
   "metadata": {},
   "outputs": [],
   "source": [
    "# SVM algorithm works better with standardized (homogenious) datasets. So we will scale it."
   ]
  },
  {
   "cell_type": "code",
   "execution_count": 360,
   "metadata": {},
   "outputs": [],
   "source": [
    "scaler = StandardScaler()"
   ]
  },
  {
   "cell_type": "code",
   "execution_count": 361,
   "metadata": {},
   "outputs": [],
   "source": [
    "scaler.fit(X_train)\n",
    "X_train = scaler.transform(X_train)"
   ]
  },
  {
   "cell_type": "code",
   "execution_count": 362,
   "metadata": {},
   "outputs": [],
   "source": [
    "scaler.fit(X_test)\n",
    "X_test = scaler.transform(X_test)"
   ]
  },
  {
   "cell_type": "markdown",
   "metadata": {},
   "source": [
    "# Model & Prediction"
   ]
  },
  {
   "cell_type": "code",
   "execution_count": 363,
   "metadata": {},
   "outputs": [
    {
     "name": "stderr",
     "output_type": "stream",
     "text": [
      "C:\\Users\\senih\\anaconda3\\lib\\site-packages\\sklearn\\neural_network\\_multilayer_perceptron.py:571: ConvergenceWarning: Stochastic Optimizer: Maximum iterations (200) reached and the optimization hasn't converged yet.\n",
      "  % self.max_iter, ConvergenceWarning)\n"
     ]
    }
   ],
   "source": [
    "mlpc_model = MLPClassifier().fit(X_train, y_train)"
   ]
  },
  {
   "cell_type": "code",
   "execution_count": 230,
   "metadata": {
    "collapsed": true,
    "jupyter": {
     "outputs_hidden": true
    }
   },
   "outputs": [
    {
     "data": {
      "text/plain": [
       "[array([[ 1.52626430e-01, -4.13489682e-03,  1.95379096e-02,\n",
       "         -2.15351037e-01,  1.30472451e-01, -1.45984306e-01,\n",
       "          1.41972027e-01,  4.94198572e-02, -2.07972890e-01,\n",
       "          2.71302050e-01,  1.79714644e-01, -1.99393974e-01,\n",
       "         -2.23357987e-01,  4.82215799e-02, -3.40183044e-01,\n",
       "          2.63261393e-01, -2.22320046e-01, -1.76830869e-01,\n",
       "         -1.71401084e-01, -1.26919387e-01,  8.60535320e-02,\n",
       "          8.72576106e-02,  3.36239907e-03,  5.82145662e-02,\n",
       "         -3.62224777e-01,  3.63632582e-02,  1.12041749e-01,\n",
       "         -3.34932090e-01,  1.32864758e-01, -2.38955660e-01,\n",
       "          3.13221099e-01, -2.36116468e-01,  2.24689365e-01,\n",
       "         -2.57649167e-01, -1.68579905e-02, -3.82024796e-02,\n",
       "         -2.62173745e-01, -1.05870314e-02,  5.84654150e-02,\n",
       "         -2.71638955e-01,  1.88013334e-01, -2.97388314e-02,\n",
       "         -2.96551662e-01, -1.54265569e-01, -1.25424323e-01,\n",
       "          2.12918235e-01, -1.17175770e-01, -1.61243940e-01,\n",
       "         -4.85206342e-02,  8.13864265e-03, -2.67957893e-01,\n",
       "         -3.84907229e-01, -2.18535543e-01, -2.43354333e-01,\n",
       "          2.24767979e-01, -1.97670032e-02, -1.39387100e-02,\n",
       "         -1.64120873e-01,  2.04172446e-01, -6.38334992e-02,\n",
       "          3.30060324e-01,  2.44339043e-01, -2.20479338e-01,\n",
       "          5.23923203e-02, -1.70220209e-01,  2.02723287e-01,\n",
       "         -4.01174410e-01,  1.08841324e-01,  2.25365394e-02,\n",
       "          2.21869649e-01,  3.07604276e-01, -3.15494881e-01,\n",
       "          4.18437663e-02,  9.51100581e-02, -9.02999019e-02,\n",
       "         -2.13714898e-01, -2.32387217e-02,  1.28650173e-01,\n",
       "         -2.65654358e-02, -2.04951093e-01, -2.76149569e-02,\n",
       "         -1.42981857e-01, -1.60827374e-01, -5.60698282e-02,\n",
       "          1.16766351e-01, -4.33516624e-02, -1.17856456e-01,\n",
       "          9.99997332e-02,  3.34671745e-01,  3.16627752e-01,\n",
       "          2.75582055e-02,  5.36418873e-02, -1.77175792e-01,\n",
       "          6.27193113e-02, -5.59896890e-02,  1.66702612e-01,\n",
       "         -2.29511878e-01, -2.06174865e-01,  1.59316033e-01,\n",
       "         -1.90796831e-01],\n",
       "        [ 1.38080619e-01,  3.52915554e-01, -6.97046688e-02,\n",
       "          2.70005638e-01, -4.70960931e-03, -2.18833558e-01,\n",
       "         -3.12387150e-01, -6.85188344e-02, -9.08576792e-02,\n",
       "          1.65559014e-01, -5.88929862e-02, -7.24926930e-02,\n",
       "         -1.61758288e-01,  2.12083109e-01, -6.86927972e-02,\n",
       "         -2.24691722e-01, -5.61294040e-02, -3.34762638e-02,\n",
       "          9.91101159e-03, -2.35940374e-01, -6.25016899e-02,\n",
       "          2.24976964e-01,  3.33667693e-02,  1.38334650e-02,\n",
       "          1.73006718e-01, -3.04507295e-01, -2.10921526e-01,\n",
       "          3.14529471e-01,  2.71421430e-02,  2.05785615e-04,\n",
       "          1.92607082e-01,  9.36719072e-02, -1.14836510e-01,\n",
       "          4.22539252e-01,  1.38104935e-01, -2.59102154e-01,\n",
       "          3.57960298e-01,  4.64087719e-02, -1.64352182e-01,\n",
       "          3.06985393e-01,  2.97085631e-01,  2.18733200e-01,\n",
       "         -2.98634500e-02, -4.91316867e-02,  1.08923831e-02,\n",
       "          3.44666275e-01, -1.22223538e-01, -8.80458470e-02,\n",
       "          2.80740161e-01, -1.66650257e-01, -1.57262421e-01,\n",
       "          3.38718421e-01, -2.93164100e-01,  5.36030616e-02,\n",
       "          7.95827960e-02, -1.35118098e-01, -1.57788692e-01,\n",
       "         -3.62534647e-01, -2.06674198e-01, -7.42966556e-02,\n",
       "         -6.76043101e-02,  5.70146073e-02, -2.86179646e-01,\n",
       "          2.53449626e-01, -2.61779365e-02, -8.66789007e-02,\n",
       "         -1.70670603e-01,  1.31351453e-01,  2.53090415e-02,\n",
       "          2.00188312e-01, -1.30392249e-01,  1.86572049e-01,\n",
       "          1.60194778e-01,  1.68191729e-02,  1.63684155e-01,\n",
       "         -1.25208897e-02, -1.60645772e-01,  1.77898618e-01,\n",
       "          3.38676539e-01, -1.86226975e-01,  1.73675146e-01,\n",
       "          3.02991153e-01,  3.94601035e-01, -7.87611294e-02,\n",
       "          1.81640656e-01, -2.42256149e-01,  2.70366304e-01,\n",
       "         -2.27379065e-01,  2.03805025e-01, -1.25517369e-01,\n",
       "          1.13939619e-01, -2.92839759e-01,  2.62988496e-01,\n",
       "          4.23967001e-02, -5.94534892e-02, -9.62202152e-02,\n",
       "         -6.55095859e-02,  6.75426264e-03, -1.49052783e-01,\n",
       "          7.79092103e-02],\n",
       "        [-1.60613355e-01, -2.52988263e-01, -1.16373973e-01,\n",
       "          1.71694837e-01,  4.43593856e-01, -4.14489549e-02,\n",
       "          3.46458309e-01, -2.97248352e-01,  6.60399392e-02,\n",
       "         -1.25780511e-01,  1.76848265e-01, -1.04137099e-01,\n",
       "          6.24223972e-02,  8.50320753e-03, -1.52945486e-02,\n",
       "          1.09311741e-01, -1.19198809e-01,  3.31994081e-04,\n",
       "          1.97721611e-02,  1.08771726e-01, -2.12840784e-01,\n",
       "         -2.56743373e-01,  3.10493388e-01, -3.50500888e-01,\n",
       "          3.46991517e-01, -7.02837388e-02,  1.66690338e-01,\n",
       "         -1.63861777e-01,  1.65514057e-01, -1.31903417e-01,\n",
       "         -2.10446164e-01,  2.36388140e-01,  3.02481430e-01,\n",
       "         -6.93430584e-02,  1.61415788e-01,  4.99679224e-02,\n",
       "          1.82467285e-01,  2.14579019e-01, -1.44695184e-02,\n",
       "          1.90181179e-01, -1.63319042e-01, -6.38111611e-02,\n",
       "          1.35253574e-01, -1.76482358e-01, -6.70409297e-02,\n",
       "         -7.95463441e-02,  7.72512682e-02,  4.54464061e-02,\n",
       "         -3.39475709e-01, -1.19262170e-01,  8.99265724e-02,\n",
       "         -7.05257533e-02,  2.00792082e-01,  1.21236503e-01,\n",
       "         -2.47008923e-01,  1.51821226e-01, -2.60460661e-01,\n",
       "          6.15089808e-02, -5.62656601e-02, -6.32164674e-02,\n",
       "         -2.35795835e-02, -9.40032039e-02, -1.57304978e-01,\n",
       "          6.85789603e-02, -1.77072016e-01, -3.56667198e-02,\n",
       "         -5.74267191e-02,  1.28349481e-01,  5.32091120e-01,\n",
       "         -2.04589131e-01,  1.45320593e-01,  2.10309769e-02,\n",
       "          2.14653662e-01,  2.83576842e-01,  1.00012441e-01,\n",
       "         -3.11763617e-01, -1.77527963e-01, -2.25535192e-01,\n",
       "         -1.21769021e-01, -1.18062627e-01, -1.00318641e-01,\n",
       "          4.13510633e-02, -1.27545849e-01,  2.08974589e-01,\n",
       "          2.73790086e-01, -4.06943418e-01, -1.03349890e-01,\n",
       "          2.67000010e-01,  1.43931658e-01, -1.05858244e-01,\n",
       "          1.71008687e-01,  1.80683957e-01,  2.93569964e-01,\n",
       "         -1.57938472e-01,  2.13303936e-01, -2.00159994e-02,\n",
       "         -1.91976299e-01,  2.25998168e-01,  2.14636391e-01,\n",
       "         -4.58335596e-02],\n",
       "        [-3.64280235e-01,  1.74310895e-01, -9.03222188e-02,\n",
       "          9.63279194e-02, -1.29505720e-01,  5.03393605e-02,\n",
       "          1.59082046e-01,  2.24953540e-01,  2.56442119e-01,\n",
       "          3.57971425e-01,  8.95902872e-02,  1.75617752e-01,\n",
       "         -5.05918701e-02, -5.88531407e-02, -2.04999242e-01,\n",
       "          2.10436336e-01, -3.92885932e-02,  8.66620764e-02,\n",
       "         -2.92781223e-01, -5.38334136e-02, -2.63258486e-01,\n",
       "         -2.58306291e-02,  8.75812715e-02, -2.25637706e-01,\n",
       "          1.73985579e-01,  2.37295811e-01,  2.03865798e-01,\n",
       "         -2.21265312e-01, -2.24690827e-01,  2.69674848e-01,\n",
       "          3.22635697e-01,  5.70306729e-02, -1.18421510e-01,\n",
       "          2.00875339e-01,  2.44563108e-01, -4.59227694e-03,\n",
       "          1.94954646e-03,  1.81174202e-01,  1.33761329e-01,\n",
       "          1.64260898e-01, -5.78831961e-02, -1.20356481e-01,\n",
       "          3.30779093e-01,  4.04739037e-02, -5.70729331e-02,\n",
       "          3.03993084e-02,  2.16567949e-01, -2.49025235e-01,\n",
       "         -1.65407592e-01, -1.08182090e-01, -2.11537141e-01,\n",
       "         -7.38733733e-02, -1.16493623e-03,  1.25094645e-01,\n",
       "         -3.14047187e-01, -3.00561771e-01,  1.75444156e-01,\n",
       "         -1.57309122e-02,  1.34254942e-01,  8.64656753e-02,\n",
       "         -1.08163751e-01,  2.99215260e-01, -1.69789174e-01,\n",
       "          1.29030448e-01,  7.75101579e-02,  9.12971113e-02,\n",
       "         -1.71258694e-01, -2.07980692e-01, -2.60627420e-02,\n",
       "          2.08279081e-01, -9.01644003e-03, -1.34222921e-01,\n",
       "         -3.75035401e-02,  1.39753195e-02, -2.14430486e-01,\n",
       "          4.44794945e-02, -5.62731502e-02, -1.63094065e-01,\n",
       "          7.57456862e-02,  1.83581987e-01,  4.57770533e-02,\n",
       "         -1.17490250e-01, -1.15971784e-01, -1.56889959e-01,\n",
       "         -2.36085150e-01, -4.38702817e-02,  1.31120727e-01,\n",
       "          1.16799660e-01,  1.25460976e-01,  3.07868423e-01,\n",
       "         -1.44019707e-01,  3.27781258e-01,  1.70679440e-01,\n",
       "          1.59864149e-01, -1.37372408e-01,  2.86275200e-01,\n",
       "          3.31160491e-02,  1.53701385e-01,  1.14908941e-01,\n",
       "         -2.61429179e-01],\n",
       "        [ 1.12379085e-01, -9.16711208e-02,  4.06798363e-01,\n",
       "          1.11831105e-01, -2.34499532e-01,  1.55742167e-01,\n",
       "          3.54177482e-01, -1.10251042e-01,  2.35083196e-01,\n",
       "         -1.16742847e-01, -1.33127376e-01,  2.05629753e-01,\n",
       "         -2.79237724e-01,  2.74963395e-01, -9.85366012e-03,\n",
       "          7.11030143e-02, -6.97824161e-04, -2.74287914e-02,\n",
       "          2.83915599e-02, -2.73435413e-01,  3.29892243e-01,\n",
       "         -5.13253174e-02, -1.75224894e-01,  8.05362183e-02,\n",
       "         -5.69465295e-02,  3.02851323e-02,  3.17836881e-01,\n",
       "         -2.38698380e-01,  2.95001294e-02, -1.01856226e-01,\n",
       "         -1.22935673e-01, -1.35665050e-01, -3.29896439e-02,\n",
       "          1.50831809e-01, -4.60018456e-02,  5.37925042e-02,\n",
       "         -1.73345480e-01, -1.53864360e-01,  1.65780058e-01,\n",
       "          1.06102352e-01,  1.76105916e-01,  1.64606968e-02,\n",
       "          1.14441429e-01,  1.98468326e-01,  1.46357003e-01,\n",
       "         -3.53598589e-01,  1.60933539e-01,  1.85645178e-01,\n",
       "         -4.03971236e-01, -2.23017597e-01,  1.95498825e-01,\n",
       "          1.29739977e-01, -2.84103712e-01,  1.88267915e-01,\n",
       "         -2.02161884e-01,  4.54221615e-02,  2.19909287e-01,\n",
       "          3.63415450e-02, -9.69184387e-02,  3.09354078e-01,\n",
       "         -4.94767025e-02,  3.20540925e-01,  1.63180115e-01,\n",
       "          2.28758884e-01,  1.87969344e-01,  5.27829298e-02,\n",
       "         -1.02701841e-01,  2.49559091e-01, -9.01140034e-02,\n",
       "         -1.66267230e-01,  2.86393513e-02,  1.83599896e-01,\n",
       "         -7.81837386e-02, -1.99201300e-01,  1.70859385e-01,\n",
       "          2.38301276e-01, -9.89546836e-02, -2.30629231e-03,\n",
       "         -1.85976451e-02, -1.65513907e-01, -2.83923968e-03,\n",
       "         -3.27040782e-01, -1.82652545e-02, -2.59869671e-01,\n",
       "          2.29446255e-02,  1.67309631e-01,  1.35002797e-01,\n",
       "          3.50458009e-01, -2.15116672e-01,  2.00006118e-01,\n",
       "         -2.09562515e-01,  3.80817817e-01,  1.51968049e-01,\n",
       "         -2.44308746e-01,  1.78431376e-01, -1.53062726e-01,\n",
       "          1.53806581e-01, -3.41175905e-02,  1.17807160e-01,\n",
       "          1.18045914e-01],\n",
       "        [ 1.99081579e-01,  2.40838766e-01, -1.24087227e-03,\n",
       "          2.01078796e-02, -2.26602136e-01, -1.18921539e-01,\n",
       "         -1.12604597e-01, -3.05577807e-01, -5.40214719e-02,\n",
       "         -1.98786997e-03, -1.48161666e-02, -6.65891778e-02,\n",
       "          7.32099159e-03,  1.47484885e-01, -1.81543511e-01,\n",
       "         -1.29303825e-01, -1.95382647e-01,  1.06811499e-01,\n",
       "         -6.52703053e-02,  7.44095427e-02, -2.43747159e-01,\n",
       "          1.00616339e-01, -2.11930433e-01, -8.25155224e-02,\n",
       "         -2.14938683e-01, -3.31570514e-01, -7.56916770e-02,\n",
       "          1.73364048e-01, -2.36379543e-01, -4.74095361e-03,\n",
       "          1.68127882e-01,  1.47822710e-02, -1.11225332e-01,\n",
       "         -1.43726358e-01,  1.88391096e-01, -6.89080230e-02,\n",
       "         -1.12595346e-01, -9.64391033e-02, -1.44269143e-02,\n",
       "          8.84246299e-02,  2.07738939e-01,  1.76053489e-01,\n",
       "         -1.66876052e-02, -1.49248476e-01, -1.80341003e-01,\n",
       "          6.21710238e-02,  5.98640413e-02, -1.42950574e-01,\n",
       "          1.18734807e-01, -8.85212519e-02, -7.11893637e-02,\n",
       "          1.68946449e-01, -1.11823320e-01, -5.66031035e-02,\n",
       "          3.10707140e-01,  2.66742206e-02, -3.30713474e-01,\n",
       "         -5.52465903e-02,  1.36422523e-01,  1.89326338e-02,\n",
       "         -1.13747372e-02, -1.09353814e-01,  1.79554680e-01,\n",
       "         -5.20014942e-02,  2.54833964e-02,  3.28586169e-03,\n",
       "         -6.35087200e-02,  1.04948836e-01,  2.53243213e-01,\n",
       "         -5.39440148e-02, -1.59648872e-01, -1.66266060e-01,\n",
       "         -1.01013402e-01, -2.96476279e-01,  2.24333766e-01,\n",
       "          2.24913616e-02, -3.71437183e-01,  2.46317799e-01,\n",
       "          1.07297332e-01,  9.30737644e-02,  2.64489112e-01,\n",
       "         -1.33628462e-01,  1.53763023e-01, -1.36260214e-01,\n",
       "         -9.58147388e-02, -3.97484369e-01, -1.84953748e-01,\n",
       "         -6.11197524e-02, -1.13137574e-01,  2.65307033e-02,\n",
       "          1.65695842e-01, -1.22878419e-01,  1.04400490e-01,\n",
       "          3.15514725e-02,  3.70719418e-02,  1.67670596e-01,\n",
       "         -1.01679525e-01, -2.63922686e-02, -1.26927128e-01,\n",
       "         -5.34305697e-02],\n",
       "        [-1.06549380e-01,  1.40924297e-01, -2.36451860e-01,\n",
       "         -2.10730562e-01, -5.35697546e-02, -5.01832479e-02,\n",
       "         -1.62360506e-01, -1.26670155e-01, -2.38554016e-01,\n",
       "         -4.44592190e-01,  1.27029922e-01,  1.23627469e-01,\n",
       "          4.58802595e-02,  1.60854636e-01, -2.02839032e-01,\n",
       "          9.85354102e-03, -2.85358177e-01,  2.62485941e-01,\n",
       "         -1.77943651e-01, -1.51439058e-01,  3.17390753e-01,\n",
       "         -8.30529941e-03,  2.30974808e-01,  4.81355844e-01,\n",
       "         -2.51211774e-02, -1.72200523e-01, -6.73081350e-03,\n",
       "          1.44715371e-01,  2.67759227e-01,  2.25649165e-01,\n",
       "         -4.95352320e-01, -3.37198127e-01, -4.45481564e-01,\n",
       "          1.01648977e-01,  1.45024180e-01, -9.16003257e-02,\n",
       "          2.63251981e-02, -4.62756385e-01, -5.28172141e-02,\n",
       "         -1.30131508e-01,  6.68100792e-02,  4.21819345e-03,\n",
       "          1.10018446e-01,  6.67718763e-02, -3.66267526e-01,\n",
       "          1.55346664e-01,  1.07788966e-01, -6.91668104e-02,\n",
       "         -1.70265980e-01, -5.36108352e-02,  7.69437130e-02,\n",
       "         -2.73368411e-01,  9.77710016e-02, -2.86059381e-01,\n",
       "         -1.41053655e-01,  3.15495766e-02,  4.60458802e-02,\n",
       "          3.47236430e-02, -9.34085858e-02, -2.24300870e-02,\n",
       "          3.79779183e-02, -2.19092010e-01, -6.02946004e-02,\n",
       "          1.43087365e-02, -1.12888939e-01, -2.03617154e-01,\n",
       "         -2.78026327e-01,  4.52212292e-02, -9.90354570e-02,\n",
       "          1.31178995e-01,  7.58310733e-03, -2.09884760e-01,\n",
       "          1.50251272e-02,  1.39718141e-01,  2.28730137e-02,\n",
       "          2.78701254e-01,  1.07098687e-01, -3.15134185e-02,\n",
       "         -1.31541718e-01,  2.25089914e-01,  1.38961832e-01,\n",
       "         -1.88315991e-01,  5.70218882e-02,  2.04317138e-01,\n",
       "         -4.41952078e-02, -2.80199239e-01,  1.31556144e-01,\n",
       "          1.57913245e-01,  1.45193999e-01,  2.43280539e-01,\n",
       "          3.28044797e-01,  2.13889626e-01,  1.44433788e-01,\n",
       "         -7.72394767e-04,  2.89878573e-01,  1.29920582e-01,\n",
       "         -1.25372407e-03, -9.37951882e-02,  3.55274522e-02,\n",
       "         -1.53797390e-01],\n",
       "        [-9.49060642e-03, -1.17858381e-01, -3.98740224e-01,\n",
       "          1.06620432e-01,  7.54246128e-02, -1.42100047e-01,\n",
       "          9.41784498e-02,  3.26791428e-01, -1.46036785e-02,\n",
       "          2.74651305e-01, -3.78959805e-02,  1.91890698e-01,\n",
       "         -2.71114829e-02, -1.22876070e-01, -3.33154436e-01,\n",
       "         -7.84932707e-02, -1.89781778e-01, -3.06446656e-01,\n",
       "          3.20225794e-02, -3.42861540e-01,  8.70521060e-02,\n",
       "         -7.42931974e-02,  2.31248953e-01,  1.47624186e-01,\n",
       "          2.02491224e-01, -2.59125712e-01,  1.57744167e-01,\n",
       "         -2.52637703e-02, -2.91751768e-01, -3.69783649e-01,\n",
       "          3.79706087e-01, -2.63683592e-01,  9.41888615e-02,\n",
       "         -1.28765513e-01,  1.56059331e-01,  1.38720943e-02,\n",
       "          4.13317174e-02, -6.52728846e-02,  1.33093918e-02,\n",
       "          5.52228603e-02, -1.39963176e-01,  3.08616067e-02,\n",
       "          2.01068200e-01, -1.02475201e-01, -4.31446856e-01,\n",
       "         -2.10551035e-01,  3.04652811e-02,  1.26921735e-01,\n",
       "         -1.19704094e-01,  1.60542960e-02, -2.54863874e-01,\n",
       "          2.22053145e-01, -2.64780580e-01, -1.34424648e-01,\n",
       "         -3.88461036e-02, -2.84819918e-01, -3.74190558e-01,\n",
       "         -1.05818348e-01, -4.58287164e-02, -4.48376820e-01,\n",
       "         -5.10743319e-02, -3.41239446e-01,  1.38273306e-01,\n",
       "          2.47401088e-01, -3.76440387e-01, -1.16132031e-01,\n",
       "          1.36650083e-02,  1.04733351e-01, -3.61583245e-01,\n",
       "         -2.10266185e-01,  2.15885496e-02,  1.61505435e-01,\n",
       "          1.00574267e-01,  2.43633210e-01,  1.39839644e-01,\n",
       "         -1.43435179e-01,  3.21713444e-01, -1.37493064e-01,\n",
       "         -2.07048829e-02,  1.42328195e-01,  3.26382352e-02,\n",
       "         -7.07918334e-02,  7.27851297e-02, -1.03131018e-01,\n",
       "         -1.99584557e-01, -1.18463075e-01, -1.81160940e-01,\n",
       "          8.43078970e-02, -2.35739885e-01,  4.02521361e-02,\n",
       "          3.52595752e-01,  2.93116471e-01, -1.08324759e-01,\n",
       "         -1.64231218e-01, -4.27455713e-01, -1.31437717e-01,\n",
       "          9.98312775e-03, -1.25820571e-01,  5.36579102e-02,\n",
       "          1.01882731e-01]]),\n",
       " array([[ 0.29055788],\n",
       "        [ 0.38249285],\n",
       "        [-0.37864907],\n",
       "        [ 0.40513067],\n",
       "        [-0.33359836],\n",
       "        [-0.27825461],\n",
       "        [ 0.62977154],\n",
       "        [-0.4228228 ],\n",
       "        [-0.27053146],\n",
       "        [-0.32633201],\n",
       "        [ 0.08348994],\n",
       "        [ 0.11467971],\n",
       "        [-0.18634848],\n",
       "        [-0.18329902],\n",
       "        [-0.38539108],\n",
       "        [ 0.14590423],\n",
       "        [-0.23000178],\n",
       "        [-0.29372695],\n",
       "        [ 0.17347541],\n",
       "        [-0.34806951],\n",
       "        [-0.15173948],\n",
       "        [ 0.33060133],\n",
       "        [-0.22458446],\n",
       "        [-0.27581723],\n",
       "        [ 0.26145146],\n",
       "        [-0.22696331],\n",
       "        [ 0.24014371],\n",
       "        [ 0.40017643],\n",
       "        [-0.33631675],\n",
       "        [-0.07309192],\n",
       "        [-0.36620249],\n",
       "        [-0.28256106],\n",
       "        [-0.34105318],\n",
       "        [ 0.2401441 ],\n",
       "        [-0.27001857],\n",
       "        [-0.35761407],\n",
       "        [ 0.28524846],\n",
       "        [-0.38427916],\n",
       "        [-0.00558345],\n",
       "        [ 0.27503019],\n",
       "        [ 0.31042725],\n",
       "        [ 0.35498532],\n",
       "        [ 0.24660093],\n",
       "        [-0.19627453],\n",
       "        [-0.24873384],\n",
       "        [ 0.34723379],\n",
       "        [ 0.29600069],\n",
       "        [ 0.1674035 ],\n",
       "        [ 0.13120491],\n",
       "        [ 0.07663283],\n",
       "        [-0.44507198],\n",
       "        [ 0.46787168],\n",
       "        [-0.34591886],\n",
       "        [-0.24002816],\n",
       "        [ 0.23878474],\n",
       "        [-0.40775637],\n",
       "        [-0.14588496],\n",
       "        [-0.32087455],\n",
       "        [ 0.14985907],\n",
       "        [-0.24761798],\n",
       "        [ 0.07526636],\n",
       "        [-0.13632963],\n",
       "        [ 0.28360717],\n",
       "        [ 0.09260397],\n",
       "        [-0.22822286],\n",
       "        [-0.01255443],\n",
       "        [-0.23167681],\n",
       "        [-0.16047852],\n",
       "        [-0.2191799 ],\n",
       "        [ 0.31803967],\n",
       "        [ 0.05945535],\n",
       "        [ 0.2305933 ],\n",
       "        [ 0.16400136],\n",
       "        [-0.31759501],\n",
       "        [ 0.12761423],\n",
       "        [-0.2087947 ],\n",
       "        [-0.4382769 ],\n",
       "        [ 0.44095451],\n",
       "        [ 0.51002804],\n",
       "        [ 0.13741557],\n",
       "        [ 0.32655959],\n",
       "        [ 0.24850422],\n",
       "        [ 0.26403673],\n",
       "        [ 0.09945632],\n",
       "        [ 0.32105055],\n",
       "        [-0.33293126],\n",
       "        [ 0.17484267],\n",
       "        [ 0.14448726],\n",
       "        [ 0.19998432],\n",
       "        [ 0.27307829],\n",
       "        [-0.16112476],\n",
       "        [ 0.28409702],\n",
       "        [ 0.14087369],\n",
       "        [-0.07189192],\n",
       "        [-0.52229451],\n",
       "        [ 0.20935641],\n",
       "        [-0.24111715],\n",
       "        [ 0.01850446],\n",
       "        [-0.15822524],\n",
       "        [ 0.1910311 ]])]"
      ]
     },
     "execution_count": 230,
     "metadata": {},
     "output_type": "execute_result"
    }
   ],
   "source": [
    "mlpc_model.coefs_"
   ]
  },
  {
   "cell_type": "code",
   "execution_count": 231,
   "metadata": {},
   "outputs": [
    {
     "name": "stdout",
     "output_type": "stream",
     "text": [
      "Object `mlpc_model # relu for regression, logistics for classification peroblems` not found.\n"
     ]
    }
   ],
   "source": [
    "?mlpc_model # relu for regression, logistics for classification peroblems"
   ]
  },
  {
   "cell_type": "code",
   "execution_count": 364,
   "metadata": {},
   "outputs": [],
   "source": [
    "y_pred = mlpc_model.predict(X_test)"
   ]
  },
  {
   "cell_type": "code",
   "execution_count": 365,
   "metadata": {},
   "outputs": [
    {
     "data": {
      "text/plain": [
       "0.7316017316017316"
      ]
     },
     "execution_count": 365,
     "metadata": {},
     "output_type": "execute_result"
    }
   ],
   "source": [
    "accuracy_score(y_test, y_pred)"
   ]
  },
  {
   "cell_type": "markdown",
   "metadata": {},
   "source": [
    "# Model Tuning"
   ]
  },
  {
   "cell_type": "code",
   "execution_count": 366,
   "metadata": {},
   "outputs": [],
   "source": [
    "mlpc_params = {\"alpha\":[1,5, 0.1,0.01, 0.03, 0.005, 0.0001],\n",
    "              \"hidden_layer_sizes\": [(10,10), (100,100,100), (100,100), (3,5)]} #2 layer with (10,10) "
   ]
  },
  {
   "cell_type": "code",
   "execution_count": 367,
   "metadata": {},
   "outputs": [],
   "source": [
    "mlpc = MLPClassifier(solver = \"lbfgs\", activation = \"logistic\") # lbfgs works better with small datasets. Otherwise use 'adam'"
   ]
  },
  {
   "cell_type": "code",
   "execution_count": 368,
   "metadata": {},
   "outputs": [
    {
     "name": "stdout",
     "output_type": "stream",
     "text": [
      "Fitting 10 folds for each of 28 candidates, totalling 280 fits\n"
     ]
    },
    {
     "name": "stderr",
     "output_type": "stream",
     "text": [
      "[Parallel(n_jobs=-1)]: Using backend LokyBackend with 8 concurrent workers.\n",
      "[Parallel(n_jobs=-1)]: Done  25 tasks      | elapsed:    6.6s\n",
      "[Parallel(n_jobs=-1)]: Done 146 tasks      | elapsed:   30.4s\n",
      "[Parallel(n_jobs=-1)]: Done 280 out of 280 | elapsed:  1.0min finished\n",
      "C:\\Users\\senih\\anaconda3\\lib\\site-packages\\sklearn\\neural_network\\_multilayer_perceptron.py:470: ConvergenceWarning: lbfgs failed to converge (status=1):\n",
      "STOP: TOTAL NO. of ITERATIONS REACHED LIMIT.\n",
      "\n",
      "Increase the number of iterations (max_iter) or scale the data as shown in:\n",
      "    https://scikit-learn.org/stable/modules/preprocessing.html\n",
      "  self.n_iter_ = _check_optimize_result(\"lbfgs\", opt_res, self.max_iter)\n"
     ]
    }
   ],
   "source": [
    "mlpc_cv_model = GridSearchCV(mlpc, mlpc_params, cv = 10, n_jobs = -1, verbose = 2).fit(X_train, y_train)"
   ]
  },
  {
   "cell_type": "code",
   "execution_count": 345,
   "metadata": {
    "collapsed": true,
    "jupyter": {
     "outputs_hidden": true
    }
   },
   "outputs": [
    {
     "data": {
      "text/plain": [
       "GridSearchCV(cv=10, error_score=nan,\n",
       "             estimator=MLPClassifier(activation='logistic', alpha=0.0001,\n",
       "                                     batch_size='auto', beta_1=0.9,\n",
       "                                     beta_2=0.999, early_stopping=False,\n",
       "                                     epsilon=1e-08, hidden_layer_sizes=(100,),\n",
       "                                     learning_rate='constant',\n",
       "                                     learning_rate_init=0.001, max_fun=15000,\n",
       "                                     max_iter=200, momentum=0.9,\n",
       "                                     n_iter_no_change=10,\n",
       "                                     nesterovs_momentum=True, power_t=0.5,\n",
       "                                     random_state=None, shuffle=True,\n",
       "                                     solver='lbfgs', tol=0.0001,\n",
       "                                     validation_fraction=0.1, verbose=False,\n",
       "                                     warm_start=False),\n",
       "             iid='deprecated', n_jobs=-1,\n",
       "             param_grid={'alpha': [1, 5, 0.1, 0.01, 0.03, 0.005, 0.0001],\n",
       "                         'hidden_layer_sizes': [(10, 10), (100, 100, 100),\n",
       "                                                (100, 100), (3, 5)]},\n",
       "             pre_dispatch='2*n_jobs', refit=True, return_train_score=False,\n",
       "             scoring=None, verbose=2)"
      ]
     },
     "execution_count": 345,
     "metadata": {},
     "output_type": "execute_result"
    }
   ],
   "source": [
    "mlpc_cv_model"
   ]
  },
  {
   "cell_type": "code",
   "execution_count": 369,
   "metadata": {},
   "outputs": [
    {
     "data": {
      "text/plain": [
       "{'alpha': 1, 'hidden_layer_sizes': (100, 100)}"
      ]
     },
     "execution_count": 369,
     "metadata": {},
     "output_type": "execute_result"
    }
   ],
   "source": [
    "mlpc_cv_model.best_params_"
   ]
  },
  {
   "cell_type": "code",
   "execution_count": 239,
   "metadata": {},
   "outputs": [],
   "source": [
    "#finalmodel"
   ]
  },
  {
   "cell_type": "code",
   "execution_count": 371,
   "metadata": {},
   "outputs": [
    {
     "name": "stderr",
     "output_type": "stream",
     "text": [
      "C:\\Users\\senih\\anaconda3\\lib\\site-packages\\sklearn\\neural_network\\_multilayer_perceptron.py:470: ConvergenceWarning: lbfgs failed to converge (status=1):\n",
      "STOP: TOTAL NO. of ITERATIONS REACHED LIMIT.\n",
      "\n",
      "Increase the number of iterations (max_iter) or scale the data as shown in:\n",
      "    https://scikit-learn.org/stable/modules/preprocessing.html\n",
      "  self.n_iter_ = _check_optimize_result(\"lbfgs\", opt_res, self.max_iter)\n"
     ]
    }
   ],
   "source": [
    "mlpc_tuned = MLPClassifier(solver = \"lbfgs\",activation='logistic', alpha = 1, hidden_layer_sizes = (100,100)).fit(X_train, y_train)"
   ]
  },
  {
   "cell_type": "code",
   "execution_count": 372,
   "metadata": {},
   "outputs": [],
   "source": [
    "y_pred = mlpc_tuned.predict(X_test)"
   ]
  },
  {
   "cell_type": "code",
   "execution_count": 373,
   "metadata": {},
   "outputs": [
    {
     "data": {
      "text/plain": [
       "0.7575757575757576"
      ]
     },
     "execution_count": 373,
     "metadata": {},
     "output_type": "execute_result"
    }
   ],
   "source": [
    "accuracy_score(y_test, y_pred)"
   ]
  },
  {
   "cell_type": "markdown",
   "metadata": {},
   "source": [
    "# CART (Classification and Regression Tree)"
   ]
  },
  {
   "cell_type": "code",
   "execution_count": 243,
   "metadata": {},
   "outputs": [
    {
     "data": {
      "text/html": [
       "<div>\n",
       "<style scoped>\n",
       "    .dataframe tbody tr th:only-of-type {\n",
       "        vertical-align: middle;\n",
       "    }\n",
       "\n",
       "    .dataframe tbody tr th {\n",
       "        vertical-align: top;\n",
       "    }\n",
       "\n",
       "    .dataframe thead th {\n",
       "        text-align: right;\n",
       "    }\n",
       "</style>\n",
       "<table border=\"1\" class=\"dataframe\">\n",
       "  <thead>\n",
       "    <tr style=\"text-align: right;\">\n",
       "      <th></th>\n",
       "      <th>Pregnancies</th>\n",
       "      <th>Glucose</th>\n",
       "      <th>BloodPressure</th>\n",
       "      <th>SkinThickness</th>\n",
       "      <th>Insulin</th>\n",
       "      <th>BMI</th>\n",
       "      <th>DiabetesPedigreeFunction</th>\n",
       "      <th>Age</th>\n",
       "      <th>Outcome</th>\n",
       "    </tr>\n",
       "  </thead>\n",
       "  <tbody>\n",
       "    <tr>\n",
       "      <th>0</th>\n",
       "      <td>6</td>\n",
       "      <td>148</td>\n",
       "      <td>72</td>\n",
       "      <td>35</td>\n",
       "      <td>0</td>\n",
       "      <td>33.6</td>\n",
       "      <td>0.627</td>\n",
       "      <td>50</td>\n",
       "      <td>1</td>\n",
       "    </tr>\n",
       "    <tr>\n",
       "      <th>1</th>\n",
       "      <td>1</td>\n",
       "      <td>85</td>\n",
       "      <td>66</td>\n",
       "      <td>29</td>\n",
       "      <td>0</td>\n",
       "      <td>26.6</td>\n",
       "      <td>0.351</td>\n",
       "      <td>31</td>\n",
       "      <td>0</td>\n",
       "    </tr>\n",
       "    <tr>\n",
       "      <th>2</th>\n",
       "      <td>8</td>\n",
       "      <td>183</td>\n",
       "      <td>64</td>\n",
       "      <td>0</td>\n",
       "      <td>0</td>\n",
       "      <td>23.3</td>\n",
       "      <td>0.672</td>\n",
       "      <td>32</td>\n",
       "      <td>1</td>\n",
       "    </tr>\n",
       "    <tr>\n",
       "      <th>3</th>\n",
       "      <td>1</td>\n",
       "      <td>89</td>\n",
       "      <td>66</td>\n",
       "      <td>23</td>\n",
       "      <td>94</td>\n",
       "      <td>28.1</td>\n",
       "      <td>0.167</td>\n",
       "      <td>21</td>\n",
       "      <td>0</td>\n",
       "    </tr>\n",
       "    <tr>\n",
       "      <th>4</th>\n",
       "      <td>0</td>\n",
       "      <td>137</td>\n",
       "      <td>40</td>\n",
       "      <td>35</td>\n",
       "      <td>168</td>\n",
       "      <td>43.1</td>\n",
       "      <td>2.288</td>\n",
       "      <td>33</td>\n",
       "      <td>1</td>\n",
       "    </tr>\n",
       "  </tbody>\n",
       "</table>\n",
       "</div>"
      ],
      "text/plain": [
       "   Pregnancies  Glucose  BloodPressure  SkinThickness  Insulin   BMI  \\\n",
       "0            6      148             72             35        0  33.6   \n",
       "1            1       85             66             29        0  26.6   \n",
       "2            8      183             64              0        0  23.3   \n",
       "3            1       89             66             23       94  28.1   \n",
       "4            0      137             40             35      168  43.1   \n",
       "\n",
       "   DiabetesPedigreeFunction  Age  Outcome  \n",
       "0                     0.627   50        1  \n",
       "1                     0.351   31        0  \n",
       "2                     0.672   32        1  \n",
       "3                     0.167   21        0  \n",
       "4                     2.288   33        1  "
      ]
     },
     "execution_count": 243,
     "metadata": {},
     "output_type": "execute_result"
    }
   ],
   "source": [
    "df.head()"
   ]
  },
  {
   "cell_type": "code",
   "execution_count": 374,
   "metadata": {},
   "outputs": [],
   "source": [
    "X_train, X_test, y_train, y_test = train_test_split(X, y, \n",
    "                                                    test_size=0.30, \n",
    "                                                    random_state=42)"
   ]
  },
  {
   "cell_type": "markdown",
   "metadata": {},
   "source": [
    "# Model & Prediction"
   ]
  },
  {
   "cell_type": "code",
   "execution_count": 245,
   "metadata": {},
   "outputs": [],
   "source": [
    "cart_model = DecisionTreeClassifier().fit(X_train, y_train)"
   ]
  },
  {
   "cell_type": "code",
   "execution_count": 246,
   "metadata": {},
   "outputs": [
    {
     "data": {
      "text/plain": [
       "DecisionTreeClassifier(ccp_alpha=0.0, class_weight=None, criterion='gini',\n",
       "                       max_depth=None, max_features=None, max_leaf_nodes=None,\n",
       "                       min_impurity_decrease=0.0, min_impurity_split=None,\n",
       "                       min_samples_leaf=1, min_samples_split=2,\n",
       "                       min_weight_fraction_leaf=0.0, presort='deprecated',\n",
       "                       random_state=None, splitter='best')"
      ]
     },
     "execution_count": 246,
     "metadata": {},
     "output_type": "execute_result"
    }
   ],
   "source": [
    "cart_model"
   ]
  },
  {
   "cell_type": "code",
   "execution_count": 247,
   "metadata": {},
   "outputs": [],
   "source": [
    "y_pred = cart_model.predict(X_test)"
   ]
  },
  {
   "cell_type": "code",
   "execution_count": 248,
   "metadata": {},
   "outputs": [
    {
     "data": {
      "text/plain": [
       "0.7012987012987013"
      ]
     },
     "execution_count": 248,
     "metadata": {},
     "output_type": "execute_result"
    }
   ],
   "source": [
    "accuracy_score(y_test, y_pred)"
   ]
  },
  {
   "cell_type": "markdown",
   "metadata": {},
   "source": [
    "# Model Tuning"
   ]
  },
  {
   "cell_type": "code",
   "execution_count": 249,
   "metadata": {},
   "outputs": [],
   "source": [
    "cart = DecisionTreeClassifier()"
   ]
  },
  {
   "cell_type": "code",
   "execution_count": 250,
   "metadata": {},
   "outputs": [],
   "source": [
    "cart_params = {\"max_depth\": [1,3,5,8,10],\n",
    "              \"min_samples_split\": [2,3,5,10,20,50]}"
   ]
  },
  {
   "cell_type": "code",
   "execution_count": 251,
   "metadata": {},
   "outputs": [
    {
     "name": "stdout",
     "output_type": "stream",
     "text": [
      "Fitting 10 folds for each of 30 candidates, totalling 300 fits\n"
     ]
    },
    {
     "name": "stderr",
     "output_type": "stream",
     "text": [
      "[Parallel(n_jobs=-1)]: Using backend LokyBackend with 8 concurrent workers.\n",
      "[Parallel(n_jobs=-1)]: Done  34 tasks      | elapsed:    0.0s\n",
      "[Parallel(n_jobs=-1)]: Done 300 out of 300 | elapsed:    0.5s finished\n"
     ]
    }
   ],
   "source": [
    "cart_cv_model = GridSearchCV(cart, cart_params, cv = 10, n_jobs = -1, verbose =2).fit(X_train, y_train)"
   ]
  },
  {
   "cell_type": "code",
   "execution_count": 252,
   "metadata": {},
   "outputs": [
    {
     "data": {
      "text/plain": [
       "{'max_depth': 5, 'min_samples_split': 20}"
      ]
     },
     "execution_count": 252,
     "metadata": {},
     "output_type": "execute_result"
    }
   ],
   "source": [
    "cart_cv_model.best_params_"
   ]
  },
  {
   "cell_type": "code",
   "execution_count": 253,
   "metadata": {},
   "outputs": [],
   "source": [
    "#final model =  use {'max_depth': 5, 'min_samples_split': 20}"
   ]
  },
  {
   "cell_type": "code",
   "execution_count": 254,
   "metadata": {},
   "outputs": [],
   "source": [
    "cart_tuned = DecisionTreeClassifier(max_depth = 5, min_samples_split = 20).fit(X_train, y_train)"
   ]
  },
  {
   "cell_type": "code",
   "execution_count": 255,
   "metadata": {},
   "outputs": [],
   "source": [
    "y_pred = cart_tuned.predict(X_test)"
   ]
  },
  {
   "cell_type": "code",
   "execution_count": 256,
   "metadata": {},
   "outputs": [
    {
     "data": {
      "text/plain": [
       "0.7532467532467533"
      ]
     },
     "execution_count": 256,
     "metadata": {},
     "output_type": "execute_result"
    }
   ],
   "source": [
    "accuracy_score(y_test, y_pred)"
   ]
  },
  {
   "cell_type": "markdown",
   "metadata": {},
   "source": [
    "# Random Forests"
   ]
  },
  {
   "cell_type": "code",
   "execution_count": 257,
   "metadata": {},
   "outputs": [
    {
     "data": {
      "text/html": [
       "<div>\n",
       "<style scoped>\n",
       "    .dataframe tbody tr th:only-of-type {\n",
       "        vertical-align: middle;\n",
       "    }\n",
       "\n",
       "    .dataframe tbody tr th {\n",
       "        vertical-align: top;\n",
       "    }\n",
       "\n",
       "    .dataframe thead th {\n",
       "        text-align: right;\n",
       "    }\n",
       "</style>\n",
       "<table border=\"1\" class=\"dataframe\">\n",
       "  <thead>\n",
       "    <tr style=\"text-align: right;\">\n",
       "      <th></th>\n",
       "      <th>Pregnancies</th>\n",
       "      <th>Glucose</th>\n",
       "      <th>BloodPressure</th>\n",
       "      <th>SkinThickness</th>\n",
       "      <th>Insulin</th>\n",
       "      <th>BMI</th>\n",
       "      <th>DiabetesPedigreeFunction</th>\n",
       "      <th>Age</th>\n",
       "      <th>Outcome</th>\n",
       "    </tr>\n",
       "  </thead>\n",
       "  <tbody>\n",
       "    <tr>\n",
       "      <th>0</th>\n",
       "      <td>6</td>\n",
       "      <td>148</td>\n",
       "      <td>72</td>\n",
       "      <td>35</td>\n",
       "      <td>0</td>\n",
       "      <td>33.6</td>\n",
       "      <td>0.627</td>\n",
       "      <td>50</td>\n",
       "      <td>1</td>\n",
       "    </tr>\n",
       "    <tr>\n",
       "      <th>1</th>\n",
       "      <td>1</td>\n",
       "      <td>85</td>\n",
       "      <td>66</td>\n",
       "      <td>29</td>\n",
       "      <td>0</td>\n",
       "      <td>26.6</td>\n",
       "      <td>0.351</td>\n",
       "      <td>31</td>\n",
       "      <td>0</td>\n",
       "    </tr>\n",
       "    <tr>\n",
       "      <th>2</th>\n",
       "      <td>8</td>\n",
       "      <td>183</td>\n",
       "      <td>64</td>\n",
       "      <td>0</td>\n",
       "      <td>0</td>\n",
       "      <td>23.3</td>\n",
       "      <td>0.672</td>\n",
       "      <td>32</td>\n",
       "      <td>1</td>\n",
       "    </tr>\n",
       "    <tr>\n",
       "      <th>3</th>\n",
       "      <td>1</td>\n",
       "      <td>89</td>\n",
       "      <td>66</td>\n",
       "      <td>23</td>\n",
       "      <td>94</td>\n",
       "      <td>28.1</td>\n",
       "      <td>0.167</td>\n",
       "      <td>21</td>\n",
       "      <td>0</td>\n",
       "    </tr>\n",
       "    <tr>\n",
       "      <th>4</th>\n",
       "      <td>0</td>\n",
       "      <td>137</td>\n",
       "      <td>40</td>\n",
       "      <td>35</td>\n",
       "      <td>168</td>\n",
       "      <td>43.1</td>\n",
       "      <td>2.288</td>\n",
       "      <td>33</td>\n",
       "      <td>1</td>\n",
       "    </tr>\n",
       "  </tbody>\n",
       "</table>\n",
       "</div>"
      ],
      "text/plain": [
       "   Pregnancies  Glucose  BloodPressure  SkinThickness  Insulin   BMI  \\\n",
       "0            6      148             72             35        0  33.6   \n",
       "1            1       85             66             29        0  26.6   \n",
       "2            8      183             64              0        0  23.3   \n",
       "3            1       89             66             23       94  28.1   \n",
       "4            0      137             40             35      168  43.1   \n",
       "\n",
       "   DiabetesPedigreeFunction  Age  Outcome  \n",
       "0                     0.627   50        1  \n",
       "1                     0.351   31        0  \n",
       "2                     0.672   32        1  \n",
       "3                     0.167   21        0  \n",
       "4                     2.288   33        1  "
      ]
     },
     "execution_count": 257,
     "metadata": {},
     "output_type": "execute_result"
    }
   ],
   "source": [
    "df.head()"
   ]
  },
  {
   "cell_type": "code",
   "execution_count": 258,
   "metadata": {},
   "outputs": [],
   "source": [
    "X_train, X_test, y_train, y_test = train_test_split(X, y, \n",
    "                                                    test_size=0.30, \n",
    "                                                    random_state=42)"
   ]
  },
  {
   "cell_type": "markdown",
   "metadata": {},
   "source": [
    "# Model & Prediction"
   ]
  },
  {
   "cell_type": "code",
   "execution_count": 259,
   "metadata": {},
   "outputs": [],
   "source": [
    "rf_model = RandomForestClassifier().fit(X_train, y_train)"
   ]
  },
  {
   "cell_type": "code",
   "execution_count": 260,
   "metadata": {},
   "outputs": [
    {
     "data": {
      "text/plain": [
       "RandomForestClassifier(bootstrap=True, ccp_alpha=0.0, class_weight=None,\n",
       "                       criterion='gini', max_depth=None, max_features='auto',\n",
       "                       max_leaf_nodes=None, max_samples=None,\n",
       "                       min_impurity_decrease=0.0, min_impurity_split=None,\n",
       "                       min_samples_leaf=1, min_samples_split=2,\n",
       "                       min_weight_fraction_leaf=0.0, n_estimators=100,\n",
       "                       n_jobs=None, oob_score=False, random_state=None,\n",
       "                       verbose=0, warm_start=False)"
      ]
     },
     "execution_count": 260,
     "metadata": {},
     "output_type": "execute_result"
    }
   ],
   "source": [
    "rf_model"
   ]
  },
  {
   "cell_type": "code",
   "execution_count": 261,
   "metadata": {},
   "outputs": [
    {
     "data": {
      "text/plain": [
       "0.7359307359307359"
      ]
     },
     "execution_count": 261,
     "metadata": {},
     "output_type": "execute_result"
    }
   ],
   "source": [
    "y_pred = rf_model.predict(X_test)\n",
    "accuracy_score(y_test, y_pred)"
   ]
  },
  {
   "cell_type": "markdown",
   "metadata": {},
   "source": [
    "# Model Tuning"
   ]
  },
  {
   "cell_type": "code",
   "execution_count": 262,
   "metadata": {},
   "outputs": [],
   "source": [
    "rf = RandomForestClassifier()"
   ]
  },
  {
   "cell_type": "code",
   "execution_count": 263,
   "metadata": {},
   "outputs": [
    {
     "data": {
      "text/plain": [
       "(537, 8)"
      ]
     },
     "execution_count": 263,
     "metadata": {},
     "output_type": "execute_result"
    }
   ],
   "source": [
    "X_train.shape # we have 8 different features. we need it below to decide max feature number."
   ]
  },
  {
   "cell_type": "code",
   "execution_count": 264,
   "metadata": {},
   "outputs": [],
   "source": [
    "rf_params = {\"n_estimators\": [100,200,500,1000], # number of total trees\n",
    "            \"max_features\": [3,5,7,8], \n",
    "            \"min_samples_split\": [2,5,10,20]} # "
   ]
  },
  {
   "cell_type": "code",
   "execution_count": 265,
   "metadata": {},
   "outputs": [
    {
     "name": "stdout",
     "output_type": "stream",
     "text": [
      "Fitting 10 folds for each of 64 candidates, totalling 640 fits\n"
     ]
    },
    {
     "name": "stderr",
     "output_type": "stream",
     "text": [
      "[Parallel(n_jobs=-1)]: Using backend LokyBackend with 8 concurrent workers.\n",
      "[Parallel(n_jobs=-1)]: Done  25 tasks      | elapsed:    5.2s\n",
      "[Parallel(n_jobs=-1)]: Done 146 tasks      | elapsed:   43.2s\n",
      "[Parallel(n_jobs=-1)]: Done 349 tasks      | elapsed: 22.9min\n",
      "[Parallel(n_jobs=-1)]: Done 640 out of 640 | elapsed: 24.8min finished\n"
     ]
    }
   ],
   "source": [
    "rf_cv_model = GridSearchCV(rf, rf_params, cv = 10, n_jobs = -1, verbose = 2).fit(X_train, y_train)"
   ]
  },
  {
   "cell_type": "code",
   "execution_count": 266,
   "metadata": {},
   "outputs": [
    {
     "data": {
      "text/plain": [
       "{'max_features': 5, 'min_samples_split': 10, 'n_estimators': 200}"
      ]
     },
     "execution_count": 266,
     "metadata": {},
     "output_type": "execute_result"
    }
   ],
   "source": [
    "rf_cv_model.best_params_"
   ]
  },
  {
   "cell_type": "code",
   "execution_count": 267,
   "metadata": {},
   "outputs": [],
   "source": [
    "#final model"
   ]
  },
  {
   "cell_type": "code",
   "execution_count": 268,
   "metadata": {},
   "outputs": [],
   "source": [
    "rf_tuned = RandomForestClassifier(max_features = 8, \n",
    "                                  min_samples_split = 5, \n",
    "                                  n_estimators = 500).fit(X_train, y_train)"
   ]
  },
  {
   "cell_type": "code",
   "execution_count": 269,
   "metadata": {},
   "outputs": [],
   "source": [
    "y_pred = rf_tuned.predict(X_test)"
   ]
  },
  {
   "cell_type": "code",
   "execution_count": 270,
   "metadata": {},
   "outputs": [
    {
     "data": {
      "text/plain": [
       "0.7445887445887446"
      ]
     },
     "execution_count": 270,
     "metadata": {},
     "output_type": "execute_result"
    }
   ],
   "source": [
    "accuracy_score(y_test, y_pred)"
   ]
  },
  {
   "cell_type": "markdown",
   "metadata": {},
   "source": [
    "# Importance of variables / Feature selection"
   ]
  },
  {
   "cell_type": "code",
   "execution_count": 271,
   "metadata": {},
   "outputs": [
    {
     "data": {
      "text/plain": [
       "RandomForestClassifier(bootstrap=True, ccp_alpha=0.0, class_weight=None,\n",
       "                       criterion='gini', max_depth=None, max_features=8,\n",
       "                       max_leaf_nodes=None, max_samples=None,\n",
       "                       min_impurity_decrease=0.0, min_impurity_split=None,\n",
       "                       min_samples_leaf=1, min_samples_split=5,\n",
       "                       min_weight_fraction_leaf=0.0, n_estimators=500,\n",
       "                       n_jobs=None, oob_score=False, random_state=None,\n",
       "                       verbose=0, warm_start=False)"
      ]
     },
     "execution_count": 271,
     "metadata": {},
     "output_type": "execute_result"
    }
   ],
   "source": [
    "rf_tuned"
   ]
  },
  {
   "cell_type": "code",
   "execution_count": 272,
   "metadata": {},
   "outputs": [
    {
     "data": {
      "image/png": "[encoded data removed]",
      "text/plain": [
       "<Figure size 432x288 with 1 Axes>"
      ]
     },
     "metadata": {
      "needs_background": "light"
     },
     "output_type": "display_data"
    }
   ],
   "source": [
    "feature_imp = pd.Series(rf_tuned.feature_importances_,\n",
    "                        index=X_train.columns).sort_values(ascending=False)\n",
    "\n",
    "sns.barplot(x=feature_imp, y=feature_imp.index)\n",
    "plt.xlabel('Importance score')\n",
    "plt.ylabel('Variables')\n",
    "plt.title(\"Importance of variables\")\n",
    "plt.show()"
   ]
  },
  {
   "cell_type": "markdown",
   "metadata": {},
   "source": [
    "# Gradient Boosting Machines"
   ]
  },
  {
   "cell_type": "markdown",
   "metadata": {},
   "source": [
    "# Model & Prediction"
   ]
  },
  {
   "cell_type": "code",
   "execution_count": 273,
   "metadata": {},
   "outputs": [],
   "source": [
    "gbm_model = GradientBoostingClassifier().fit(X_train, y_train)"
   ]
  },
  {
   "cell_type": "code",
   "execution_count": 274,
   "metadata": {
    "collapsed": true,
    "jupyter": {
     "outputs_hidden": true
    }
   },
   "outputs": [
    {
     "data": {
      "text/plain": [
       "\u001b[1;31mType:\u001b[0m        GradientBoostingClassifier\n",
       "\u001b[1;31mString form:\u001b[0m\n",
       "GradientBoostingClassifier(ccp_alpha=0.0, criterion='friedman_mse', init=None,\n",
       "           <...>                  validation_fraction=0.1, verbose=0,\n",
       "           warm_start=False)\n",
       "\u001b[1;31mLength:\u001b[0m      100\n",
       "\u001b[1;31mFile:\u001b[0m        c:\\users\\senih\\anaconda3\\lib\\site-packages\\sklearn\\ensemble\\_gb.py\n",
       "\u001b[1;31mDocstring:\u001b[0m  \n",
       "Gradient Boosting for classification.\n",
       "\n",
       "GB builds an additive model in a\n",
       "forward stage-wise fashion; it allows for the optimization of\n",
       "arbitrary differentiable loss functions. In each stage ``n_classes_``\n",
       "regression trees are fit on the negative gradient of the\n",
       "binomial or multinomial deviance loss function. Binary classification\n",
       "is a special case where only a single regression tree is induced.\n",
       "\n",
       "Read more in the :ref:`User Guide <gradient_boosting>`.\n",
       "\n",
       "Parameters\n",
       "----------\n",
       "loss : {'deviance', 'exponential'}, optional (default='deviance')\n",
       "    loss function to be optimized. 'deviance' refers to\n",
       "    deviance (= logistic regression) for classification\n",
       "    with probabilistic outputs. For loss 'exponential' gradient\n",
       "    boosting recovers the AdaBoost algorithm.\n",
       "\n",
       "learning_rate : float, optional (default=0.1)\n",
       "    learning rate shrinks the contribution of each tree by `learning_rate`.\n",
       "    There is a trade-off between learning_rate and n_estimators.\n",
       "\n",
       "n_estimators : int (default=100)\n",
       "    The number of boosting stages to perform. Gradient boosting\n",
       "    is fairly robust to over-fitting so a large number usually\n",
       "    results in better performance.\n",
       "\n",
       "subsample : float, optional (default=1.0)\n",
       "    The fraction of samples to be used for fitting the individual base\n",
       "    learners. If smaller than 1.0 this results in Stochastic Gradient\n",
       "    Boosting. `subsample` interacts with the parameter `n_estimators`.\n",
       "    Choosing `subsample < 1.0` leads to a reduction of variance\n",
       "    and an increase in bias.\n",
       "\n",
       "criterion : string, optional (default=\"friedman_mse\")\n",
       "    The function to measure the quality of a split. Supported criteria\n",
       "    are \"friedman_mse\" for the mean squared error with improvement\n",
       "    score by Friedman, \"mse\" for mean squared error, and \"mae\" for\n",
       "    the mean absolute error. The default value of \"friedman_mse\" is\n",
       "    generally the best as it can provide a better approximation in\n",
       "    some cases.\n",
       "\n",
       "    .. versionadded:: 0.18\n",
       "\n",
       "min_samples_split : int, float, optional (default=2)\n",
       "    The minimum number of samples required to split an internal node:\n",
       "\n",
       "    - If int, then consider `min_samples_split` as the minimum number.\n",
       "    - If float, then `min_samples_split` is a fraction and\n",
       "      `ceil(min_samples_split * n_samples)` are the minimum\n",
       "      number of samples for each split.\n",
       "\n",
       "    .. versionchanged:: 0.18\n",
       "       Added float values for fractions.\n",
       "\n",
       "min_samples_leaf : int, float, optional (default=1)\n",
       "    The minimum number of samples required to be at a leaf node.\n",
       "    A split point at any depth will only be considered if it leaves at\n",
       "    least ``min_samples_leaf`` training samples in each of the left and\n",
       "    right branches.  This may have the effect of smoothing the model,\n",
       "    especially in regression.\n",
       "\n",
       "    - If int, then consider `min_samples_leaf` as the minimum number.\n",
       "    - If float, then `min_samples_leaf` is a fraction and\n",
       "      `ceil(min_samples_leaf * n_samples)` are the minimum\n",
       "      number of samples for each node.\n",
       "\n",
       "    .. versionchanged:: 0.18\n",
       "       Added float values for fractions.\n",
       "\n",
       "min_weight_fraction_leaf : float, optional (default=0.)\n",
       "    The minimum weighted fraction of the sum total of weights (of all\n",
       "    the input samples) required to be at a leaf node. Samples have\n",
       "    equal weight when sample_weight is not provided.\n",
       "\n",
       "max_depth : integer, optional (default=3)\n",
       "    maximum depth of the individual regression estimators. The maximum\n",
       "    depth limits the number of nodes in the tree. Tune this parameter\n",
       "    for best performance; the best value depends on the interaction\n",
       "    of the input variables.\n",
       "\n",
       "min_impurity_decrease : float, optional (default=0.)\n",
       "    A node will be split if this split induces a decrease of the impurity\n",
       "    greater than or equal to this value.\n",
       "\n",
       "    The weighted impurity decrease equation is the following::\n",
       "\n",
       "        N_t / N * (impurity - N_t_R / N_t * right_impurity\n",
       "                            - N_t_L / N_t * left_impurity)\n",
       "\n",
       "    where ``N`` is the total number of samples, ``N_t`` is the number of\n",
       "    samples at the current node, ``N_t_L`` is the number of samples in the\n",
       "    left child, and ``N_t_R`` is the number of samples in the right child.\n",
       "\n",
       "    ``N``, ``N_t``, ``N_t_R`` and ``N_t_L`` all refer to the weighted sum,\n",
       "    if ``sample_weight`` is passed.\n",
       "\n",
       "    .. versionadded:: 0.19\n",
       "\n",
       "min_impurity_split : float, (default=1e-7)\n",
       "    Threshold for early stopping in tree growth. A node will split\n",
       "    if its impurity is above the threshold, otherwise it is a leaf.\n",
       "\n",
       "    .. deprecated:: 0.19\n",
       "       ``min_impurity_split`` has been deprecated in favor of\n",
       "       ``min_impurity_decrease`` in 0.19. The default value of\n",
       "       ``min_impurity_split`` will change from 1e-7 to 0 in 0.23 and it\n",
       "       will be removed in 0.25. Use ``min_impurity_decrease`` instead.\n",
       "\n",
       "init : estimator or 'zero', optional (default=None)\n",
       "    An estimator object that is used to compute the initial predictions.\n",
       "    ``init`` has to provide :meth:`fit` and :meth:`predict_proba`. If\n",
       "    'zero', the initial raw predictions are set to zero. By default, a\n",
       "    ``DummyEstimator`` predicting the classes priors is used.\n",
       "\n",
       "random_state : int, RandomState instance or None, optional (default=None)\n",
       "    If int, random_state is the seed used by the random number generator;\n",
       "    If RandomState instance, random_state is the random number generator;\n",
       "    If None, the random number generator is the RandomState instance used\n",
       "    by `np.random`.\n",
       "\n",
       "max_features : int, float, string or None, optional (default=None)\n",
       "    The number of features to consider when looking for the best split:\n",
       "\n",
       "    - If int, then consider `max_features` features at each split.\n",
       "    - If float, then `max_features` is a fraction and\n",
       "      `int(max_features * n_features)` features are considered at each\n",
       "      split.\n",
       "    - If \"auto\", then `max_features=sqrt(n_features)`.\n",
       "    - If \"sqrt\", then `max_features=sqrt(n_features)`.\n",
       "    - If \"log2\", then `max_features=log2(n_features)`.\n",
       "    - If None, then `max_features=n_features`.\n",
       "\n",
       "    Choosing `max_features < n_features` leads to a reduction of variance\n",
       "    and an increase in bias.\n",
       "\n",
       "    Note: the search for a split does not stop until at least one\n",
       "    valid partition of the node samples is found, even if it requires to\n",
       "    effectively inspect more than ``max_features`` features.\n",
       "\n",
       "verbose : int, default: 0\n",
       "    Enable verbose output. If 1 then it prints progress and performance\n",
       "    once in a while (the more trees the lower the frequency). If greater\n",
       "    than 1 then it prints progress and performance for every tree.\n",
       "\n",
       "max_leaf_nodes : int or None, optional (default=None)\n",
       "    Grow trees with ``max_leaf_nodes`` in best-first fashion.\n",
       "    Best nodes are defined as relative reduction in impurity.\n",
       "    If None then unlimited number of leaf nodes.\n",
       "\n",
       "warm_start : bool, default: False\n",
       "    When set to ``True``, reuse the solution of the previous call to fit\n",
       "    and add more estimators to the ensemble, otherwise, just erase the\n",
       "    previous solution. See :term:`the Glossary <warm_start>`.\n",
       "\n",
       "presort : deprecated, default='deprecated'\n",
       "    This parameter is deprecated and will be removed in v0.24.\n",
       "\n",
       "    .. deprecated :: 0.22\n",
       "\n",
       "validation_fraction : float, optional, default 0.1\n",
       "    The proportion of training data to set aside as validation set for\n",
       "    early stopping. Must be between 0 and 1.\n",
       "    Only used if ``n_iter_no_change`` is set to an integer.\n",
       "\n",
       "    .. versionadded:: 0.20\n",
       "\n",
       "n_iter_no_change : int, default None\n",
       "    ``n_iter_no_change`` is used to decide if early stopping will be used\n",
       "    to terminate training when validation score is not improving. By\n",
       "    default it is set to None to disable early stopping. If set to a\n",
       "    number, it will set aside ``validation_fraction`` size of the training\n",
       "    data as validation and terminate training when validation score is not\n",
       "    improving in all of the previous ``n_iter_no_change`` numbers of\n",
       "    iterations. The split is stratified.\n",
       "\n",
       "    .. versionadded:: 0.20\n",
       "\n",
       "tol : float, optional, default 1e-4\n",
       "    Tolerance for the early stopping. When the loss is not improving\n",
       "    by at least tol for ``n_iter_no_change`` iterations (if set to a\n",
       "    number), the training stops.\n",
       "\n",
       "    .. versionadded:: 0.20\n",
       "\n",
       "ccp_alpha : non-negative float, optional (default=0.0)\n",
       "    Complexity parameter used for Minimal Cost-Complexity Pruning. The\n",
       "    subtree with the largest cost complexity that is smaller than\n",
       "    ``ccp_alpha`` will be chosen. By default, no pruning is performed. See\n",
       "    :ref:`minimal_cost_complexity_pruning` for details.\n",
       "\n",
       "    .. versionadded:: 0.22\n",
       "\n",
       "Attributes\n",
       "----------\n",
       "n_estimators_ : int\n",
       "    The number of estimators as selected by early stopping (if\n",
       "    ``n_iter_no_change`` is specified). Otherwise it is set to\n",
       "    ``n_estimators``.\n",
       "\n",
       "    .. versionadded:: 0.20\n",
       "\n",
       "feature_importances_ : array, shape (n_features,)\n",
       "    The feature importances (the higher, the more important the feature).\n",
       "\n",
       "oob_improvement_ : array, shape (n_estimators,)\n",
       "    The improvement in loss (= deviance) on the out-of-bag samples\n",
       "    relative to the previous iteration.\n",
       "    ``oob_improvement_[0]`` is the improvement in\n",
       "    loss of the first stage over the ``init`` estimator.\n",
       "    Only available if ``subsample < 1.0``\n",
       "\n",
       "train_score_ : array, shape (n_estimators,)\n",
       "    The i-th score ``train_score_[i]`` is the deviance (= loss) of the\n",
       "    model at iteration ``i`` on the in-bag sample.\n",
       "    If ``subsample == 1`` this is the deviance on the training data.\n",
       "\n",
       "loss_ : LossFunction\n",
       "    The concrete ``LossFunction`` object.\n",
       "\n",
       "init_ : estimator\n",
       "    The estimator that provides the initial predictions.\n",
       "    Set via the ``init`` argument or ``loss.init_estimator``.\n",
       "\n",
       "estimators_ : ndarray of DecisionTreeRegressor,shape (n_estimators, ``loss_.K``)\n",
       "    The collection of fitted sub-estimators. ``loss_.K`` is 1 for binary\n",
       "    classification, otherwise n_classes.\n",
       "\n",
       "classes_ : array of shape (n_classes,)\n",
       "    The classes labels.\n",
       "\n",
       "Notes\n",
       "-----\n",
       "The features are always randomly permuted at each split. Therefore,\n",
       "the best found split may vary, even with the same training data and\n",
       "``max_features=n_features``, if the improvement of the criterion is\n",
       "identical for several splits enumerated during the search of the best\n",
       "split. To obtain a deterministic behaviour during fitting,\n",
       "``random_state`` has to be fixed.\n",
       "\n",
       "See also\n",
       "--------\n",
       "sklearn.ensemble.HistGradientBoostingClassifier,\n",
       "sklearn.tree.DecisionTreeClassifier, RandomForestClassifier\n",
       "AdaBoostClassifier\n",
       "\n",
       "References\n",
       "----------\n",
       "J. Friedman, Greedy Function Approximation: A Gradient Boosting\n",
       "Machine, The Annals of Statistics, Vol. 29, No. 5, 2001.\n",
       "\n",
       "J. Friedman, Stochastic Gradient Boosting, 1999\n",
       "\n",
       "T. Hastie, R. Tibshirani and J. Friedman.\n",
       "Elements of Statistical Learning Ed. 2, Springer, 2009.\n"
      ]
     },
     "metadata": {},
     "output_type": "display_data"
    }
   ],
   "source": [
    "?gbm_model"
   ]
  },
  {
   "cell_type": "code",
   "execution_count": 275,
   "metadata": {},
   "outputs": [],
   "source": [
    "y_pred = gbm_model.predict(X_test)"
   ]
  },
  {
   "cell_type": "code",
   "execution_count": 276,
   "metadata": {},
   "outputs": [
    {
     "data": {
      "text/plain": [
       "0.7489177489177489"
      ]
     },
     "execution_count": 276,
     "metadata": {},
     "output_type": "execute_result"
    }
   ],
   "source": [
    "accuracy_score(y_test, y_pred)"
   ]
  },
  {
   "cell_type": "markdown",
   "metadata": {},
   "source": [
    "# Model Tuning"
   ]
  },
  {
   "cell_type": "code",
   "execution_count": 277,
   "metadata": {},
   "outputs": [],
   "source": [
    "gbm = GradientBoostingClassifier()"
   ]
  },
  {
   "cell_type": "code",
   "execution_count": 278,
   "metadata": {},
   "outputs": [],
   "source": [
    "gbm_params = {\"learning_rate\": [0.1, 0.01, 0.001, 0.05],\n",
    "             \"n_estimators\": [100, 300, 500, 1000],\n",
    "             \"max_depth\":[2,3,5,8]}"
   ]
  },
  {
   "cell_type": "code",
   "execution_count": 279,
   "metadata": {},
   "outputs": [
    {
     "name": "stdout",
     "output_type": "stream",
     "text": [
      "Fitting 10 folds for each of 64 candidates, totalling 640 fits\n"
     ]
    },
    {
     "name": "stderr",
     "output_type": "stream",
     "text": [
      "[Parallel(n_jobs=-1)]: Using backend LokyBackend with 8 concurrent workers.\n",
      "[Parallel(n_jobs=-1)]: Done  34 tasks      | elapsed:    4.6s\n",
      "[Parallel(n_jobs=-1)]: Done 170 tasks      | elapsed:   33.3s\n",
      "[Parallel(n_jobs=-1)]: Done 373 tasks      | elapsed:  1.6min\n",
      "[Parallel(n_jobs=-1)]: Done 640 out of 640 | elapsed:  3.1min finished\n"
     ]
    }
   ],
   "source": [
    "gbm_cv_model= GridSearchCV(gbm, gbm_params, \n",
    "                           cv = 10, \n",
    "                           n_jobs = -1, verbose = 2).fit(X_train, y_train)"
   ]
  },
  {
   "cell_type": "code",
   "execution_count": 280,
   "metadata": {},
   "outputs": [
    {
     "data": {
      "text/plain": [
       "{'learning_rate': 0.01, 'max_depth': 5, 'n_estimators': 500}"
      ]
     },
     "execution_count": 280,
     "metadata": {},
     "output_type": "execute_result"
    }
   ],
   "source": [
    "gbm_cv_model.best_params_"
   ]
  },
  {
   "cell_type": "code",
   "execution_count": 281,
   "metadata": {},
   "outputs": [],
   "source": [
    "#final model"
   ]
  },
  {
   "cell_type": "code",
   "execution_count": 282,
   "metadata": {},
   "outputs": [],
   "source": [
    "gbm_tuned = GradientBoostingClassifier(learning_rate = 0.01,\n",
    "                                       max_depth = 5, \n",
    "                                       n_estimators = 500).fit(X_train, y_train)"
   ]
  },
  {
   "cell_type": "code",
   "execution_count": 283,
   "metadata": {},
   "outputs": [
    {
     "data": {
      "text/plain": [
       "0.7359307359307359"
      ]
     },
     "execution_count": 283,
     "metadata": {},
     "output_type": "execute_result"
    }
   ],
   "source": [
    "y_pred = gbm_tuned.predict(X_test)\n",
    "accuracy_score(y_test, y_pred)"
   ]
  },
  {
   "cell_type": "code",
   "execution_count": 284,
   "metadata": {},
   "outputs": [
    {
     "data": {
      "image/png": "[encoded data removed]",
      "text/plain": [
       "<Figure size 432x288 with 1 Axes>"
      ]
     },
     "metadata": {
      "needs_background": "light"
     },
     "output_type": "display_data"
    }
   ],
   "source": [
    "feature_imp = pd.Series(gbm_tuned.feature_importances_,\n",
    "                        index=X_train.columns).sort_values(ascending=False)\n",
    "\n",
    "sns.barplot(x=feature_imp, y=feature_imp.index)\n",
    "plt.xlabel('Değişken Önem Skorları')\n",
    "plt.ylabel('Değişkenler')\n",
    "plt.title(\"Değişken Önem Düzeyleri\")\n",
    "plt.show()"
   ]
  },
  {
   "cell_type": "markdown",
   "metadata": {},
   "source": [
    "# XGBoost"
   ]
  },
  {
   "cell_type": "markdown",
   "metadata": {},
   "source": [
    "# Model & Prediction"
   ]
  },
  {
   "cell_type": "code",
   "execution_count": 285,
   "metadata": {},
   "outputs": [
    {
     "name": "stdout",
     "output_type": "stream",
     "text": [
      "Requirement already satisfied: xgboost in c:\\users\\senih\\anaconda3\\lib\\site-packages (1.0.2)\n",
      "Requirement already satisfied: numpy in c:\\users\\senih\\anaconda3\\lib\\site-packages (from xgboost) (1.18.1)\n",
      "Requirement already satisfied: scipy in c:\\users\\senih\\anaconda3\\lib\\site-packages (from xgboost) (1.4.1)\n"
     ]
    }
   ],
   "source": [
    "!pip install xgboost"
   ]
  },
  {
   "cell_type": "code",
   "execution_count": 286,
   "metadata": {},
   "outputs": [],
   "source": [
    "from xgboost import XGBClassifier"
   ]
  },
  {
   "cell_type": "code",
   "execution_count": 287,
   "metadata": {},
   "outputs": [],
   "source": [
    "xgb_model = XGBClassifier().fit(X_train, y_train)"
   ]
  },
  {
   "cell_type": "code",
   "execution_count": 288,
   "metadata": {
    "collapsed": true,
    "jupyter": {
     "outputs_hidden": true
    }
   },
   "outputs": [
    {
     "data": {
      "text/plain": [
       "\u001b[1;31mType:\u001b[0m        XGBClassifier\n",
       "\u001b[1;31mString form:\u001b[0m\n",
       "XGBClassifier(base_score=0.5, booster=None, colsample_bylevel=1,\n",
       "           colsample_bynode=1 <...> weight=1, subsample=1, tree_method=None,\n",
       "           validate_parameters=False, verbosity=None)\n",
       "\u001b[1;31mFile:\u001b[0m        c:\\users\\senih\\anaconda3\\lib\\site-packages\\xgboost\\sklearn.py\n",
       "\u001b[1;31mDocstring:\u001b[0m  \n",
       "Implementation of the scikit-learn API for XGBoost classification.\n",
       "\n",
       "\n",
       "Parameters\n",
       "----------\n",
       "\n",
       "    max_depth : int\n",
       "        Maximum tree depth for base learners.\n",
       "    learning_rate : float\n",
       "        Boosting learning rate (xgb's \"eta\")\n",
       "    verbosity : int\n",
       "        The degree of verbosity. Valid values are 0 (silent) - 3 (debug).\n",
       "    objective : string or callable\n",
       "        Specify the learning task and the corresponding learning objective or\n",
       "        a custom objective function to be used (see note below).\n",
       "    booster: string\n",
       "        Specify which booster to use: gbtree, gblinear or dart.\n",
       "    tree_method: string\n",
       "        Specify which tree method to use.  Default to auto.  If this parameter\n",
       "        is set to default, XGBoost will choose the most conservative option\n",
       "        available.  It's recommended to study this option from parameters\n",
       "        document.\n",
       "    n_jobs : int\n",
       "        Number of parallel threads used to run xgboost.\n",
       "    gamma : float\n",
       "        Minimum loss reduction required to make a further partition on a leaf\n",
       "        node of the tree.\n",
       "    min_child_weight : int\n",
       "        Minimum sum of instance weight(hessian) needed in a child.\n",
       "    max_delta_step : int\n",
       "        Maximum delta step we allow each tree's weight estimation to be.\n",
       "    subsample : float\n",
       "        Subsample ratio of the training instance.\n",
       "    colsample_bytree : float\n",
       "        Subsample ratio of columns when constructing each tree.\n",
       "    colsample_bylevel : float\n",
       "        Subsample ratio of columns for each level.\n",
       "    colsample_bynode : float\n",
       "        Subsample ratio of columns for each split.\n",
       "    reg_alpha : float (xgb's alpha)\n",
       "        L1 regularization term on weights\n",
       "    reg_lambda : float (xgb's lambda)\n",
       "        L2 regularization term on weights\n",
       "    scale_pos_weight : float\n",
       "        Balancing of positive and negative weights.\n",
       "    base_score:\n",
       "        The initial prediction score of all instances, global bias.\n",
       "    random_state : int\n",
       "        Random number seed.\n",
       "\n",
       "        .. note::\n",
       "\n",
       "           Using gblinear booster with shotgun updater is nondeterministic as\n",
       "           it uses Hogwild algorithm.\n",
       "\n",
       "    missing : float, optional\n",
       "        Value in the data which needs to be present as a missing value. If\n",
       "        None, defaults to np.nan.\n",
       "    num_parallel_tree: int\n",
       "        Used for boosting random forest.\n",
       "    monotone_constraints : str\n",
       "        Constraint of variable monotonicity.  See tutorial for more\n",
       "        information.c\n",
       "    interaction_constraints : str\n",
       "        Constraints for interaction representing permitted interactions.  The\n",
       "        constraints must be specified in the form of a nest list, e.g. [[0, 1],\n",
       "        [2, 3, 4]], where each inner list is a group of indices of features\n",
       "        that are allowed to interact with each other.  See tutorial for more\n",
       "        information\n",
       "    importance_type: string, default \"gain\"\n",
       "        The feature importance type for the feature_importances\\_ property:\n",
       "        either \"gain\", \"weight\", \"cover\", \"total_gain\" or \"total_cover\".\n",
       "\n",
       "    \\*\\*kwargs : dict, optional\n",
       "        Keyword arguments for XGBoost Booster object.  Full documentation of\n",
       "        parameters can be found here:\n",
       "        https://github.com/dmlc/xgboost/blob/master/doc/parameter.rst.\n",
       "        Attempting to set a parameter via the constructor args and \\*\\*kwargs\n",
       "        dict simultaneously will result in a TypeError.\n",
       "\n",
       "        .. note:: \\*\\*kwargs unsupported by scikit-learn\n",
       "\n",
       "            \\*\\*kwargs is unsupported by scikit-learn.  We do not guarantee\n",
       "            that parameters passed via this argument will interact properly\n",
       "            with scikit-learn.\n",
       "\n",
       "        .. note::  Custom objective function\n",
       "\n",
       "            A custom objective function can be provided for the ``objective``\n",
       "            parameter. In this case, it should have the signature\n",
       "            ``objective(y_true, y_pred) -> grad, hess``:\n",
       "\n",
       "            y_true: array_like of shape [n_samples]\n",
       "                The target values\n",
       "            y_pred: array_like of shape [n_samples]\n",
       "                The predicted values\n",
       "\n",
       "            grad: array_like of shape [n_samples]\n",
       "                The value of the gradient for each sample point.\n",
       "            hess: array_like of shape [n_samples]\n",
       "                The value of the second derivative for each sample point\n"
      ]
     },
     "metadata": {},
     "output_type": "display_data"
    }
   ],
   "source": [
    "?xgb_model"
   ]
  },
  {
   "cell_type": "code",
   "execution_count": 289,
   "metadata": {},
   "outputs": [],
   "source": [
    "y_pred = xgb_model.predict(X_test)"
   ]
  },
  {
   "cell_type": "code",
   "execution_count": 290,
   "metadata": {},
   "outputs": [
    {
     "data": {
      "text/plain": [
       "0.7359307359307359"
      ]
     },
     "execution_count": 290,
     "metadata": {},
     "output_type": "execute_result"
    }
   ],
   "source": [
    "accuracy_score(y_test, y_pred)"
   ]
  },
  {
   "cell_type": "markdown",
   "metadata": {},
   "source": [
    "# Model Tuning"
   ]
  },
  {
   "cell_type": "code",
   "execution_count": 291,
   "metadata": {},
   "outputs": [],
   "source": [
    "xgb = XGBClassifier()"
   ]
  },
  {
   "cell_type": "code",
   "execution_count": 292,
   "metadata": {},
   "outputs": [],
   "source": [
    "xgb_params = {\"n_estimators\": [100, 500, 1000],\n",
    "             \"subsample\":[0.6,0.8,1],\n",
    "             \"max_depth\":[3,5,7],\n",
    "             \"learning_rate\":[0.1,0.001,0.01]}"
   ]
  },
  {
   "cell_type": "code",
   "execution_count": 293,
   "metadata": {},
   "outputs": [
    {
     "name": "stdout",
     "output_type": "stream",
     "text": [
      "Fitting 10 folds for each of 81 candidates, totalling 810 fits\n"
     ]
    },
    {
     "name": "stderr",
     "output_type": "stream",
     "text": [
      "[Parallel(n_jobs=-1)]: Using backend LokyBackend with 8 concurrent workers.\n",
      "[Parallel(n_jobs=-1)]: Done  25 tasks      | elapsed:    2.5s\n",
      "[Parallel(n_jobs=-1)]: Done 146 tasks      | elapsed:   16.5s\n",
      "[Parallel(n_jobs=-1)]: Done 349 tasks      | elapsed:   43.0s\n",
      "[Parallel(n_jobs=-1)]: Done 632 tasks      | elapsed:  1.4min\n",
      "[Parallel(n_jobs=-1)]: Done 810 out of 810 | elapsed:  1.8min finished\n"
     ]
    }
   ],
   "source": [
    "xgb_cv_model = GridSearchCV(xgb, xgb_params, cv = 10, \n",
    "                            n_jobs = -1, verbose = 2).fit(X_train, y_train)"
   ]
  },
  {
   "cell_type": "code",
   "execution_count": 294,
   "metadata": {},
   "outputs": [
    {
     "data": {
      "text/plain": [
       "{'learning_rate': 0.001, 'max_depth': 7, 'n_estimators': 500, 'subsample': 0.6}"
      ]
     },
     "execution_count": 294,
     "metadata": {},
     "output_type": "execute_result"
    }
   ],
   "source": [
    "xgb_cv_model.best_params_"
   ]
  },
  {
   "cell_type": "code",
   "execution_count": 295,
   "metadata": {},
   "outputs": [],
   "source": [
    "xgb_tuned = xgb = XGBClassifier(learning_rate= 0.001, \n",
    "                                max_depth= 7, \n",
    "                                n_estimators= 500, \n",
    "                                subsample= 0.6).fit(X_train, y_train)"
   ]
  },
  {
   "cell_type": "code",
   "execution_count": 296,
   "metadata": {},
   "outputs": [],
   "source": [
    "y_pred = xgb_tuned.predict(X_test)"
   ]
  },
  {
   "cell_type": "code",
   "execution_count": 297,
   "metadata": {},
   "outputs": [
    {
     "data": {
      "text/plain": [
       "0.7575757575757576"
      ]
     },
     "execution_count": 297,
     "metadata": {},
     "output_type": "execute_result"
    }
   ],
   "source": [
    "accuracy_score(y_test,y_pred)"
   ]
  },
  {
   "cell_type": "code",
   "execution_count": 298,
   "metadata": {},
   "outputs": [],
   "source": [
    "# Feature importance"
   ]
  },
  {
   "cell_type": "code",
   "execution_count": 299,
   "metadata": {},
   "outputs": [
    {
     "data": {
      "image/png": "[encoded data removed]",
      "text/plain": [
       "<Figure size 432x288 with 1 Axes>"
      ]
     },
     "metadata": {
      "needs_background": "light"
     },
     "output_type": "display_data"
    }
   ],
   "source": [
    "feature_imp = pd.Series(xgb_tuned.feature_importances_,\n",
    "                        index=X_train.columns).sort_values(ascending=False)\n",
    "\n",
    "sns.barplot(x=feature_imp, y=feature_imp.index)\n",
    "plt.xlabel('importance scores of variables')\n",
    "plt.ylabel('Variables')\n",
    "plt.title(\"Feature importance\")\n",
    "plt.show()"
   ]
  },
  {
   "cell_type": "markdown",
   "metadata": {},
   "source": [
    "# Light GBM  (faster than XGBoost) developed by Microsoft"
   ]
  },
  {
   "cell_type": "markdown",
   "metadata": {},
   "source": [
    "# Model & Prediction"
   ]
  },
  {
   "cell_type": "code",
   "execution_count": 300,
   "metadata": {},
   "outputs": [
    {
     "name": "stdout",
     "output_type": "stream",
     "text": [
      "Requirement already satisfied: lightgbm in c:\\users\\senih\\anaconda3\\lib\\site-packages (2.3.1)\n",
      "Requirement already satisfied: numpy in c:\\users\\senih\\anaconda3\\lib\\site-packages (from lightgbm) (1.18.1)\n",
      "Requirement already satisfied: scikit-learn in c:\\users\\senih\\anaconda3\\lib\\site-packages (from lightgbm) (0.22.1)\n",
      "Requirement already satisfied: scipy in c:\\users\\senih\\anaconda3\\lib\\site-packages (from lightgbm) (1.4.1)\n",
      "Requirement already satisfied: joblib>=0.11 in c:\\users\\senih\\anaconda3\\lib\\site-packages (from scikit-learn->lightgbm) (0.14.1)\n"
     ]
    }
   ],
   "source": [
    "!pip install lightgbm"
   ]
  },
  {
   "cell_type": "code",
   "execution_count": 301,
   "metadata": {},
   "outputs": [
    {
     "name": "stdout",
     "output_type": "stream",
     "text": [
      "Collecting package metadata (current_repodata.json): ...working... done\n",
      "Solving environment: ...working... done\n",
      "\n",
      "# All requested packages already installed.\n",
      "\n"
     ]
    }
   ],
   "source": [
    "!conda install -c conda-forge lightgbm"
   ]
  },
  {
   "cell_type": "code",
   "execution_count": 302,
   "metadata": {},
   "outputs": [],
   "source": [
    "from lightgbm import LGBMClassifier"
   ]
  },
  {
   "cell_type": "code",
   "execution_count": 303,
   "metadata": {},
   "outputs": [],
   "source": [
    "lgbm_model = LGBMClassifier().fit(X_train, y_train)"
   ]
  },
  {
   "cell_type": "code",
   "execution_count": 304,
   "metadata": {
    "collapsed": true,
    "jupyter": {
     "outputs_hidden": true
    }
   },
   "outputs": [
    {
     "data": {
      "text/plain": [
       "\u001b[1;31mType:\u001b[0m           LGBMClassifier\n",
       "\u001b[1;31mString form:\u001b[0m   \n",
       "LGBMClassifier(boosting_type='gbdt', class_weight=None, colsample_bytree=1.0,\n",
       "           impo <...> ambda=0.0, silent=True,\n",
       "           subsample=1.0, subsample_for_bin=200000, subsample_freq=0)\n",
       "\u001b[1;31mFile:\u001b[0m           c:\\users\\senih\\anaconda3\\lib\\site-packages\\lightgbm\\sklearn.py\n",
       "\u001b[1;31mDocstring:\u001b[0m      LightGBM classifier.\n",
       "\u001b[1;31mInit docstring:\u001b[0m\n",
       "Construct a gradient boosting model.\n",
       "\n",
       "Parameters\n",
       "----------\n",
       "boosting_type : string, optional (default='gbdt')\n",
       "    'gbdt', traditional Gradient Boosting Decision Tree.\n",
       "    'dart', Dropouts meet Multiple Additive Regression Trees.\n",
       "    'goss', Gradient-based One-Side Sampling.\n",
       "    'rf', Random Forest.\n",
       "num_leaves : int, optional (default=31)\n",
       "    Maximum tree leaves for base learners.\n",
       "max_depth : int, optional (default=-1)\n",
       "    Maximum tree depth for base learners, <=0 means no limit.\n",
       "learning_rate : float, optional (default=0.1)\n",
       "    Boosting learning rate.\n",
       "    You can use ``callbacks`` parameter of ``fit`` method to shrink/adapt learning rate\n",
       "    in training using ``reset_parameter`` callback.\n",
       "    Note, that this will ignore the ``learning_rate`` argument in training.\n",
       "n_estimators : int, optional (default=100)\n",
       "    Number of boosted trees to fit.\n",
       "subsample_for_bin : int, optional (default=200000)\n",
       "    Number of samples for constructing bins.\n",
       "objective : string, callable or None, optional (default=None)\n",
       "    Specify the learning task and the corresponding learning objective or\n",
       "    a custom objective function to be used (see note below).\n",
       "    Default: 'regression' for LGBMRegressor, 'binary' or 'multiclass' for LGBMClassifier, 'lambdarank' for LGBMRanker.\n",
       "class_weight : dict, 'balanced' or None, optional (default=None)\n",
       "    Weights associated with classes in the form ``{class_label: weight}``.\n",
       "    Use this parameter only for multi-class classification task;\n",
       "    for binary classification task you may use ``is_unbalance`` or ``scale_pos_weight`` parameters.\n",
       "    Note, that the usage of all these parameters will result in poor estimates of the individual class probabilities.\n",
       "    You may want to consider performing probability calibration\n",
       "    (https://scikit-learn.org/stable/modules/calibration.html) of your model.\n",
       "    The 'balanced' mode uses the values of y to automatically adjust weights\n",
       "    inversely proportional to class frequencies in the input data as ``n_samples / (n_classes * np.bincount(y))``.\n",
       "    If None, all classes are supposed to have weight one.\n",
       "    Note, that these weights will be multiplied with ``sample_weight`` (passed through the ``fit`` method)\n",
       "    if ``sample_weight`` is specified.\n",
       "min_split_gain : float, optional (default=0.)\n",
       "    Minimum loss reduction required to make a further partition on a leaf node of the tree.\n",
       "min_child_weight : float, optional (default=1e-3)\n",
       "    Minimum sum of instance weight (hessian) needed in a child (leaf).\n",
       "min_child_samples : int, optional (default=20)\n",
       "    Minimum number of data needed in a child (leaf).\n",
       "subsample : float, optional (default=1.)\n",
       "    Subsample ratio of the training instance.\n",
       "subsample_freq : int, optional (default=0)\n",
       "    Frequence of subsample, <=0 means no enable.\n",
       "colsample_bytree : float, optional (default=1.)\n",
       "    Subsample ratio of columns when constructing each tree.\n",
       "reg_alpha : float, optional (default=0.)\n",
       "    L1 regularization term on weights.\n",
       "reg_lambda : float, optional (default=0.)\n",
       "    L2 regularization term on weights.\n",
       "random_state : int or None, optional (default=None)\n",
       "    Random number seed.\n",
       "    If None, default seeds in C++ code will be used.\n",
       "n_jobs : int, optional (default=-1)\n",
       "    Number of parallel threads.\n",
       "silent : bool, optional (default=True)\n",
       "    Whether to print messages while running boosting.\n",
       "importance_type : string, optional (default='split')\n",
       "    The type of feature importance to be filled into ``feature_importances_``.\n",
       "    If 'split', result contains numbers of times the feature is used in a model.\n",
       "    If 'gain', result contains total gains of splits which use the feature.\n",
       "**kwargs\n",
       "    Other parameters for the model.\n",
       "    Check http://lightgbm.readthedocs.io/en/latest/Parameters.html for more parameters.\n",
       "\n",
       "    .. warning::\n",
       "\n",
       "        \\*\\*kwargs is not supported in sklearn, it may cause unexpected issues.\n",
       "\n",
       "Attributes\n",
       "----------\n",
       "n_features_ : int\n",
       "    The number of features of fitted model.\n",
       "classes_ : array of shape = [n_classes]\n",
       "    The class label array (only for classification problem).\n",
       "n_classes_ : int\n",
       "    The number of classes (only for classification problem).\n",
       "best_score_ : dict or None\n",
       "    The best score of fitted model.\n",
       "best_iteration_ : int or None\n",
       "    The best iteration of fitted model if ``early_stopping_rounds`` has been specified.\n",
       "objective_ : string or callable\n",
       "    The concrete objective used while fitting this model.\n",
       "booster_ : Booster\n",
       "    The underlying Booster of this model.\n",
       "evals_result_ : dict or None\n",
       "    The evaluation results if ``early_stopping_rounds`` has been specified.\n",
       "feature_importances_ : array of shape = [n_features]\n",
       "    The feature importances (the higher, the more important the feature).\n",
       "\n",
       "Note\n",
       "----\n",
       "A custom objective function can be provided for the ``objective`` parameter.\n",
       "In this case, it should have the signature\n",
       "``objective(y_true, y_pred) -> grad, hess`` or\n",
       "``objective(y_true, y_pred, group) -> grad, hess``:\n",
       "\n",
       "    y_true : array-like of shape = [n_samples]\n",
       "        The target values.\n",
       "    y_pred : array-like of shape = [n_samples] or shape = [n_samples * n_classes] (for multi-class task)\n",
       "        The predicted values.\n",
       "    group : array-like\n",
       "        Group/query data, used for ranking task.\n",
       "    grad : array-like of shape = [n_samples] or shape = [n_samples * n_classes] (for multi-class task)\n",
       "        The value of the first order derivative (gradient) for each sample point.\n",
       "    hess : array-like of shape = [n_samples] or shape = [n_samples * n_classes] (for multi-class task)\n",
       "        The value of the second order derivative (Hessian) for each sample point.\n",
       "\n",
       "For multi-class task, the y_pred is group by class_id first, then group by row_id.\n",
       "If you want to get i-th row y_pred in j-th class, the access way is y_pred[j * num_data + i]\n",
       "and you should group grad and hess in this way as well.\n"
      ]
     },
     "metadata": {},
     "output_type": "display_data"
    }
   ],
   "source": [
    "?lgbm_model"
   ]
  },
  {
   "cell_type": "code",
   "execution_count": 305,
   "metadata": {},
   "outputs": [],
   "source": [
    "y_pred = lgbm_model.predict(X_test)"
   ]
  },
  {
   "cell_type": "code",
   "execution_count": 306,
   "metadata": {},
   "outputs": [
    {
     "data": {
      "text/plain": [
       "0.7272727272727273"
      ]
     },
     "execution_count": 306,
     "metadata": {},
     "output_type": "execute_result"
    }
   ],
   "source": [
    "accuracy_score(y_test,y_pred)"
   ]
  },
  {
   "cell_type": "markdown",
   "metadata": {},
   "source": [
    "# Model Tuning"
   ]
  },
  {
   "cell_type": "code",
   "execution_count": 307,
   "metadata": {},
   "outputs": [],
   "source": [
    "lgbm = LGBMClassifier()"
   ]
  },
  {
   "cell_type": "code",
   "execution_count": 308,
   "metadata": {},
   "outputs": [],
   "source": [
    "lgbm_params = {\"learning_rate\": [0.001, 0.01, 0.1],\n",
    "              \"n_estimators\": [200, 500, 100],\n",
    "              \"max_depth\":[1,2,35,8]}"
   ]
  },
  {
   "cell_type": "code",
   "execution_count": 309,
   "metadata": {},
   "outputs": [
    {
     "name": "stdout",
     "output_type": "stream",
     "text": [
      "Fitting 10 folds for each of 36 candidates, totalling 360 fits\n"
     ]
    },
    {
     "name": "stderr",
     "output_type": "stream",
     "text": [
      "[Parallel(n_jobs=-1)]: Using backend LokyBackend with 8 concurrent workers.\n",
      "[Parallel(n_jobs=-1)]: Done  34 tasks      | elapsed:    0.4s\n",
      "[Parallel(n_jobs=-1)]: Done 345 out of 360 | elapsed:    8.6s remaining:    0.3s\n",
      "[Parallel(n_jobs=-1)]: Done 360 out of 360 | elapsed:    9.1s finished\n"
     ]
    },
    {
     "data": {
      "text/plain": [
       "{'learning_rate': 0.01, 'max_depth': 1, 'n_estimators': 500}"
      ]
     },
     "execution_count": 309,
     "metadata": {},
     "output_type": "execute_result"
    }
   ],
   "source": [
    "lgbm_params = {\"learning_rate\": [0.001, 0.01, 0.1],\n",
    "              \"n_estimators\": [200, 500, 100],\n",
    "              \"max_depth\":[1,2,35,8]}\n",
    "lgbm_cv_model = GridSearchCV(lgbm,lgbm_params, cv = 10, n_jobs = -1, verbose = 2).fit(X_train, y_train)\n",
    "lgbm_cv_model.best_params_"
   ]
  },
  {
   "cell_type": "code",
   "execution_count": 310,
   "metadata": {},
   "outputs": [
    {
     "data": {
      "text/plain": [
       "{'learning_rate': 0.01, 'max_depth': 1, 'n_estimators': 500}"
      ]
     },
     "execution_count": 310,
     "metadata": {},
     "output_type": "execute_result"
    }
   ],
   "source": [
    "lgbm_cv_model.best_params_"
   ]
  },
  {
   "cell_type": "code",
   "execution_count": 311,
   "metadata": {},
   "outputs": [],
   "source": [
    "lgbm_tuned = LGBMClassifier(learning_rate= 0.01, \n",
    "                            max_depth= 1, \n",
    "                            n_estimators= 500).fit(X_train, y_train)"
   ]
  },
  {
   "cell_type": "code",
   "execution_count": 312,
   "metadata": {},
   "outputs": [],
   "source": [
    "y_pred = lgbm_tuned.predict(X_test)"
   ]
  },
  {
   "cell_type": "code",
   "execution_count": 313,
   "metadata": {},
   "outputs": [
    {
     "data": {
      "text/plain": [
       "0.7575757575757576"
      ]
     },
     "execution_count": 313,
     "metadata": {},
     "output_type": "execute_result"
    }
   ],
   "source": [
    "accuracy_score(y_test, y_pred)"
   ]
  },
  {
   "cell_type": "code",
   "execution_count": 314,
   "metadata": {},
   "outputs": [
    {
     "data": {
      "image/png": "[encoded data removed]",
      "text/plain": [
       "<Figure size 432x288 with 1 Axes>"
      ]
     },
     "metadata": {
      "needs_background": "light"
     },
     "output_type": "display_data"
    }
   ],
   "source": [
    "feature_imp = pd.Series(lgbm_tuned.feature_importances_,\n",
    "                        index=X_train.columns).sort_values(ascending=False)\n",
    "\n",
    "sns.barplot(x=feature_imp, y=feature_imp.index)\n",
    "plt.xlabel('importance scores of variables')\n",
    "plt.ylabel('Variables')\n",
    "plt.title(\"Feature importance\")\n",
    "plt.show()"
   ]
  },
  {
   "cell_type": "markdown",
   "metadata": {},
   "source": [
    "# CatBoost  (developed by Yandex)"
   ]
  },
  {
   "cell_type": "markdown",
   "metadata": {},
   "source": [
    "# Model & Prediction"
   ]
  },
  {
   "cell_type": "code",
   "execution_count": 315,
   "metadata": {
    "collapsed": true,
    "jupyter": {
     "outputs_hidden": true
    }
   },
   "outputs": [
    {
     "name": "stdout",
     "output_type": "stream",
     "text": [
      "Requirement already satisfied: catboost in c:\\users\\senih\\anaconda3\\lib\\site-packages (0.23)\n",
      "Requirement already satisfied: numpy>=1.16.0 in c:\\users\\senih\\anaconda3\\lib\\site-packages (from catboost) (1.18.1)\n",
      "Requirement already satisfied: matplotlib in c:\\users\\senih\\anaconda3\\lib\\site-packages (from catboost) (3.1.3)\n",
      "Requirement already satisfied: six in c:\\users\\senih\\anaconda3\\lib\\site-packages (from catboost) (1.14.0)\n",
      "Requirement already satisfied: graphviz in c:\\users\\senih\\anaconda3\\lib\\site-packages (from catboost) (0.14)\n",
      "Requirement already satisfied: pandas>=0.24.0 in c:\\users\\senih\\anaconda3\\lib\\site-packages (from catboost) (1.0.1)\n",
      "Requirement already satisfied: plotly in c:\\users\\senih\\anaconda3\\lib\\site-packages (from catboost) (4.7.0)\n",
      "Requirement already satisfied: scipy in c:\\users\\senih\\anaconda3\\lib\\site-packages (from catboost) (1.4.1)\n",
      "Requirement already satisfied: cycler>=0.10 in c:\\users\\senih\\anaconda3\\lib\\site-packages (from matplotlib->catboost) (0.10.0)\n",
      "Requirement already satisfied: pyparsing!=2.0.4,!=2.1.2,!=2.1.6,>=2.0.1 in c:\\users\\senih\\anaconda3\\lib\\site-packages (from matplotlib->catboost) (2.4.6)\n",
      "Requirement already satisfied: kiwisolver>=1.0.1 in c:\\users\\senih\\anaconda3\\lib\\site-packages (from matplotlib->catboost) (1.1.0)\n",
      "Requirement already satisfied: python-dateutil>=2.1 in c:\\users\\senih\\anaconda3\\lib\\site-packages (from matplotlib->catboost) (2.8.1)\n",
      "Requirement already satisfied: pytz>=2017.2 in c:\\users\\senih\\anaconda3\\lib\\site-packages (from pandas>=0.24.0->catboost) (2019.3)\n",
      "Requirement already satisfied: retrying>=1.3.3 in c:\\users\\senih\\anaconda3\\lib\\site-packages (from plotly->catboost) (1.3.3)\n",
      "Requirement already satisfied: setuptools in c:\\users\\senih\\anaconda3\\lib\\site-packages (from kiwisolver>=1.0.1->matplotlib->catboost) (45.2.0.post20200210)\n"
     ]
    }
   ],
   "source": [
    "!pip install catboost"
   ]
  },
  {
   "cell_type": "code",
   "execution_count": 316,
   "metadata": {},
   "outputs": [],
   "source": [
    "from catboost import CatBoostClassifier"
   ]
  },
  {
   "cell_type": "code",
   "execution_count": 317,
   "metadata": {},
   "outputs": [],
   "source": [
    "catb_model = CatBoostClassifier().fit(X_train, y_train, verbose = False)"
   ]
  },
  {
   "cell_type": "code",
   "execution_count": 318,
   "metadata": {},
   "outputs": [
    {
     "data": {
      "text/plain": [
       "\u001b[1;31mType:\u001b[0m            CatBoostClassifier\n",
       "\u001b[1;31mString form:\u001b[0m     <catboost.core.CatBoostClassifier object at 0x00000273BC8A94C8>\n",
       "\u001b[1;31mFile:\u001b[0m            c:\\users\\senih\\anaconda3\\lib\\site-packages\\catboost\\core.py\n",
       "\u001b[1;31mDocstring:\u001b[0m       <no docstring>\n",
       "\u001b[1;31mClass docstring:\u001b[0m CatBoost model. Contains training, prediction and evaluation methods.\n",
       "\u001b[1;31mInit docstring:\u001b[0m \n",
       "Initialize the CatBoost.\n",
       "\n",
       "Parameters\n",
       "----------\n",
       "params : dict\n",
       "    Parameters for CatBoost.\n",
       "    If  None, all params are set to their defaults.\n",
       "    If  dict, overriding parameters present in dict.\n"
      ]
     },
     "metadata": {},
     "output_type": "display_data"
    }
   ],
   "source": [
    "?catb_model"
   ]
  },
  {
   "cell_type": "code",
   "execution_count": 319,
   "metadata": {},
   "outputs": [],
   "source": [
    "y_pred = catb_model.predict(X_test)"
   ]
  },
  {
   "cell_type": "code",
   "execution_count": 320,
   "metadata": {},
   "outputs": [
    {
     "data": {
      "text/plain": [
       "0.7402597402597403"
      ]
     },
     "execution_count": 320,
     "metadata": {},
     "output_type": "execute_result"
    }
   ],
   "source": [
    "accuracy_score(y_test, y_pred)"
   ]
  },
  {
   "cell_type": "markdown",
   "metadata": {},
   "source": [
    "# Model Tuning"
   ]
  },
  {
   "cell_type": "code",
   "execution_count": 321,
   "metadata": {},
   "outputs": [],
   "source": [
    "catb = CatBoostClassifier()"
   ]
  },
  {
   "cell_type": "code",
   "execution_count": 322,
   "metadata": {},
   "outputs": [],
   "source": [
    "catb_params = {\"iterations\":[200,500,100],\n",
    "              \"learning_rate\":[0.01, 0.03, 0.1],\n",
    "              \"depth\":[4,5,8]}"
   ]
  },
  {
   "cell_type": "code",
   "execution_count": 323,
   "metadata": {
    "collapsed": true,
    "jupyter": {
     "outputs_hidden": true
    }
   },
   "outputs": [
    {
     "name": "stdout",
     "output_type": "stream",
     "text": [
      "Fitting 5 folds for each of 27 candidates, totalling 135 fits\n"
     ]
    },
    {
     "name": "stderr",
     "output_type": "stream",
     "text": [
      "[Parallel(n_jobs=-1)]: Using backend LokyBackend with 8 concurrent workers.\n",
      "[Parallel(n_jobs=-1)]: Done  25 tasks      | elapsed:   15.0s\n",
      "[Parallel(n_jobs=-1)]: Done 135 out of 135 | elapsed:  1.5min finished\n"
     ]
    },
    {
     "name": "stdout",
     "output_type": "stream",
     "text": [
      "0:\tlearn: 0.6730562\ttotal: 14.5ms\tremaining: 2.88s\n",
      "1:\tlearn: 0.6583303\ttotal: 17.5ms\tremaining: 1.73s\n",
      "2:\tlearn: 0.6413852\ttotal: 20.7ms\tremaining: 1.36s\n",
      "3:\tlearn: 0.6268405\ttotal: 24ms\tremaining: 1.18s\n",
      "4:\tlearn: 0.6150883\ttotal: 27.3ms\tremaining: 1.06s\n",
      "5:\tlearn: 0.5989093\ttotal: 30.3ms\tremaining: 979ms\n",
      "6:\tlearn: 0.5861303\ttotal: 33.4ms\tremaining: 921ms\n",
      "7:\tlearn: 0.5735117\ttotal: 36.6ms\tremaining: 878ms\n",
      "8:\tlearn: 0.5616370\ttotal: 39.8ms\tremaining: 845ms\n",
      "9:\tlearn: 0.5507706\ttotal: 43.3ms\tremaining: 822ms\n",
      "10:\tlearn: 0.5388394\ttotal: 46.5ms\tremaining: 799ms\n",
      "11:\tlearn: 0.5264516\ttotal: 49.8ms\tremaining: 780ms\n",
      "12:\tlearn: 0.5191660\ttotal: 53ms\tremaining: 763ms\n",
      "13:\tlearn: 0.5104459\ttotal: 56.2ms\tremaining: 747ms\n",
      "14:\tlearn: 0.5017018\ttotal: 59.2ms\tremaining: 730ms\n",
      "15:\tlearn: 0.4954928\ttotal: 62.2ms\tremaining: 715ms\n",
      "16:\tlearn: 0.4896817\ttotal: 65.3ms\tremaining: 703ms\n",
      "17:\tlearn: 0.4808546\ttotal: 71.2ms\tremaining: 720ms\n",
      "18:\tlearn: 0.4724010\ttotal: 77.1ms\tremaining: 734ms\n",
      "19:\tlearn: 0.4657244\ttotal: 82.2ms\tremaining: 740ms\n",
      "20:\tlearn: 0.4613432\ttotal: 86.7ms\tremaining: 739ms\n",
      "21:\tlearn: 0.4537068\ttotal: 90.9ms\tremaining: 735ms\n",
      "22:\tlearn: 0.4488883\ttotal: 94.5ms\tremaining: 727ms\n",
      "23:\tlearn: 0.4438466\ttotal: 98.2ms\tremaining: 720ms\n",
      "24:\tlearn: 0.4372028\ttotal: 104ms\tremaining: 726ms\n",
      "25:\tlearn: 0.4327993\ttotal: 109ms\tremaining: 730ms\n",
      "26:\tlearn: 0.4274812\ttotal: 114ms\tremaining: 730ms\n",
      "27:\tlearn: 0.4215002\ttotal: 119ms\tremaining: 730ms\n",
      "28:\tlearn: 0.4161126\ttotal: 123ms\tremaining: 725ms\n",
      "29:\tlearn: 0.4116830\ttotal: 127ms\tremaining: 719ms\n",
      "30:\tlearn: 0.4074000\ttotal: 130ms\tremaining: 711ms\n",
      "31:\tlearn: 0.4012367\ttotal: 134ms\tremaining: 704ms\n",
      "32:\tlearn: 0.3971203\ttotal: 137ms\tremaining: 695ms\n",
      "33:\tlearn: 0.3909248\ttotal: 141ms\tremaining: 687ms\n",
      "34:\tlearn: 0.3868997\ttotal: 143ms\tremaining: 676ms\n",
      "35:\tlearn: 0.3836984\ttotal: 147ms\tremaining: 669ms\n",
      "36:\tlearn: 0.3800295\ttotal: 150ms\tremaining: 663ms\n",
      "37:\tlearn: 0.3768893\ttotal: 154ms\tremaining: 656ms\n",
      "38:\tlearn: 0.3726886\ttotal: 157ms\tremaining: 649ms\n",
      "39:\tlearn: 0.3692111\ttotal: 161ms\tremaining: 642ms\n",
      "40:\tlearn: 0.3656284\ttotal: 164ms\tremaining: 634ms\n",
      "41:\tlearn: 0.3617278\ttotal: 167ms\tremaining: 629ms\n",
      "42:\tlearn: 0.3580843\ttotal: 170ms\tremaining: 622ms\n",
      "43:\tlearn: 0.3556401\ttotal: 174ms\tremaining: 616ms\n",
      "44:\tlearn: 0.3520825\ttotal: 177ms\tremaining: 610ms\n",
      "45:\tlearn: 0.3493779\ttotal: 180ms\tremaining: 604ms\n",
      "46:\tlearn: 0.3456837\ttotal: 184ms\tremaining: 598ms\n",
      "47:\tlearn: 0.3432794\ttotal: 187ms\tremaining: 592ms\n",
      "48:\tlearn: 0.3401259\ttotal: 190ms\tremaining: 586ms\n",
      "49:\tlearn: 0.3353722\ttotal: 194ms\tremaining: 582ms\n",
      "50:\tlearn: 0.3334148\ttotal: 198ms\tremaining: 580ms\n",
      "51:\tlearn: 0.3299847\ttotal: 202ms\tremaining: 575ms\n",
      "52:\tlearn: 0.3280110\ttotal: 206ms\tremaining: 571ms\n",
      "53:\tlearn: 0.3252961\ttotal: 210ms\tremaining: 568ms\n",
      "54:\tlearn: 0.3233621\ttotal: 214ms\tremaining: 564ms\n",
      "55:\tlearn: 0.3207172\ttotal: 217ms\tremaining: 559ms\n",
      "56:\tlearn: 0.3181249\ttotal: 221ms\tremaining: 554ms\n",
      "57:\tlearn: 0.3161254\ttotal: 225ms\tremaining: 550ms\n",
      "58:\tlearn: 0.3140861\ttotal: 228ms\tremaining: 545ms\n",
      "59:\tlearn: 0.3127501\ttotal: 232ms\tremaining: 541ms\n",
      "60:\tlearn: 0.3110175\ttotal: 238ms\tremaining: 543ms\n",
      "61:\tlearn: 0.3082383\ttotal: 242ms\tremaining: 540ms\n",
      "62:\tlearn: 0.3058924\ttotal: 246ms\tremaining: 536ms\n",
      "63:\tlearn: 0.3034503\ttotal: 251ms\tremaining: 534ms\n",
      "64:\tlearn: 0.3007585\ttotal: 255ms\tremaining: 531ms\n",
      "65:\tlearn: 0.2989303\ttotal: 260ms\tremaining: 527ms\n",
      "66:\tlearn: 0.2974695\ttotal: 264ms\tremaining: 523ms\n",
      "67:\tlearn: 0.2952234\ttotal: 268ms\tremaining: 520ms\n",
      "68:\tlearn: 0.2917672\ttotal: 271ms\tremaining: 515ms\n",
      "69:\tlearn: 0.2904015\ttotal: 273ms\tremaining: 506ms\n",
      "70:\tlearn: 0.2882877\ttotal: 276ms\tremaining: 501ms\n",
      "71:\tlearn: 0.2864031\ttotal: 279ms\tremaining: 496ms\n",
      "72:\tlearn: 0.2847410\ttotal: 282ms\tremaining: 491ms\n",
      "73:\tlearn: 0.2831286\ttotal: 286ms\tremaining: 486ms\n",
      "74:\tlearn: 0.2805571\ttotal: 289ms\tremaining: 481ms\n",
      "75:\tlearn: 0.2788848\ttotal: 292ms\tremaining: 476ms\n",
      "76:\tlearn: 0.2761907\ttotal: 295ms\tremaining: 471ms\n",
      "77:\tlearn: 0.2749625\ttotal: 297ms\tremaining: 465ms\n",
      "78:\tlearn: 0.2733984\ttotal: 301ms\tremaining: 461ms\n",
      "79:\tlearn: 0.2723307\ttotal: 304ms\tremaining: 456ms\n",
      "80:\tlearn: 0.2710214\ttotal: 307ms\tremaining: 451ms\n",
      "81:\tlearn: 0.2699080\ttotal: 310ms\tremaining: 446ms\n",
      "82:\tlearn: 0.2683451\ttotal: 312ms\tremaining: 440ms\n",
      "83:\tlearn: 0.2669487\ttotal: 315ms\tremaining: 435ms\n",
      "84:\tlearn: 0.2647716\ttotal: 318ms\tremaining: 430ms\n",
      "85:\tlearn: 0.2634680\ttotal: 321ms\tremaining: 426ms\n",
      "86:\tlearn: 0.2622303\ttotal: 324ms\tremaining: 421ms\n",
      "87:\tlearn: 0.2605533\ttotal: 327ms\tremaining: 416ms\n",
      "88:\tlearn: 0.2595138\ttotal: 330ms\tremaining: 411ms\n",
      "89:\tlearn: 0.2585753\ttotal: 333ms\tremaining: 407ms\n",
      "90:\tlearn: 0.2569455\ttotal: 336ms\tremaining: 402ms\n",
      "91:\tlearn: 0.2560611\ttotal: 339ms\tremaining: 398ms\n",
      "92:\tlearn: 0.2544070\ttotal: 342ms\tremaining: 394ms\n",
      "93:\tlearn: 0.2517868\ttotal: 345ms\tremaining: 389ms\n",
      "94:\tlearn: 0.2507386\ttotal: 349ms\tremaining: 385ms\n",
      "95:\tlearn: 0.2495004\ttotal: 352ms\tremaining: 381ms\n",
      "96:\tlearn: 0.2474200\ttotal: 355ms\tremaining: 377ms\n",
      "97:\tlearn: 0.2461638\ttotal: 359ms\tremaining: 373ms\n",
      "98:\tlearn: 0.2450345\ttotal: 362ms\tremaining: 369ms\n",
      "99:\tlearn: 0.2444111\ttotal: 366ms\tremaining: 366ms\n",
      "100:\tlearn: 0.2437353\ttotal: 369ms\tremaining: 362ms\n",
      "101:\tlearn: 0.2431478\ttotal: 373ms\tremaining: 358ms\n",
      "102:\tlearn: 0.2418609\ttotal: 376ms\tremaining: 354ms\n",
      "103:\tlearn: 0.2410050\ttotal: 380ms\tremaining: 351ms\n",
      "104:\tlearn: 0.2404146\ttotal: 384ms\tremaining: 348ms\n",
      "105:\tlearn: 0.2383649\ttotal: 388ms\tremaining: 344ms\n",
      "106:\tlearn: 0.2375381\ttotal: 392ms\tremaining: 341ms\n",
      "107:\tlearn: 0.2356240\ttotal: 396ms\tremaining: 337ms\n",
      "108:\tlearn: 0.2348428\ttotal: 400ms\tremaining: 334ms\n",
      "109:\tlearn: 0.2339522\ttotal: 402ms\tremaining: 329ms\n",
      "110:\tlearn: 0.2323986\ttotal: 406ms\tremaining: 325ms\n",
      "111:\tlearn: 0.2311732\ttotal: 409ms\tremaining: 322ms\n",
      "112:\tlearn: 0.2300730\ttotal: 413ms\tremaining: 318ms\n",
      "113:\tlearn: 0.2292724\ttotal: 416ms\tremaining: 314ms\n",
      "114:\tlearn: 0.2286512\ttotal: 419ms\tremaining: 310ms\n",
      "115:\tlearn: 0.2267089\ttotal: 422ms\tremaining: 306ms\n",
      "116:\tlearn: 0.2256888\ttotal: 426ms\tremaining: 302ms\n",
      "117:\tlearn: 0.2250617\ttotal: 429ms\tremaining: 298ms\n",
      "118:\tlearn: 0.2242462\ttotal: 433ms\tremaining: 294ms\n",
      "119:\tlearn: 0.2233604\ttotal: 438ms\tremaining: 292ms\n",
      "120:\tlearn: 0.2222975\ttotal: 443ms\tremaining: 289ms\n",
      "121:\tlearn: 0.2217859\ttotal: 447ms\tremaining: 286ms\n",
      "122:\tlearn: 0.2206889\ttotal: 452ms\tremaining: 283ms\n",
      "123:\tlearn: 0.2184409\ttotal: 456ms\tremaining: 279ms\n",
      "124:\tlearn: 0.2175196\ttotal: 460ms\tremaining: 276ms\n",
      "125:\tlearn: 0.2156052\ttotal: 466ms\tremaining: 274ms\n",
      "126:\tlearn: 0.2149540\ttotal: 473ms\tremaining: 272ms\n",
      "127:\tlearn: 0.2133339\ttotal: 478ms\tremaining: 269ms\n",
      "128:\tlearn: 0.2120956\ttotal: 483ms\tremaining: 266ms\n",
      "129:\tlearn: 0.2102807\ttotal: 487ms\tremaining: 262ms\n",
      "130:\tlearn: 0.2091413\ttotal: 491ms\tremaining: 259ms\n",
      "131:\tlearn: 0.2083858\ttotal: 495ms\tremaining: 255ms\n",
      "132:\tlearn: 0.2082139\ttotal: 496ms\tremaining: 250ms\n",
      "133:\tlearn: 0.2075806\ttotal: 500ms\tremaining: 246ms\n",
      "134:\tlearn: 0.2065749\ttotal: 503ms\tremaining: 242ms\n",
      "135:\tlearn: 0.2056529\ttotal: 506ms\tremaining: 238ms\n",
      "136:\tlearn: 0.2050428\ttotal: 511ms\tremaining: 235ms\n",
      "137:\tlearn: 0.2044387\ttotal: 516ms\tremaining: 232ms\n",
      "138:\tlearn: 0.2039460\ttotal: 521ms\tremaining: 228ms\n",
      "139:\tlearn: 0.2023206\ttotal: 525ms\tremaining: 225ms\n",
      "140:\tlearn: 0.2013544\ttotal: 529ms\tremaining: 221ms\n",
      "141:\tlearn: 0.2001691\ttotal: 533ms\tremaining: 218ms\n",
      "142:\tlearn: 0.1991756\ttotal: 536ms\tremaining: 214ms\n",
      "143:\tlearn: 0.1982775\ttotal: 539ms\tremaining: 210ms\n",
      "144:\tlearn: 0.1972000\ttotal: 542ms\tremaining: 206ms\n",
      "145:\tlearn: 0.1954370\ttotal: 545ms\tremaining: 202ms\n",
      "146:\tlearn: 0.1943625\ttotal: 548ms\tremaining: 198ms\n",
      "147:\tlearn: 0.1933603\ttotal: 551ms\tremaining: 194ms\n",
      "148:\tlearn: 0.1923451\ttotal: 554ms\tremaining: 190ms\n",
      "149:\tlearn: 0.1909043\ttotal: 558ms\tremaining: 186ms\n",
      "150:\tlearn: 0.1900798\ttotal: 560ms\tremaining: 182ms\n",
      "151:\tlearn: 0.1896075\ttotal: 563ms\tremaining: 178ms\n",
      "152:\tlearn: 0.1886362\ttotal: 566ms\tremaining: 174ms\n",
      "153:\tlearn: 0.1879743\ttotal: 568ms\tremaining: 170ms\n",
      "154:\tlearn: 0.1872903\ttotal: 571ms\tremaining: 166ms\n",
      "155:\tlearn: 0.1858487\ttotal: 573ms\tremaining: 162ms\n",
      "156:\tlearn: 0.1847557\ttotal: 578ms\tremaining: 158ms\n",
      "157:\tlearn: 0.1834748\ttotal: 583ms\tremaining: 155ms\n",
      "158:\tlearn: 0.1827393\ttotal: 588ms\tremaining: 152ms\n",
      "159:\tlearn: 0.1820029\ttotal: 592ms\tremaining: 148ms\n",
      "160:\tlearn: 0.1814870\ttotal: 596ms\tremaining: 144ms\n",
      "161:\tlearn: 0.1807143\ttotal: 599ms\tremaining: 141ms\n",
      "162:\tlearn: 0.1788792\ttotal: 602ms\tremaining: 137ms\n",
      "163:\tlearn: 0.1781223\ttotal: 606ms\tremaining: 133ms\n",
      "164:\tlearn: 0.1778573\ttotal: 609ms\tremaining: 129ms\n",
      "165:\tlearn: 0.1774994\ttotal: 612ms\tremaining: 125ms\n",
      "166:\tlearn: 0.1766472\ttotal: 615ms\tremaining: 122ms\n",
      "167:\tlearn: 0.1753854\ttotal: 618ms\tremaining: 118ms\n",
      "168:\tlearn: 0.1740620\ttotal: 621ms\tremaining: 114ms\n",
      "169:\tlearn: 0.1731421\ttotal: 624ms\tremaining: 110ms\n",
      "170:\tlearn: 0.1723542\ttotal: 627ms\tremaining: 106ms\n",
      "171:\tlearn: 0.1716360\ttotal: 629ms\tremaining: 102ms\n",
      "172:\tlearn: 0.1705085\ttotal: 632ms\tremaining: 98.7ms\n",
      "173:\tlearn: 0.1694723\ttotal: 635ms\tremaining: 94.9ms\n",
      "174:\tlearn: 0.1688626\ttotal: 638ms\tremaining: 91.2ms\n",
      "175:\tlearn: 0.1682950\ttotal: 641ms\tremaining: 87.4ms\n",
      "176:\tlearn: 0.1674069\ttotal: 644ms\tremaining: 83.7ms\n",
      "177:\tlearn: 0.1672303\ttotal: 647ms\tremaining: 80ms\n",
      "178:\tlearn: 0.1666822\ttotal: 650ms\tremaining: 76.2ms\n",
      "179:\tlearn: 0.1660508\ttotal: 653ms\tremaining: 72.5ms\n",
      "180:\tlearn: 0.1653085\ttotal: 655ms\tremaining: 68.8ms\n",
      "181:\tlearn: 0.1643963\ttotal: 658ms\tremaining: 65.1ms\n",
      "182:\tlearn: 0.1635574\ttotal: 661ms\tremaining: 61.4ms\n",
      "183:\tlearn: 0.1627505\ttotal: 664ms\tremaining: 57.7ms\n",
      "184:\tlearn: 0.1620530\ttotal: 667ms\tremaining: 54ms\n",
      "185:\tlearn: 0.1616087\ttotal: 669ms\tremaining: 50.4ms\n",
      "186:\tlearn: 0.1606996\ttotal: 672ms\tremaining: 46.7ms\n",
      "187:\tlearn: 0.1597629\ttotal: 675ms\tremaining: 43.1ms\n",
      "188:\tlearn: 0.1590408\ttotal: 678ms\tremaining: 39.4ms\n",
      "189:\tlearn: 0.1586038\ttotal: 681ms\tremaining: 35.8ms\n",
      "190:\tlearn: 0.1578480\ttotal: 684ms\tremaining: 32.2ms\n",
      "191:\tlearn: 0.1571188\ttotal: 687ms\tremaining: 28.6ms\n",
      "192:\tlearn: 0.1561423\ttotal: 689ms\tremaining: 25ms\n",
      "193:\tlearn: 0.1555195\ttotal: 692ms\tremaining: 21.4ms\n",
      "194:\tlearn: 0.1541191\ttotal: 695ms\tremaining: 17.8ms\n",
      "195:\tlearn: 0.1528584\ttotal: 698ms\tremaining: 14.2ms\n",
      "196:\tlearn: 0.1519591\ttotal: 701ms\tremaining: 10.7ms\n",
      "197:\tlearn: 0.1513487\ttotal: 704ms\tremaining: 7.11ms\n",
      "198:\tlearn: 0.1508775\ttotal: 707ms\tremaining: 3.55ms\n",
      "199:\tlearn: 0.1496718\ttotal: 710ms\tremaining: 0us\n"
     ]
    }
   ],
   "source": [
    "catb_cv_model = GridSearchCV(catb, catb_params, \n",
    "                             cv = 5, n_jobs = -1, verbose = 2).fit(X_train, y_train)"
   ]
  },
  {
   "cell_type": "code",
   "execution_count": 324,
   "metadata": {},
   "outputs": [
    {
     "data": {
      "text/plain": [
       "{'depth': 8, 'iterations': 200, 'learning_rate': 0.03}"
      ]
     },
     "execution_count": 324,
     "metadata": {},
     "output_type": "execute_result"
    }
   ],
   "source": [
    "catb_cv_model.best_params_"
   ]
  },
  {
   "cell_type": "code",
   "execution_count": 325,
   "metadata": {
    "collapsed": true,
    "jupyter": {
     "outputs_hidden": true
    }
   },
   "outputs": [
    {
     "name": "stdout",
     "output_type": "stream",
     "text": [
      "0:\tlearn: 0.6730562\ttotal: 4.81ms\tremaining: 957ms\n",
      "1:\tlearn: 0.6583303\ttotal: 9.04ms\tremaining: 896ms\n",
      "2:\tlearn: 0.6413852\ttotal: 12.5ms\tremaining: 822ms\n",
      "3:\tlearn: 0.6268405\ttotal: 15.8ms\tremaining: 772ms\n",
      "4:\tlearn: 0.6150883\ttotal: 19.7ms\tremaining: 768ms\n",
      "5:\tlearn: 0.5989093\ttotal: 23.8ms\tremaining: 769ms\n",
      "6:\tlearn: 0.5861303\ttotal: 27.3ms\tremaining: 754ms\n",
      "7:\tlearn: 0.5735117\ttotal: 30.5ms\tremaining: 731ms\n",
      "8:\tlearn: 0.5616370\ttotal: 34.5ms\tremaining: 732ms\n",
      "9:\tlearn: 0.5507706\ttotal: 38.5ms\tremaining: 732ms\n",
      "10:\tlearn: 0.5388394\ttotal: 42ms\tremaining: 721ms\n",
      "11:\tlearn: 0.5264516\ttotal: 45.6ms\tremaining: 715ms\n",
      "12:\tlearn: 0.5191660\ttotal: 48.9ms\tremaining: 704ms\n",
      "13:\tlearn: 0.5104459\ttotal: 52.2ms\tremaining: 694ms\n",
      "14:\tlearn: 0.5017018\ttotal: 55.5ms\tremaining: 684ms\n",
      "15:\tlearn: 0.4954928\ttotal: 58.5ms\tremaining: 673ms\n",
      "16:\tlearn: 0.4896817\ttotal: 61.6ms\tremaining: 663ms\n",
      "17:\tlearn: 0.4808546\ttotal: 64.6ms\tremaining: 653ms\n",
      "18:\tlearn: 0.4724010\ttotal: 67.9ms\tremaining: 647ms\n",
      "19:\tlearn: 0.4657244\ttotal: 71ms\tremaining: 639ms\n",
      "20:\tlearn: 0.4613432\ttotal: 74ms\tremaining: 631ms\n",
      "21:\tlearn: 0.4537068\ttotal: 77.2ms\tremaining: 625ms\n",
      "22:\tlearn: 0.4488883\ttotal: 81.1ms\tremaining: 624ms\n",
      "23:\tlearn: 0.4438466\ttotal: 84.5ms\tremaining: 620ms\n",
      "24:\tlearn: 0.4372028\ttotal: 88.1ms\tremaining: 617ms\n",
      "25:\tlearn: 0.4327993\ttotal: 90.8ms\tremaining: 608ms\n",
      "26:\tlearn: 0.4274812\ttotal: 93.5ms\tremaining: 599ms\n",
      "27:\tlearn: 0.4215002\ttotal: 96.2ms\tremaining: 591ms\n",
      "28:\tlearn: 0.4161126\ttotal: 98.8ms\tremaining: 583ms\n",
      "29:\tlearn: 0.4116830\ttotal: 102ms\tremaining: 579ms\n",
      "30:\tlearn: 0.4074000\ttotal: 105ms\tremaining: 571ms\n",
      "31:\tlearn: 0.4012367\ttotal: 107ms\tremaining: 563ms\n",
      "32:\tlearn: 0.3971203\ttotal: 110ms\tremaining: 556ms\n",
      "33:\tlearn: 0.3909248\ttotal: 112ms\tremaining: 548ms\n",
      "34:\tlearn: 0.3868997\ttotal: 115ms\tremaining: 541ms\n",
      "35:\tlearn: 0.3836984\ttotal: 117ms\tremaining: 535ms\n",
      "36:\tlearn: 0.3800295\ttotal: 120ms\tremaining: 530ms\n",
      "37:\tlearn: 0.3768893\ttotal: 123ms\tremaining: 525ms\n",
      "38:\tlearn: 0.3726886\ttotal: 126ms\tremaining: 522ms\n",
      "39:\tlearn: 0.3692111\ttotal: 129ms\tremaining: 517ms\n",
      "40:\tlearn: 0.3656284\ttotal: 132ms\tremaining: 513ms\n",
      "41:\tlearn: 0.3617278\ttotal: 135ms\tremaining: 508ms\n",
      "42:\tlearn: 0.3580843\ttotal: 138ms\tremaining: 503ms\n",
      "43:\tlearn: 0.3556401\ttotal: 140ms\tremaining: 498ms\n",
      "44:\tlearn: 0.3520825\ttotal: 143ms\tremaining: 493ms\n",
      "45:\tlearn: 0.3493779\ttotal: 146ms\tremaining: 489ms\n",
      "46:\tlearn: 0.3456837\ttotal: 150ms\tremaining: 487ms\n",
      "47:\tlearn: 0.3432794\ttotal: 153ms\tremaining: 483ms\n",
      "48:\tlearn: 0.3401259\ttotal: 157ms\tremaining: 484ms\n",
      "49:\tlearn: 0.3353722\ttotal: 160ms\tremaining: 479ms\n",
      "50:\tlearn: 0.3334148\ttotal: 166ms\tremaining: 486ms\n",
      "51:\tlearn: 0.3299847\ttotal: 173ms\tremaining: 491ms\n",
      "52:\tlearn: 0.3280110\ttotal: 179ms\tremaining: 497ms\n",
      "53:\tlearn: 0.3252961\ttotal: 186ms\tremaining: 502ms\n",
      "54:\tlearn: 0.3233621\ttotal: 192ms\tremaining: 507ms\n",
      "55:\tlearn: 0.3207172\ttotal: 199ms\tremaining: 511ms\n",
      "56:\tlearn: 0.3181249\ttotal: 207ms\tremaining: 518ms\n",
      "57:\tlearn: 0.3161254\ttotal: 213ms\tremaining: 521ms\n",
      "58:\tlearn: 0.3140861\ttotal: 217ms\tremaining: 518ms\n",
      "59:\tlearn: 0.3127501\ttotal: 219ms\tremaining: 512ms\n",
      "60:\tlearn: 0.3110175\ttotal: 223ms\tremaining: 508ms\n",
      "61:\tlearn: 0.3082383\ttotal: 226ms\tremaining: 503ms\n",
      "62:\tlearn: 0.3058924\ttotal: 229ms\tremaining: 497ms\n",
      "63:\tlearn: 0.3034503\ttotal: 231ms\tremaining: 492ms\n",
      "64:\tlearn: 0.3007585\ttotal: 234ms\tremaining: 486ms\n",
      "65:\tlearn: 0.2989303\ttotal: 238ms\tremaining: 483ms\n",
      "66:\tlearn: 0.2974695\ttotal: 240ms\tremaining: 477ms\n",
      "67:\tlearn: 0.2952234\ttotal: 243ms\tremaining: 472ms\n",
      "68:\tlearn: 0.2917672\ttotal: 246ms\tremaining: 466ms\n",
      "69:\tlearn: 0.2904015\ttotal: 247ms\tremaining: 458ms\n",
      "70:\tlearn: 0.2882877\ttotal: 249ms\tremaining: 453ms\n",
      "71:\tlearn: 0.2864031\ttotal: 252ms\tremaining: 448ms\n",
      "72:\tlearn: 0.2847410\ttotal: 254ms\tremaining: 443ms\n",
      "73:\tlearn: 0.2831286\ttotal: 257ms\tremaining: 437ms\n",
      "74:\tlearn: 0.2805571\ttotal: 259ms\tremaining: 432ms\n",
      "75:\tlearn: 0.2788848\ttotal: 262ms\tremaining: 428ms\n",
      "76:\tlearn: 0.2761907\ttotal: 265ms\tremaining: 424ms\n",
      "77:\tlearn: 0.2749625\ttotal: 268ms\tremaining: 419ms\n",
      "78:\tlearn: 0.2733984\ttotal: 271ms\tremaining: 415ms\n",
      "79:\tlearn: 0.2723307\ttotal: 274ms\tremaining: 411ms\n",
      "80:\tlearn: 0.2710214\ttotal: 276ms\tremaining: 406ms\n",
      "81:\tlearn: 0.2699080\ttotal: 279ms\tremaining: 402ms\n",
      "82:\tlearn: 0.2683451\ttotal: 282ms\tremaining: 397ms\n",
      "83:\tlearn: 0.2669487\ttotal: 284ms\tremaining: 393ms\n",
      "84:\tlearn: 0.2647716\ttotal: 287ms\tremaining: 388ms\n",
      "85:\tlearn: 0.2634680\ttotal: 290ms\tremaining: 384ms\n",
      "86:\tlearn: 0.2622303\ttotal: 293ms\tremaining: 380ms\n",
      "87:\tlearn: 0.2605533\ttotal: 295ms\tremaining: 376ms\n",
      "88:\tlearn: 0.2595138\ttotal: 298ms\tremaining: 372ms\n",
      "89:\tlearn: 0.2585753\ttotal: 301ms\tremaining: 368ms\n",
      "90:\tlearn: 0.2569455\ttotal: 304ms\tremaining: 364ms\n",
      "91:\tlearn: 0.2560611\ttotal: 307ms\tremaining: 360ms\n",
      "92:\tlearn: 0.2544070\ttotal: 310ms\tremaining: 356ms\n",
      "93:\tlearn: 0.2517868\ttotal: 313ms\tremaining: 353ms\n",
      "94:\tlearn: 0.2507386\ttotal: 316ms\tremaining: 349ms\n",
      "95:\tlearn: 0.2495004\ttotal: 319ms\tremaining: 345ms\n",
      "96:\tlearn: 0.2474200\ttotal: 321ms\tremaining: 341ms\n",
      "97:\tlearn: 0.2461638\ttotal: 324ms\tremaining: 337ms\n",
      "98:\tlearn: 0.2450345\ttotal: 327ms\tremaining: 333ms\n",
      "99:\tlearn: 0.2444111\ttotal: 329ms\tremaining: 329ms\n",
      "100:\tlearn: 0.2437353\ttotal: 332ms\tremaining: 326ms\n",
      "101:\tlearn: 0.2431478\ttotal: 335ms\tremaining: 322ms\n",
      "102:\tlearn: 0.2418609\ttotal: 337ms\tremaining: 318ms\n",
      "103:\tlearn: 0.2410050\ttotal: 340ms\tremaining: 314ms\n",
      "104:\tlearn: 0.2404146\ttotal: 343ms\tremaining: 310ms\n",
      "105:\tlearn: 0.2383649\ttotal: 346ms\tremaining: 307ms\n",
      "106:\tlearn: 0.2375381\ttotal: 348ms\tremaining: 303ms\n",
      "107:\tlearn: 0.2356240\ttotal: 351ms\tremaining: 299ms\n",
      "108:\tlearn: 0.2348428\ttotal: 353ms\tremaining: 295ms\n",
      "109:\tlearn: 0.2339522\ttotal: 355ms\tremaining: 291ms\n",
      "110:\tlearn: 0.2323986\ttotal: 358ms\tremaining: 287ms\n",
      "111:\tlearn: 0.2311732\ttotal: 361ms\tremaining: 283ms\n",
      "112:\tlearn: 0.2300730\ttotal: 363ms\tremaining: 280ms\n",
      "113:\tlearn: 0.2292724\ttotal: 366ms\tremaining: 276ms\n",
      "114:\tlearn: 0.2286512\ttotal: 369ms\tremaining: 273ms\n",
      "115:\tlearn: 0.2267089\ttotal: 372ms\tremaining: 269ms\n",
      "116:\tlearn: 0.2256888\ttotal: 375ms\tremaining: 266ms\n",
      "117:\tlearn: 0.2250617\ttotal: 378ms\tremaining: 262ms\n",
      "118:\tlearn: 0.2242462\ttotal: 380ms\tremaining: 259ms\n",
      "119:\tlearn: 0.2233604\ttotal: 383ms\tremaining: 255ms\n",
      "120:\tlearn: 0.2222975\ttotal: 386ms\tremaining: 252ms\n",
      "121:\tlearn: 0.2217859\ttotal: 389ms\tremaining: 249ms\n",
      "122:\tlearn: 0.2206889\ttotal: 391ms\tremaining: 245ms\n",
      "123:\tlearn: 0.2184409\ttotal: 394ms\tremaining: 241ms\n",
      "124:\tlearn: 0.2175196\ttotal: 396ms\tremaining: 238ms\n",
      "125:\tlearn: 0.2156052\ttotal: 399ms\tremaining: 234ms\n",
      "126:\tlearn: 0.2149540\ttotal: 401ms\tremaining: 231ms\n",
      "127:\tlearn: 0.2133339\ttotal: 404ms\tremaining: 227ms\n",
      "128:\tlearn: 0.2120956\ttotal: 407ms\tremaining: 224ms\n",
      "129:\tlearn: 0.2102807\ttotal: 409ms\tremaining: 220ms\n",
      "130:\tlearn: 0.2091413\ttotal: 412ms\tremaining: 217ms\n",
      "131:\tlearn: 0.2083858\ttotal: 414ms\tremaining: 214ms\n",
      "132:\tlearn: 0.2082139\ttotal: 415ms\tremaining: 209ms\n",
      "133:\tlearn: 0.2075806\ttotal: 418ms\tremaining: 206ms\n",
      "134:\tlearn: 0.2065749\ttotal: 421ms\tremaining: 203ms\n",
      "135:\tlearn: 0.2056529\ttotal: 423ms\tremaining: 199ms\n",
      "136:\tlearn: 0.2050428\ttotal: 426ms\tremaining: 196ms\n",
      "137:\tlearn: 0.2044387\ttotal: 428ms\tremaining: 192ms\n",
      "138:\tlearn: 0.2039460\ttotal: 431ms\tremaining: 189ms\n",
      "139:\tlearn: 0.2023206\ttotal: 433ms\tremaining: 186ms\n",
      "140:\tlearn: 0.2013544\ttotal: 436ms\tremaining: 182ms\n",
      "141:\tlearn: 0.2001691\ttotal: 438ms\tremaining: 179ms\n",
      "142:\tlearn: 0.1991756\ttotal: 441ms\tremaining: 176ms\n",
      "143:\tlearn: 0.1982775\ttotal: 444ms\tremaining: 173ms\n",
      "144:\tlearn: 0.1972000\ttotal: 447ms\tremaining: 169ms\n",
      "145:\tlearn: 0.1954370\ttotal: 449ms\tremaining: 166ms\n",
      "146:\tlearn: 0.1943625\ttotal: 452ms\tremaining: 163ms\n",
      "147:\tlearn: 0.1933603\ttotal: 455ms\tremaining: 160ms\n",
      "148:\tlearn: 0.1923451\ttotal: 458ms\tremaining: 157ms\n",
      "149:\tlearn: 0.1909043\ttotal: 461ms\tremaining: 154ms\n",
      "150:\tlearn: 0.1900798\ttotal: 463ms\tremaining: 150ms\n",
      "151:\tlearn: 0.1896075\ttotal: 466ms\tremaining: 147ms\n",
      "152:\tlearn: 0.1886362\ttotal: 469ms\tremaining: 144ms\n",
      "153:\tlearn: 0.1879743\ttotal: 472ms\tremaining: 141ms\n",
      "154:\tlearn: 0.1872903\ttotal: 475ms\tremaining: 138ms\n",
      "155:\tlearn: 0.1858487\ttotal: 477ms\tremaining: 135ms\n",
      "156:\tlearn: 0.1847557\ttotal: 480ms\tremaining: 131ms\n",
      "157:\tlearn: 0.1834748\ttotal: 482ms\tremaining: 128ms\n",
      "158:\tlearn: 0.1827393\ttotal: 485ms\tremaining: 125ms\n",
      "159:\tlearn: 0.1820029\ttotal: 487ms\tremaining: 122ms\n",
      "160:\tlearn: 0.1814870\ttotal: 490ms\tremaining: 119ms\n",
      "161:\tlearn: 0.1807143\ttotal: 493ms\tremaining: 116ms\n",
      "162:\tlearn: 0.1788792\ttotal: 496ms\tremaining: 113ms\n",
      "163:\tlearn: 0.1781223\ttotal: 498ms\tremaining: 109ms\n",
      "164:\tlearn: 0.1778573\ttotal: 501ms\tremaining: 106ms\n",
      "165:\tlearn: 0.1774994\ttotal: 503ms\tremaining: 103ms\n",
      "166:\tlearn: 0.1766472\ttotal: 506ms\tremaining: 100ms\n",
      "167:\tlearn: 0.1753854\ttotal: 508ms\tremaining: 96.9ms\n",
      "168:\tlearn: 0.1740620\ttotal: 512ms\tremaining: 93.9ms\n",
      "169:\tlearn: 0.1731421\ttotal: 518ms\tremaining: 91.3ms\n",
      "170:\tlearn: 0.1723542\ttotal: 520ms\tremaining: 88.2ms\n",
      "171:\tlearn: 0.1716360\ttotal: 523ms\tremaining: 85.1ms\n",
      "172:\tlearn: 0.1705085\ttotal: 526ms\tremaining: 82.1ms\n",
      "173:\tlearn: 0.1694723\ttotal: 529ms\tremaining: 79ms\n",
      "174:\tlearn: 0.1688626\ttotal: 531ms\tremaining: 75.9ms\n",
      "175:\tlearn: 0.1682950\ttotal: 534ms\tremaining: 72.9ms\n",
      "176:\tlearn: 0.1674069\ttotal: 537ms\tremaining: 69.8ms\n",
      "177:\tlearn: 0.1672303\ttotal: 540ms\tremaining: 66.7ms\n",
      "178:\tlearn: 0.1666822\ttotal: 542ms\tremaining: 63.6ms\n",
      "179:\tlearn: 0.1660508\ttotal: 545ms\tremaining: 60.6ms\n",
      "180:\tlearn: 0.1653085\ttotal: 548ms\tremaining: 57.5ms\n",
      "181:\tlearn: 0.1643963\ttotal: 551ms\tremaining: 54.5ms\n",
      "182:\tlearn: 0.1635574\ttotal: 554ms\tremaining: 51.4ms\n",
      "183:\tlearn: 0.1627505\ttotal: 556ms\tremaining: 48.4ms\n",
      "184:\tlearn: 0.1620530\ttotal: 559ms\tremaining: 45.3ms\n",
      "185:\tlearn: 0.1616087\ttotal: 561ms\tremaining: 42.2ms\n",
      "186:\tlearn: 0.1606996\ttotal: 564ms\tremaining: 39.2ms\n",
      "187:\tlearn: 0.1597629\ttotal: 567ms\tremaining: 36.2ms\n",
      "188:\tlearn: 0.1590408\ttotal: 573ms\tremaining: 33.4ms\n",
      "189:\tlearn: 0.1586038\ttotal: 580ms\tremaining: 30.5ms\n",
      "190:\tlearn: 0.1578480\ttotal: 585ms\tremaining: 27.6ms\n",
      "191:\tlearn: 0.1571188\ttotal: 590ms\tremaining: 24.6ms\n",
      "192:\tlearn: 0.1561423\ttotal: 596ms\tremaining: 21.6ms\n",
      "193:\tlearn: 0.1555195\ttotal: 601ms\tremaining: 18.6ms\n",
      "194:\tlearn: 0.1541191\ttotal: 606ms\tremaining: 15.5ms\n",
      "195:\tlearn: 0.1528584\ttotal: 612ms\tremaining: 12.5ms\n",
      "196:\tlearn: 0.1519591\ttotal: 617ms\tremaining: 9.39ms\n",
      "197:\tlearn: 0.1513487\ttotal: 621ms\tremaining: 6.27ms\n",
      "198:\tlearn: 0.1508775\ttotal: 625ms\tremaining: 3.14ms\n",
      "199:\tlearn: 0.1496718\ttotal: 629ms\tremaining: 0us\n"
     ]
    }
   ],
   "source": [
    "catb_tuned = CatBoostClassifier(depth= 8, \n",
    "                                iterations= 200, # number of trees\n",
    "                                learning_rate= 0.03).fit(X_train, y_train)"
   ]
  },
  {
   "cell_type": "code",
   "execution_count": 326,
   "metadata": {},
   "outputs": [],
   "source": [
    "y_pred = catb_tuned.predict(X_test)"
   ]
  },
  {
   "cell_type": "code",
   "execution_count": 327,
   "metadata": {},
   "outputs": [
    {
     "data": {
      "text/plain": [
       "0.7489177489177489"
      ]
     },
     "execution_count": 327,
     "metadata": {},
     "output_type": "execute_result"
    }
   ],
   "source": [
    "accuracy_score(y_test, y_pred)"
   ]
  },
  {
   "cell_type": "code",
   "execution_count": 1,
   "metadata": {},
   "outputs": [
    {
     "ename": "NameError",
     "evalue": "name 'pd' is not defined",
     "output_type": "error",
     "traceback": [
      "\u001b[1;31m---------------------------------------------------------------------------\u001b[0m",
      "\u001b[1;31mNameError\u001b[0m                                 Traceback (most recent call last)",
      "\u001b[1;32m<ipython-input-1-292b62f296a8>\u001b[0m in \u001b[0;36m<module>\u001b[1;34m\u001b[0m\n\u001b[1;32m----> 1\u001b[1;33m feature_imp = pd.Series(catb_tuned.feature_importances_,\n\u001b[0m\u001b[0;32m      2\u001b[0m                         index=X_train.columns).sort_values(ascending=False)\n\u001b[0;32m      3\u001b[0m \u001b[1;33m\u001b[0m\u001b[0m\n\u001b[0;32m      4\u001b[0m \u001b[0msns\u001b[0m\u001b[1;33m.\u001b[0m\u001b[0mbarplot\u001b[0m\u001b[1;33m(\u001b[0m\u001b[0mx\u001b[0m\u001b[1;33m=\u001b[0m\u001b[0mfeature_imp\u001b[0m\u001b[1;33m,\u001b[0m \u001b[0my\u001b[0m\u001b[1;33m=\u001b[0m\u001b[0mfeature_imp\u001b[0m\u001b[1;33m.\u001b[0m\u001b[0mindex\u001b[0m\u001b[1;33m)\u001b[0m\u001b[1;33m\u001b[0m\u001b[1;33m\u001b[0m\u001b[0m\n\u001b[0;32m      5\u001b[0m \u001b[0mplt\u001b[0m\u001b[1;33m.\u001b[0m\u001b[0mxlabel\u001b[0m\u001b[1;33m(\u001b[0m\u001b[1;34m'Importance scores of variables'\u001b[0m\u001b[1;33m)\u001b[0m\u001b[1;33m\u001b[0m\u001b[1;33m\u001b[0m\u001b[0m\n",
      "\u001b[1;31mNameError\u001b[0m: name 'pd' is not defined"
     ]
    }
   ],
   "source": [
    "feature_imp = pd.Series(catb_tuned.feature_importances_,\n",
    "                        index=X_train.columns).sort_values(ascending=False)\n",
    "\n",
    "sns.barplot(x=feature_imp, y=feature_imp.index)\n",
    "plt.xlabel('Importance scores of variables')\n",
    "plt.ylabel('Variables')\n",
    "plt.title(\"Importance of variables\")\n",
    "plt.show()"
   ]
  },
  {
   "cell_type": "markdown",
   "metadata": {},
   "source": [
    "# Compare all tuned models"
   ]
  },
  {
   "cell_type": "code",
   "execution_count": 375,
   "metadata": {},
   "outputs": [],
   "source": [
    "models = [\n",
    "    knn_tuned,\n",
    "    loj_model,\n",
    "    svm_tuned,\n",
    "    mlpc_tuned,\n",
    "    cart_tuned,\n",
    "    rf_tuned,\n",
    "    gbm_tuned,\n",
    "    catb_tuned,\n",
    "    lgbm_tuned,\n",
    "    xgb_tuned]\n",
    "\n",
    "result = []\n",
    "results = pd.DataFrame(columns= [\"Models\",\"Accuracy\"])\n",
    "\n",
    "for model in models:\n",
    "    names = model.__class__.__name__\n",
    "    y_pred = model.predict(X_test)\n",
    "    accuracy = accuracy_score(y_test, y_pred)\n",
    "    result = pd.DataFrame([[names, accuracy*100]], columns= [\"Models\",\"Accuracy\"])\n",
    "    results = results.append(result)"
   ]
  },
  {
   "cell_type": "code",
   "execution_count": 376,
   "metadata": {},
   "outputs": [
    {
     "data": {
      "image/png": "[encoded data removed]",
      "text/plain": [
       "<Figure size 432x288 with 1 Axes>"
      ]
     },
     "metadata": {
      "needs_background": "light"
     },
     "output_type": "display_data"
    }
   ],
   "source": [
    "sns.barplot(x= 'Accuracy', y = 'Models', data=results, color=\"r\")\n",
    "plt.xlabel('Accuracy %')\n",
    "plt.title('Accuracy rates');"
   ]
  },
  {
   "cell_type": "code",
   "execution_count": 358,
   "metadata": {},
   "outputs": [
    {
     "data": {
      "text/html": [
       "<div>\n",
       "<style scoped>\n",
       "    .dataframe tbody tr th:only-of-type {\n",
       "        vertical-align: middle;\n",
       "    }\n",
       "\n",
       "    .dataframe tbody tr th {\n",
       "        vertical-align: top;\n",
       "    }\n",
       "\n",
       "    .dataframe thead th {\n",
       "        text-align: right;\n",
       "    }\n",
       "</style>\n",
       "<table border=\"1\" class=\"dataframe\">\n",
       "  <thead>\n",
       "    <tr style=\"text-align: right;\">\n",
       "      <th></th>\n",
       "      <th>Models</th>\n",
       "      <th>Accuracy</th>\n",
       "    </tr>\n",
       "  </thead>\n",
       "  <tbody>\n",
       "    <tr>\n",
       "      <th>0</th>\n",
       "      <td>KNeighborsClassifier</td>\n",
       "      <td>73.160173</td>\n",
       "    </tr>\n",
       "    <tr>\n",
       "      <th>0</th>\n",
       "      <td>LogisticRegression</td>\n",
       "      <td>75.324675</td>\n",
       "    </tr>\n",
       "    <tr>\n",
       "      <th>0</th>\n",
       "      <td>SVC</td>\n",
       "      <td>74.458874</td>\n",
       "    </tr>\n",
       "    <tr>\n",
       "      <th>0</th>\n",
       "      <td>MLPClassifier</td>\n",
       "      <td>36.363636</td>\n",
       "    </tr>\n",
       "    <tr>\n",
       "      <th>0</th>\n",
       "      <td>DecisionTreeClassifier</td>\n",
       "      <td>75.324675</td>\n",
       "    </tr>\n",
       "    <tr>\n",
       "      <th>0</th>\n",
       "      <td>RandomForestClassifier</td>\n",
       "      <td>74.458874</td>\n",
       "    </tr>\n",
       "    <tr>\n",
       "      <th>0</th>\n",
       "      <td>GradientBoostingClassifier</td>\n",
       "      <td>73.593074</td>\n",
       "    </tr>\n",
       "    <tr>\n",
       "      <th>0</th>\n",
       "      <td>CatBoostClassifier</td>\n",
       "      <td>74.891775</td>\n",
       "    </tr>\n",
       "    <tr>\n",
       "      <th>0</th>\n",
       "      <td>LGBMClassifier</td>\n",
       "      <td>75.757576</td>\n",
       "    </tr>\n",
       "    <tr>\n",
       "      <th>0</th>\n",
       "      <td>XGBClassifier</td>\n",
       "      <td>75.757576</td>\n",
       "    </tr>\n",
       "  </tbody>\n",
       "</table>\n",
       "</div>"
      ],
      "text/plain": [
       "                       Models   Accuracy\n",
       "0        KNeighborsClassifier  73.160173\n",
       "0          LogisticRegression  75.324675\n",
       "0                         SVC  74.458874\n",
       "0               MLPClassifier  36.363636\n",
       "0      DecisionTreeClassifier  75.324675\n",
       "0      RandomForestClassifier  74.458874\n",
       "0  GradientBoostingClassifier  73.593074\n",
       "0          CatBoostClassifier  74.891775\n",
       "0              LGBMClassifier  75.757576\n",
       "0               XGBClassifier  75.757576"
      ]
     },
     "execution_count": 358,
     "metadata": {},
     "output_type": "execute_result"
    }
   ],
   "source": [
    "results"
   ]
  },
  {
   "cell_type": "markdown",
   "metadata": {},
   "source": [
    "# Conclusion: As you see from the table above Logistic regression, LGBM model, decision tree and XGBoost has better accuracy than others for \"Diabetes\" dataset."
   ]
  },
  {
   "cell_type": "markdown",
   "metadata": {},
   "source": [
    "# What else we can do?"
   ]
  },
  {
   "cell_type": "markdown",
   "metadata": {},
   "source": [
    "1. Variable creation / Variable Engineering\n",
    "2. Feature selection: If we can have better accuracy with less feature this is better for understanding the data and result.We shoul compare the correlations of variables with each other. If we have variables that have high correlation, we can choose one of them and drop other one.\n",
    "3. Use automatic ML libraries\n",
    "4. Model deployment: In order to get the most value out of machine learning models, it is important to seamlessly deploy them into production so a business can start using them to make practical decisions."
   ]
  }
 ],
 "metadata": {
  "kernelspec": {
   "display_name": "Python 3",
   "language": "python",
   "name": "python3"
  },
  "language_info": {
   "codemirror_mode": {
    "name": "ipython",
    "version": 3
   },
   "file_extension": ".py",
   "mimetype": "text/x-python",
   "name": "python",
   "nbconvert_exporter": "python",
   "pygments_lexer": "ipython3",
   "version": "3.7.6"
  }
 },
 "nbformat": 4,
 "nbformat_minor": 4
}
